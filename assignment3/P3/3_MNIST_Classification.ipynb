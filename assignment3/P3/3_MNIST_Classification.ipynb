{
 "cells": [
  {
   "cell_type": "markdown",
   "metadata": {
    "id": "dAeR3wXSum22"
   },
   "source": [
    "<center> <b>Machine Learning - SBU FALL 2024</b></center>"
   ]
  },
  {
   "cell_type": "code",
   "execution_count": 35,
   "metadata": {
    "executionInfo": {
     "elapsed": 337,
     "status": "ok",
     "timestamp": 1734275105790,
     "user": {
      "displayName": "Moein Arabi",
      "userId": "05039560986281546271"
     },
     "user_tz": -210
    },
    "id": "tRyRtrnxum24"
   },
   "outputs": [],
   "source": [
    "Student_Number = '400243059'\n",
    "Name = 'Mohammad Moein'\n",
    "Last_Name = 'Arabi'"
   ]
  },
  {
   "cell_type": "markdown",
   "metadata": {
    "id": "S5p_JqgCx66W"
   },
   "source": [
    "# Connect to gDrive"
   ]
  },
  {
   "cell_type": "code",
   "execution_count": 36,
   "metadata": {
    "colab": {
     "base_uri": "https://localhost:8080/"
    },
    "executionInfo": {
     "elapsed": 2533,
     "status": "ok",
     "timestamp": 1734275108654,
     "user": {
      "displayName": "Moein Arabi",
      "userId": "05039560986281546271"
     },
     "user_tz": -210
    },
    "id": "xQnt7oPj_yeK",
    "outputId": "40201623-8e44-4ee4-b4d3-bda1e5c92d6e"
   },
   "outputs": [],
   "source": [
    "# from google.colab import drive\n",
    "# drive.mount('/content/drive')"
   ]
  },
  {
   "cell_type": "code",
   "execution_count": 37,
   "metadata": {
    "executionInfo": {
     "elapsed": 19,
     "status": "ok",
     "timestamp": 1734275108655,
     "user": {
      "displayName": "Moein Arabi",
      "userId": "05039560986281546271"
     },
     "user_tz": -210
    },
    "id": "dnQTNoM0jcdk"
   },
   "outputs": [],
   "source": [
    "import os\n",
    "\n",
    "# BASE_PATH = 'drive/MyDrive/ColabNotebooks/MNIST/'\n",
    "BASE_PATH = './'\n",
    "if not os.path.exists(BASE_PATH):\n",
    "    raise ValueError('path does not exist')"
   ]
  },
  {
   "cell_type": "markdown",
   "metadata": {
    "id": "31jdNrgkWCfj"
   },
   "source": [
    "# Imported Libraries"
   ]
  },
  {
   "cell_type": "code",
   "execution_count": 38,
   "metadata": {
    "executionInfo": {
     "elapsed": 18,
     "status": "ok",
     "timestamp": 1734275108655,
     "user": {
      "displayName": "Moein Arabi",
      "userId": "05039560986281546271"
     },
     "user_tz": -210
    },
    "id": "mBW9l5srum25"
   },
   "outputs": [],
   "source": [
    "import os\n",
    "import copy\n",
    "import pickle\n",
    "\n",
    "from tqdm.notebook import tqdm\n",
    "import torch\n",
    "import torch.nn as nn               # For building neural network layers\n",
    "import torch.optim as optim         # For optimizers (SGD, Adam, etc.)\n",
    "import torch.nn.functional as F     # For activation functions and other operations\n",
    "from torchvision import datasets, transforms  # For MNIST dataset and data preprocessing if its needed\n",
    "from torch.utils.data import DataLoader       # For batching and shuffling data\n",
    "\n",
    "# Additional libraries for visualization and analysis\n",
    "import matplotlib.pyplot as plt     # For plotting graphs and visualizations\n",
    "import numpy as np                  # For numerical operations\n",
    "import seaborn as sns               # For plotting the confusion matrix heatmap\n",
    "from sklearn.metrics import confusion_matrix  # For computing the confusion matrix"
   ]
  },
  {
   "cell_type": "code",
   "execution_count": 39,
   "metadata": {
    "executionInfo": {
     "elapsed": 17,
     "status": "ok",
     "timestamp": 1734275108655,
     "user": {
      "displayName": "Moein Arabi",
      "userId": "05039560986281546271"
     },
     "user_tz": -210
    },
    "id": "pT1XQyEpxw4B"
   },
   "outputs": [],
   "source": [
    "from IPython.core.magic import register_cell_magic\n",
    "\n",
    "@register_cell_magic\n",
    "def skip(line, cell):\n",
    "    return"
   ]
  },
  {
   "cell_type": "markdown",
   "metadata": {
    "id": "Y9RkIPvEtjVk"
   },
   "source": [
    "# Build a Model for the MNIST Dataset\n"
   ]
  },
  {
   "cell_type": "markdown",
   "metadata": {
    "id": "WQhCgMOpWCfr"
   },
   "source": [
    "## Objective\n",
    "\n",
    "In this Notebook, your goal is to build a machine learning model that achieves an accuracy of **98% or higher** on the MNIST dataset. The MNIST dataset contains images of handwritten digits (0-9), and it’s a popular benchmark for evaluating classification models. To achieve this accuracy threshold, you’ll need to carefully design, train, and evaluate your model.\n",
    "\n",
    "\n",
    "Using only the provided libraries, you will:\n",
    "1. **Load and preprocess** the MNIST data.\n",
    "2. **Build** a neural network model suitable for image classification.\n",
    "3. **Train** the model on the training data, monitoring accuracy and adjusting parameters as needed.\n",
    "4. **Evaluate** the model on the test data to ensure it meets the required accuracy threshold.\n",
    "\n",
    "Each cell in this section will guide you through these steps, with descriptions explaining the purpose of each step and what you need to do. Follow the instructions carefully, and use your understanding of neural networks to achieve the best possible performance on the MNIST dataset."
   ]
  },
  {
   "cell_type": "markdown",
   "metadata": {
    "id": "9xL7M6sItjVm"
   },
   "source": [
    "## Step 1: Loading and Preprocessing the MNIST Dataset\n"
   ]
  },
  {
   "cell_type": "markdown",
   "metadata": {
    "id": "_32shWkIWCfs"
   },
   "source": [
    "In this cell, you will:\n",
    "1. **Load the MNIST dataset**: This dataset consists of 28x28 grayscale images of handwritten digits (0–9). Each image is represented as a 28x28 array of pixel values, and each label corresponds to the digit in the image.\n",
    "   \n",
    "2. **Define key variables**:\n",
    "   - `num_classes`: The number of unique classes in the dataset (0–9).\n",
    "   - `input_shape`: The shape of each image, which will help in defining the model's input layer.\n",
    "   - `num_features`: The total number of pixels in each image, useful if you need to flatten the images into a 1D vector for the model.\n",
    "\n",
    "3. **Normalize the pixel values**: The pixel values are divided by 255 to rescale them from their original range of 0–255 to a range of 0–1. This normalization step helps the model converge faster and improves performance.\n",
    "\n",
    "4. **One-hot encode the labels**: Convert the labels into a one-hot encoded format. Instead of representing the labels as single integers (e.g., `3` for the digit 3), one-hot encoding represents each label as a binary vector (e.g., `[0, 0, 0, 1, 0, 0, 0, 0, 0, 0]` for the digit 3). This format is commonly used for multi-class classification problems and is required for training neural networks effectively.\n",
    "\n",
    "By the end of this cell, your data will be ready for building and training the model."
   ]
  },
  {
   "cell_type": "code",
   "execution_count": 40,
   "metadata": {
    "executionInfo": {
     "elapsed": 17,
     "status": "ok",
     "timestamp": 1734275108655,
     "user": {
      "displayName": "Moein Arabi",
      "userId": "05039560986281546271"
     },
     "user_tz": -210
    },
    "id": "OpzdWGZ7WCfs"
   },
   "outputs": [],
   "source": [
    "# Load the MNIST dataset\n",
    "train, test = datasets.MNIST(root='.', train=True, download=True), datasets.MNIST(root='.', train=False, download=True)"
   ]
  },
  {
   "cell_type": "code",
   "execution_count": 41,
   "metadata": {
    "colab": {
     "base_uri": "https://localhost:8080/"
    },
    "executionInfo": {
     "elapsed": 16,
     "status": "ok",
     "timestamp": 1734275108655,
     "user": {
      "displayName": "Moein Arabi",
      "userId": "05039560986281546271"
     },
     "user_tz": -210
    },
    "id": "K6kxGER5um26",
    "outputId": "7feeefb4-aad1-4ca6-af04-8141d7d5f531"
   },
   "outputs": [
    {
     "name": "stderr",
     "output_type": "stream",
     "text": [
      "C:\\Users\\asus\\AppData\\Local\\Temp\\ipykernel_22140\\2191496667.py:1: UserWarning: To copy construct from a tensor, it is recommended to use sourceTensor.clone().detach() or sourceTensor.clone().detach().requires_grad_(True), rather than torch.tensor(sourceTensor).\n",
      "  x_train, y_train = torch.tensor(train.data), torch.tensor(train.targets)\n",
      "C:\\Users\\asus\\AppData\\Local\\Temp\\ipykernel_22140\\2191496667.py:2: UserWarning: To copy construct from a tensor, it is recommended to use sourceTensor.clone().detach() or sourceTensor.clone().detach().requires_grad_(True), rather than torch.tensor(sourceTensor).\n",
      "  x_test, y_test = torch.tensor(test.data), torch.tensor(test.targets)\n"
     ]
    }
   ],
   "source": [
    "x_train, y_train = torch.tensor(train.data), torch.tensor(train.targets)\n",
    "x_test, y_test = torch.tensor(test.data), torch.tensor(test.targets)\n",
    "num_classes = len(np.unique(y_train))\n",
    "input_shape = x_train.shape[1:]\n",
    "num_features = np.prod(input_shape)"
   ]
  },
  {
   "cell_type": "code",
   "execution_count": 42,
   "metadata": {
    "colab": {
     "base_uri": "https://localhost:8080/"
    },
    "executionInfo": {
     "elapsed": 10,
     "status": "ok",
     "timestamp": 1734275108655,
     "user": {
      "displayName": "Moein Arabi",
      "userId": "05039560986281546271"
     },
     "user_tz": -210
    },
    "id": "40pC7vR2um26",
    "outputId": "c343e2e8-7253-4c44-fb0d-80ed31cb3e31"
   },
   "outputs": [
    {
     "data": {
      "text/plain": [
       "torch.Size([60000, 28, 28])"
      ]
     },
     "execution_count": 42,
     "metadata": {},
     "output_type": "execute_result"
    }
   ],
   "source": [
    "x_train.shape"
   ]
  },
  {
   "cell_type": "code",
   "execution_count": 43,
   "metadata": {
    "colab": {
     "base_uri": "https://localhost:8080/"
    },
    "executionInfo": {
     "elapsed": 544,
     "status": "ok",
     "timestamp": 1734275109194,
     "user": {
      "displayName": "Moein Arabi",
      "userId": "05039560986281546271"
     },
     "user_tz": -210
    },
    "id": "o-iuz5djum26",
    "outputId": "c633f775-993f-4b51-f8d7-5598ca4b47c6"
   },
   "outputs": [
    {
     "name": "stdout",
     "output_type": "stream",
     "text": [
      "torch.float32 torch.float32\n"
     ]
    }
   ],
   "source": [
    "x_train = x_train.float()\n",
    "x_test = x_test.float()\n",
    "print(x_train.dtype, x_test.dtype)"
   ]
  },
  {
   "cell_type": "code",
   "execution_count": 44,
   "metadata": {
    "colab": {
     "base_uri": "https://localhost:8080/"
    },
    "executionInfo": {
     "elapsed": 10,
     "status": "ok",
     "timestamp": 1734275109194,
     "user": {
      "displayName": "Moein Arabi",
      "userId": "05039560986281546271"
     },
     "user_tz": -210
    },
    "id": "By4cOdRMum26",
    "outputId": "7d6e3fd4-c880-4f52-e91b-c1d4ccfa0cb6"
   },
   "outputs": [
    {
     "data": {
      "text/plain": [
       "tensor([5, 0, 4,  ..., 5, 6, 8])"
      ]
     },
     "execution_count": 44,
     "metadata": {},
     "output_type": "execute_result"
    }
   ],
   "source": [
    "y_train"
   ]
  },
  {
   "cell_type": "code",
   "execution_count": 45,
   "metadata": {
    "colab": {
     "base_uri": "https://localhost:8080/"
    },
    "executionInfo": {
     "elapsed": 8,
     "status": "ok",
     "timestamp": 1734275109194,
     "user": {
      "displayName": "Moein Arabi",
      "userId": "05039560986281546271"
     },
     "user_tz": -210
    },
    "id": "7r1PltHGum26",
    "outputId": "43ced0cd-30a0-43a2-cea2-c7be6010538f"
   },
   "outputs": [
    {
     "name": "stdout",
     "output_type": "stream",
     "text": [
      "Number of training samples: 60000\n",
      "Number of test samples: 10000\n",
      "Image shape: torch.Size([28, 28])\n",
      "Number of classes: 10\n",
      "Number of features: 784\n"
     ]
    }
   ],
   "source": [
    "print('Number of training samples:', len(train))\n",
    "print('Number of test samples:', len(test))\n",
    "print('Image shape:', input_shape)\n",
    "print('Number of classes:', num_classes)\n",
    "print('Number of features:', num_features)"
   ]
  },
  {
   "cell_type": "markdown",
   "metadata": {
    "id": "94bGEnpsum27"
   },
   "source": [
    "### Plot"
   ]
  },
  {
   "cell_type": "code",
   "execution_count": 46,
   "metadata": {
    "colab": {
     "base_uri": "https://localhost:8080/",
     "height": 853
    },
    "executionInfo": {
     "elapsed": 3829,
     "status": "ok",
     "timestamp": 1734275113018,
     "user": {
      "displayName": "Moein Arabi",
      "userId": "05039560986281546271"
     },
     "user_tz": -210
    },
    "id": "8ZLsjRHzum27",
    "outputId": "46a3e0cb-380d-402c-dc99-b36cc3da71d1"
   },
   "outputs": [
    {
     "data": {
      "image/png": "[encoded data removed]",
      "text/plain": [
       "<Figure size 1000x1000 with 25 Axes>"
      ]
     },
     "metadata": {},
     "output_type": "display_data"
    }
   ],
   "source": [
    "image_for_plot = x_train[:25, :, :]\n",
    "plt.figure(figsize=(10, 10))\n",
    "for i in range(25):\n",
    "    plt.subplot(5, 5, i + 1)\n",
    "    plt.imshow(image_for_plot[i], cmap='gray')\n",
    "    plt.title(y_train[i].item())\n",
    "    plt.axis('off')"
   ]
  },
  {
   "cell_type": "markdown",
   "metadata": {
    "id": "s_3dLF_yum27"
   },
   "source": [
    "### Normalization"
   ]
  },
  {
   "cell_type": "code",
   "execution_count": 47,
   "metadata": {
    "executionInfo": {
     "elapsed": 10,
     "status": "ok",
     "timestamp": 1734275113018,
     "user": {
      "displayName": "Moein Arabi",
      "userId": "05039560986281546271"
     },
     "user_tz": -210
    },
    "id": "NhtPxkAVum27"
   },
   "outputs": [],
   "source": [
    "# Normalize the pixel values and one-hot encode the labels\n",
    "x_train /= 255\n",
    "x_test /= 255\n",
    "assert x_train.max() <= 1.0\n",
    "assert x_test.max() <= 1.0"
   ]
  },
  {
   "cell_type": "code",
   "execution_count": 48,
   "metadata": {
    "executionInfo": {
     "elapsed": 1185,
     "status": "ok",
     "timestamp": 1734275114195,
     "user": {
      "displayName": "Moein Arabi",
      "userId": "05039560986281546271"
     },
     "user_tz": -210
    },
    "id": "7LuWPvbrum27"
   },
   "outputs": [],
   "source": [
    "# Convert labels to one-hot encoding\n",
    "def one_hot(y, num_classes) -> torch.Tensor:\n",
    "    one_hot = torch.zeros(num_classes)\n",
    "    one_hot[y] = 1\n",
    "    return one_hot\n",
    "\n",
    "y_train = torch.stack([one_hot(y, num_classes) for y in y_train])\n",
    "y_test = torch.stack([one_hot(y, num_classes) for y in y_test])"
   ]
  },
  {
   "cell_type": "code",
   "execution_count": 49,
   "metadata": {
    "colab": {
     "base_uri": "https://localhost:8080/"
    },
    "executionInfo": {
     "elapsed": 30,
     "status": "ok",
     "timestamp": 1734275114196,
     "user": {
      "displayName": "Moein Arabi",
      "userId": "05039560986281546271"
     },
     "user_tz": -210
    },
    "id": "93cWmdMRum27",
    "outputId": "f4995683-507f-475d-d604-99f12bd2f9c6"
   },
   "outputs": [
    {
     "name": "stdout",
     "output_type": "stream",
     "text": [
      "torch.Size([60000, 10]) torch.Size([10000, 10])\n"
     ]
    }
   ],
   "source": [
    "print(y_train.shape, y_test.shape)"
   ]
  },
  {
   "cell_type": "markdown",
   "metadata": {
    "id": "XQiCIdzQtjVt"
   },
   "source": [
    "## Step 2: Building and Optimizing Your Model for MNIST"
   ]
  },
  {
   "cell_type": "markdown",
   "metadata": {
    "id": "FXzNKSVEWCfs"
   },
   "source": [
    "Your goal in this cell is to build a neural network model that achieves an accuracy of **98% or higher** on the MNIST dataset. To achieve this, you will need to:\n",
    "1. **Define the model architecture**: You can experiment with the number of layers, units in each layer, and other architectural details to optimize your model’s performance.\n",
    "2. **Choose an optimizer**: Test different optimizers (SGD, Adagrad, RMSprop, Adam) and fine-tune their hyperparameters (such as learning rate, momentum, etc.).\n",
    "3. **Search for optimal hyperparameters**: You can use hyperparameter tuning methods such as **Hyperband**, **Random Search**, or **Bayesian Optimization** to find the best hyperparameter values efficiently.\n",
    "\n",
    "### Available Tuning Options\n",
    "\n",
    "- **Hyperband**: Efficiently finds the best hyperparameters by exploring a wide range and narrowing down based on performance.\n",
    "- **Random Search**: Tries a random combination of hyperparameters within defined ranges.\n",
    "- **Bayesian Optimization**: Uses a probabilistic approach to find the best parameters based on past evaluations.\n",
    "\n",
    "### Final Task\n",
    "\n",
    "Once you’ve achieved a model with over **98% accuracy** on the MNIST test set:\n",
    "1. **Print the optimal hyperparameters** for your best-performing model.\n",
    "2. **Build and compile the model** using these optimal parameters.\n",
    "3. **Display the model summary** at the end of the cell.\n",
    "\n",
    "By following this approach, you will gain insights into how different optimizers and model configurations impact performance, ultimately helping you build an effective and efficient model for the MNIST dataset.\n",
    "\n",
    "\n",
    "### if you achieve the threshold before testing all the items above you must continue and interpert the result and the change effect!"
   ]
  },
  {
   "cell_type": "markdown",
   "metadata": {
    "id": "g0DExS9ByRsn"
   },
   "source": [
    "### Test how to create a model"
   ]
  },
  {
   "cell_type": "markdown",
   "metadata": {
    "id": "kitWzu5dum28"
   },
   "source": [
    "#### Flatten the 2D image data to 1D"
   ]
  },
  {
   "cell_type": "code",
   "execution_count": 50,
   "metadata": {
    "colab": {
     "base_uri": "https://localhost:8080/"
    },
    "executionInfo": {
     "elapsed": 24,
     "status": "ok",
     "timestamp": 1734275114196,
     "user": {
      "displayName": "Moein Arabi",
      "userId": "05039560986281546271"
     },
     "user_tz": -210
    },
    "id": "wROlA9bjum28",
    "outputId": "978a51ca-ad98-41f8-f7a2-5873c3d29963"
   },
   "outputs": [
    {
     "name": "stdout",
     "output_type": "stream",
     "text": [
      "torch.Size([60000, 784])\n"
     ]
    }
   ],
   "source": [
    "flatten = nn.Flatten()\n",
    "flat_image = flatten(x_train)\n",
    "print(flat_image.shape)"
   ]
  },
  {
   "cell_type": "markdown",
   "metadata": {
    "id": "_CoyGl9oum28"
   },
   "source": [
    "#### Making a linear layer with 20 neurons"
   ]
  },
  {
   "cell_type": "code",
   "execution_count": 51,
   "metadata": {
    "colab": {
     "base_uri": "https://localhost:8080/"
    },
    "executionInfo": {
     "elapsed": 22,
     "status": "ok",
     "timestamp": 1734275114196,
     "user": {
      "displayName": "Moein Arabi",
      "userId": "05039560986281546271"
     },
     "user_tz": -210
    },
    "id": "bSJs3A2Kum28",
    "outputId": "a2a60a68-899a-473d-cb8c-ca3d4245b9f5"
   },
   "outputs": [
    {
     "name": "stdout",
     "output_type": "stream",
     "text": [
      "torch.Size([60000, 20])\n"
     ]
    }
   ],
   "source": [
    "layer1 = nn.Linear(in_features=28*28, out_features=20)\n",
    "hidden1 = layer1(flat_image)\n",
    "print(hidden1.size())"
   ]
  },
  {
   "cell_type": "code",
   "execution_count": 52,
   "metadata": {
    "colab": {
     "base_uri": "https://localhost:8080/"
    },
    "executionInfo": {
     "elapsed": 20,
     "status": "ok",
     "timestamp": 1734275114196,
     "user": {
      "displayName": "Moein Arabi",
      "userId": "05039560986281546271"
     },
     "user_tz": -210
    },
    "id": "uRBH1lyYum28",
    "outputId": "9956ca61-e493-495f-b64b-c8d7f6035139"
   },
   "outputs": [
    {
     "name": "stdout",
     "output_type": "stream",
     "text": [
      "Before ReLU: tensor([[ 0.0220, -0.2855,  0.2133,  ...,  0.2060, -0.3863,  0.2551],\n",
      "        [ 0.1837, -0.1352,  0.3037,  ...,  0.2044, -0.0426,  0.2297],\n",
      "        [ 0.1423, -0.3601,  0.0227,  ...,  0.0128, -0.1224, -0.1511],\n",
      "        ...,\n",
      "        [-0.1452, -0.0688,  0.1702,  ...,  0.0858, -0.3276,  0.1825],\n",
      "        [ 0.0119, -0.1439,  0.2578,  ...,  0.1457, -0.0099,  0.0770],\n",
      "        [ 0.0527, -0.1724, -0.1114,  ...,  0.2607, -0.2083, -0.1505]],\n",
      "       grad_fn=<AddmmBackward0>)\n",
      "\n",
      "\n",
      "After ReLU: tensor([[0.0220, 0.0000, 0.2133,  ..., 0.2060, 0.0000, 0.2551],\n",
      "        [0.1837, 0.0000, 0.3037,  ..., 0.2044, 0.0000, 0.2297],\n",
      "        [0.1423, 0.0000, 0.0227,  ..., 0.0128, 0.0000, 0.0000],\n",
      "        ...,\n",
      "        [0.0000, 0.0000, 0.1702,  ..., 0.0858, 0.0000, 0.1825],\n",
      "        [0.0119, 0.0000, 0.2578,  ..., 0.1457, 0.0000, 0.0770],\n",
      "        [0.0527, 0.0000, 0.0000,  ..., 0.2607, 0.0000, 0.0000]],\n",
      "       grad_fn=<ReluBackward0>)\n"
     ]
    }
   ],
   "source": [
    "print(f\"Before ReLU: {hidden1}\\n\\n\")\n",
    "hidden1 = nn.ReLU()(hidden1)\n",
    "print(f\"After ReLU: {hidden1}\")"
   ]
  },
  {
   "cell_type": "markdown",
   "metadata": {
    "id": "7PE9iNqVum28"
   },
   "source": [
    "#### Sequential model layers"
   ]
  },
  {
   "cell_type": "code",
   "execution_count": 53,
   "metadata": {
    "executionInfo": {
     "elapsed": 18,
     "status": "ok",
     "timestamp": 1734275114196,
     "user": {
      "displayName": "Moein Arabi",
      "userId": "05039560986281546271"
     },
     "user_tz": -210
    },
    "id": "ShrKOQADum29"
   },
   "outputs": [],
   "source": [
    "seq_modules = nn.Sequential(\n",
    "    flatten,\n",
    "    layer1,\n",
    "    nn.ReLU(),\n",
    "    nn.Linear(20, 10)\n",
    ")\n",
    "logits = seq_modules(x_train[:3, :, :])"
   ]
  },
  {
   "cell_type": "code",
   "execution_count": 54,
   "metadata": {
    "colab": {
     "base_uri": "https://localhost:8080/"
    },
    "executionInfo": {
     "elapsed": 17,
     "status": "ok",
     "timestamp": 1734275114196,
     "user": {
      "displayName": "Moein Arabi",
      "userId": "05039560986281546271"
     },
     "user_tz": -210
    },
    "id": "Q96sUQGPum29",
    "outputId": "81ba0b23-953b-4a7c-b7a4-cf292db51f45"
   },
   "outputs": [
    {
     "name": "stdout",
     "output_type": "stream",
     "text": [
      "torch.Size([3, 10])\n",
      "tensor([[-3.6038e-01,  1.5403e-02,  1.5504e-01, -2.4747e-01,  2.7361e-01,\n",
      "          1.4336e-01, -4.6776e-02, -3.0623e-02, -8.7093e-02,  3.5551e-04],\n",
      "        [-3.3828e-01,  1.4480e-01,  1.6177e-01, -3.1546e-01,  2.4802e-01,\n",
      "          1.3012e-01, -1.3953e-01, -1.2488e-01, -1.0426e-01, -4.8928e-02],\n",
      "        [-1.5329e-01,  8.5211e-02,  1.1279e-01, -8.1163e-02,  1.5263e-01,\n",
      "          1.9802e-01, -9.3294e-02, -1.6465e-01, -1.8653e-01, -2.4920e-02]],\n",
      "       grad_fn=<AddmmBackward0>)\n"
     ]
    }
   ],
   "source": [
    "print(logits.shape)\n",
    "print(logits)"
   ]
  },
  {
   "cell_type": "code",
   "execution_count": 55,
   "metadata": {
    "executionInfo": {
     "elapsed": 15,
     "status": "ok",
     "timestamp": 1734275114196,
     "user": {
      "displayName": "Moein Arabi",
      "userId": "05039560986281546271"
     },
     "user_tz": -210
    },
    "id": "dYiv44Frum29"
   },
   "outputs": [],
   "source": [
    "softmax = nn.Softmax(dim=1)\n",
    "pred_probab = softmax(logits)"
   ]
  },
  {
   "cell_type": "code",
   "execution_count": 56,
   "metadata": {
    "colab": {
     "base_uri": "https://localhost:8080/"
    },
    "executionInfo": {
     "elapsed": 15,
     "status": "ok",
     "timestamp": 1734275114196,
     "user": {
      "displayName": "Moein Arabi",
      "userId": "05039560986281546271"
     },
     "user_tz": -210
    },
    "id": "yShKVEdium29",
    "outputId": "1fcb4ef8-de2a-4811-f066-2d58d09ee54d"
   },
   "outputs": [
    {
     "name": "stdout",
     "output_type": "stream",
     "text": [
      "torch.Size([3, 10])\n",
      "tensor([[0.0699, 0.1018, 0.1171, 0.0783, 0.1318, 0.1157, 0.0957, 0.0973, 0.0919,\n",
      "         0.1003],\n",
      "        [0.0728, 0.1179, 0.1200, 0.0744, 0.1308, 0.1162, 0.0888, 0.0901, 0.0919,\n",
      "         0.0972],\n",
      "        [0.0863, 0.1096, 0.1127, 0.0928, 0.1172, 0.1227, 0.0917, 0.0854, 0.0835,\n",
      "         0.0982]], grad_fn=<SoftmaxBackward0>)\n"
     ]
    }
   ],
   "source": [
    "print(pred_probab.shape)\n",
    "print(pred_probab)"
   ]
  },
  {
   "cell_type": "markdown",
   "metadata": {},
   "source": [
    "### Move data to CUDA"
   ]
  },
  {
   "cell_type": "code",
   "execution_count": 57,
   "metadata": {},
   "outputs": [
    {
     "name": "stdout",
     "output_type": "stream",
     "text": [
      "Using cuda device\n"
     ]
    }
   ],
   "source": [
    "device = (\n",
    "    \"cuda\"\n",
    "    if torch.cuda.is_available()\n",
    "    else 'cpu'\n",
    ")\n",
    "print(f\"Using {device} device\")"
   ]
  },
  {
   "cell_type": "code",
   "execution_count": 58,
   "metadata": {},
   "outputs": [],
   "source": [
    "x_train = x_train.to(device)\n",
    "y_train = y_train.to(device)\n",
    "x_test = x_test.to(device)\n",
    "y_test = y_test.to(device)"
   ]
  },
  {
   "cell_type": "markdown",
   "metadata": {
    "id": "6sjbCP8Vum29"
   },
   "source": [
    "## Simple model"
   ]
  },
  {
   "cell_type": "markdown",
   "metadata": {
    "id": "6O_efqh_tjV7"
   },
   "source": [
    "### Defining model 1"
   ]
  },
  {
   "cell_type": "code",
   "execution_count": 59,
   "metadata": {
    "executionInfo": {
     "elapsed": 13,
     "status": "ok",
     "timestamp": 1734275114196,
     "user": {
      "displayName": "Moein Arabi",
      "userId": "05039560986281546271"
     },
     "user_tz": -210
    },
    "id": "kOsPYPImum29"
   },
   "outputs": [],
   "source": [
    "class NeuralNetwork(nn.Module):\n",
    "    def __init__(self):\n",
    "        super().__init__()\n",
    "        self.linear_relu_stack = nn.Sequential(\n",
    "            nn.Flatten(),\n",
    "            nn.Linear(28*28, 512),\n",
    "            nn.ReLU(),\n",
    "            nn.Linear(512, 512),\n",
    "            nn.ReLU(),\n",
    "            nn.Linear(512, 10),\n",
    "            nn.Softmax(dim=1)\n",
    "        )\n",
    "\n",
    "    def forward(self, x):\n",
    "        logits = self.linear_relu_stack(x)\n",
    "        return logits"
   ]
  },
  {
   "cell_type": "code",
   "execution_count": 60,
   "metadata": {
    "executionInfo": {
     "elapsed": 13,
     "status": "ok",
     "timestamp": 1734275114196,
     "user": {
      "displayName": "Moein Arabi",
      "userId": "05039560986281546271"
     },
     "user_tz": -210
    },
    "id": "utnItED_um29"
   },
   "outputs": [],
   "source": [
    "learning_rate = 0.01\n",
    "model = NeuralNetwork().to(device)\n",
    "loss_fn = nn.CrossEntropyLoss()\n",
    "optimizer = torch.optim.SGD(model.parameters(), lr=learning_rate)"
   ]
  },
  {
   "cell_type": "code",
   "execution_count": 61,
   "metadata": {
    "executionInfo": {
     "elapsed": 12,
     "status": "ok",
     "timestamp": 1734275114196,
     "user": {
      "displayName": "Moein Arabi",
      "userId": "05039560986281546271"
     },
     "user_tz": -210
    },
    "id": "8rLADFT7um29"
   },
   "outputs": [],
   "source": [
    "pred = model(x_train[:3])\n",
    "loss = loss_fn(pred, y_train[:3])"
   ]
  },
  {
   "cell_type": "code",
   "execution_count": 62,
   "metadata": {
    "colab": {
     "base_uri": "https://localhost:8080/"
    },
    "executionInfo": {
     "elapsed": 13,
     "status": "ok",
     "timestamp": 1734275114197,
     "user": {
      "displayName": "Moein Arabi",
      "userId": "05039560986281546271"
     },
     "user_tz": -210
    },
    "id": "J7Jtvpu_um29",
    "outputId": "66fc8ad9-02f8-45c2-aa90-dde54d6ef01c"
   },
   "outputs": [
    {
     "name": "stdout",
     "output_type": "stream",
     "text": [
      "prediction: tensor([[0.0964, 0.1015, 0.0979, 0.1006, 0.0912, 0.1008, 0.1036, 0.1018, 0.1059,\n",
      "         0.1005],\n",
      "        [0.0972, 0.0983, 0.0959, 0.0991, 0.0911, 0.1033, 0.1031, 0.1050, 0.1079,\n",
      "         0.0991],\n",
      "        [0.0985, 0.1025, 0.0932, 0.1024, 0.0940, 0.1005, 0.1019, 0.0990, 0.1104,\n",
      "         0.0976]], device='cuda:0', grad_fn=<SoftmaxBackward0>)\n",
      "label: tensor([[0., 0., 0., 0., 0., 1., 0., 0., 0., 0.],\n",
      "        [1., 0., 0., 0., 0., 0., 0., 0., 0., 0.],\n",
      "        [0., 0., 0., 0., 1., 0., 0., 0., 0., 0.]], device='cuda:0')\n",
      "tensor(2.3053, device='cuda:0', grad_fn=<DivBackward1>)\n",
      "torch.Size([])\n"
     ]
    }
   ],
   "source": [
    "print(f'prediction: {pred}')\n",
    "print(f'label: {y_train[:3]}')\n",
    "print(loss)\n",
    "print(loss.shape)"
   ]
  },
  {
   "cell_type": "code",
   "execution_count": 63,
   "metadata": {
    "colab": {
     "base_uri": "https://localhost:8080/"
    },
    "executionInfo": {
     "elapsed": 11,
     "status": "ok",
     "timestamp": 1734275114197,
     "user": {
      "displayName": "Moein Arabi",
      "userId": "05039560986281546271"
     },
     "user_tz": -210
    },
    "id": "X4ltasNnum29",
    "outputId": "d6412de8-edaa-424a-b128-9b62a54ef357"
   },
   "outputs": [
    {
     "name": "stdout",
     "output_type": "stream",
     "text": [
      "tensor([False, False, False], device='cuda:0')\n",
      "tensor(0, device='cuda:0')\n"
     ]
    }
   ],
   "source": [
    "correct_predictions = (pred.argmax(dim=1) == y_train[:3].argmax(dim=1))\n",
    "print(correct_predictions)\n",
    "count = correct_predictions.type(torch.int8).sum()\n",
    "print(count)"
   ]
  },
  {
   "cell_type": "markdown",
   "metadata": {
    "id": "LZ1uQi3Qum29"
   },
   "source": [
    "### Train and test functions"
   ]
  },
  {
   "cell_type": "code",
   "execution_count": 64,
   "metadata": {
    "executionInfo": {
     "elapsed": 9,
     "status": "ok",
     "timestamp": 1734275114197,
     "user": {
      "displayName": "Moein Arabi",
      "userId": "05039560986281546271"
     },
     "user_tz": -210
    },
    "id": "8AmMUAMaum29"
   },
   "outputs": [],
   "source": [
    "def train_loop(model, x_train, y_train, optimizer):\n",
    "    model.train()\n",
    "    pred = model(x_train)\n",
    "    loss = loss_fn(pred, y_train)\n",
    "    # Back propagation\n",
    "    optimizer.zero_grad()\n",
    "    loss.backward()\n",
    "    optimizer.step()\n",
    "\n",
    "\n",
    "def test_loop(model, x_test, y_test, loss_fn):\n",
    "    model.eval()\n",
    "    test_loss, correct = 0, 0\n",
    "    with torch.no_grad():\n",
    "        pred = model(x_test)\n",
    "        test_loss = loss_fn(pred, y_test).item()\n",
    "        correct = (pred.argmax(dim=1) == y_test.argmax(dim=1)).type(torch.int8).sum().item()\n",
    "    correct /= x_test.shape[0]\n",
    "    return test_loss, correct"
   ]
  },
  {
   "cell_type": "markdown",
   "metadata": {
    "id": "bQvUoJE2um2-"
   },
   "source": [
    "### Load model"
   ]
  },
  {
   "cell_type": "code",
   "execution_count": 65,
   "metadata": {
    "executionInfo": {
     "elapsed": 9,
     "status": "ok",
     "timestamp": 1734275114197,
     "user": {
      "displayName": "Moein Arabi",
      "userId": "05039560986281546271"
     },
     "user_tz": -210
    },
    "id": "fC_ddWghum2-"
   },
   "outputs": [],
   "source": [
    "def load_model_from_disc(path):\n",
    "    model = NeuralNetwork()\n",
    "    if os.path.exists(path):\n",
    "        print('Loading from disc...')\n",
    "        model = torch.load(path, weights_only=False)\n",
    "        model.eval()\n",
    "    return model.to(device)"
   ]
  },
  {
   "cell_type": "code",
   "execution_count": 66,
   "metadata": {
    "colab": {
     "base_uri": "https://localhost:8080/"
    },
    "executionInfo": {
     "elapsed": 684,
     "status": "ok",
     "timestamp": 1734275114872,
     "user": {
      "displayName": "Moein Arabi",
      "userId": "05039560986281546271"
     },
     "user_tz": -210
    },
    "id": "oM7b2Zx24IBe",
    "outputId": "9de981c2-1a61-4edc-bea5-549dc07f8109"
   },
   "outputs": [
    {
     "name": "stdout",
     "output_type": "stream",
     "text": [
      "Loading from disc...\n"
     ]
    }
   ],
   "source": [
    "MODEL_PATH = BASE_PATH + 'model.pt'\n",
    "model_simple = load_model_from_disc(MODEL_PATH)"
   ]
  },
  {
   "cell_type": "markdown",
   "metadata": {
    "id": "izYq25bqum2-"
   },
   "source": [
    "### Load accuracy history"
   ]
  },
  {
   "cell_type": "code",
   "execution_count": 67,
   "metadata": {
    "executionInfo": {
     "elapsed": 683,
     "status": "ok",
     "timestamp": 1734275114873,
     "user": {
      "displayName": "Moein Arabi",
      "userId": "05039560986281546271"
     },
     "user_tz": -210
    },
    "id": "LEo1rN2bum2-"
   },
   "outputs": [],
   "source": [
    "def load_train_hostory(path):\n",
    "    accuracy_history = []\n",
    "    if os.path.exists(path):\n",
    "        print('Loading from disc...')\n",
    "        with open(path, 'rb') as file:\n",
    "            accuracy_history = pickle.load(file)\n",
    "    return accuracy_history"
   ]
  },
  {
   "cell_type": "code",
   "execution_count": 68,
   "metadata": {
    "colab": {
     "base_uri": "https://localhost:8080/"
    },
    "executionInfo": {
     "elapsed": 21,
     "status": "ok",
     "timestamp": 1734275114873,
     "user": {
      "displayName": "Moein Arabi",
      "userId": "05039560986281546271"
     },
     "user_tz": -210
    },
    "id": "DRLQhMMW4ym3",
    "outputId": "aefa02db-2b4c-48eb-96da-6c117bd76228"
   },
   "outputs": [
    {
     "name": "stdout",
     "output_type": "stream",
     "text": [
      "Loading from disc...\n"
     ]
    }
   ],
   "source": [
    "ACCURACY_PATH = BASE_PATH + 'accuracy_history.pkl'\n",
    "accuracy_history = load_train_hostory(ACCURACY_PATH)"
   ]
  },
  {
   "cell_type": "code",
   "execution_count": 69,
   "metadata": {
    "executionInfo": {
     "elapsed": 20,
     "status": "ok",
     "timestamp": 1734275114873,
     "user": {
      "displayName": "Moein Arabi",
      "userId": "05039560986281546271"
     },
     "user_tz": -210
    },
    "id": "cHsACOSwum2-"
   },
   "outputs": [],
   "source": [
    "%%skip\n",
    "loss_fn = nn.CrossEntropyLoss()\n",
    "learning_rate = 0.01\n",
    "optimizer = torch.optim.SGD(model_simple.parameters(), lr=learning_rate)\n",
    "\n",
    "epochs = 0\n",
    "\n",
    "for i in tqdm(range(epochs)):\n",
    "    train_loop(model_simple, x_train, y_train, optimizer)\n",
    "    test_loss, accuracy = test_loop(model_simple, x_test, y_test, loss_fn)\n",
    "    accuracy_history.append(accuracy)\n",
    "\n",
    "# Save the model\n",
    "torch.save(model_simple, MODEL_PATH)\n",
    "with open(ACCURACY_PATH, 'wb') as f:\n",
    "    pickle.dump(accuracy_history, f)"
   ]
  },
  {
   "cell_type": "markdown",
   "metadata": {
    "id": "Ydl92IxNum2-"
   },
   "source": [
    "### plot"
   ]
  },
  {
   "cell_type": "code",
   "execution_count": 70,
   "metadata": {
    "colab": {
     "base_uri": "https://localhost:8080/",
     "height": 472
    },
    "executionInfo": {
     "elapsed": 20,
     "status": "ok",
     "timestamp": 1734275114873,
     "user": {
      "displayName": "Moein Arabi",
      "userId": "05039560986281546271"
     },
     "user_tz": -210
    },
    "id": "cliQgVvzum2-",
    "outputId": "e6630ab8-87f7-46a8-abc0-0581e6bbe6f4"
   },
   "outputs": [
    {
     "data": {
      "image/png": "[encoded data removed]",
      "text/plain": [
       "<Figure size 640x480 with 1 Axes>"
      ]
     },
     "metadata": {},
     "output_type": "display_data"
    }
   ],
   "source": [
    "plt.plot(np.arange(len(accuracy_history)), np.array(accuracy_history) * 100)\n",
    "plt.xlabel('Epoch')\n",
    "plt.ylabel('Accuracy (%)')\n",
    "plt.title('Test Accuracy - SGD - CrossEntropyLoss')\n",
    "plt.grid()"
   ]
  },
  {
   "cell_type": "markdown",
   "metadata": {
    "id": "JkUQg9tKzphP"
   },
   "source": [
    "## Mini-Batch and Early Stopping\n",
    "\n",
    "### Define Model 2"
   ]
  },
  {
   "cell_type": "code",
   "execution_count": 71,
   "metadata": {
    "executionInfo": {
     "elapsed": 20,
     "status": "ok",
     "timestamp": 1734275114874,
     "user": {
      "displayName": "Moein Arabi",
      "userId": "05039560986281546271"
     },
     "user_tz": -210
    },
    "id": "hJ4Q8EUtIbgK"
   },
   "outputs": [],
   "source": [
    "class MyBaseModel(nn.Module):\n",
    "    def __init__(self):\n",
    "        super().__init__()\n",
    "        self.accuracy_train_history = []\n",
    "        self.accuracy_test_history = []\n",
    "        self.loss_train_history = []\n",
    "        self.loss_test_history = []\n",
    "\n",
    "    def save(self, path):\n",
    "        torch.save(self, path)\n",
    "\n",
    "    @staticmethod\n",
    "    def load(path) -> nn.Module|None:\n",
    "        model = None\n",
    "        if os.path.exists(path):\n",
    "            print(f'Loading from disc: {path}')\n",
    "            model = torch.load(path, weights_only=False)\n",
    "            model.eval()\n",
    "        else:\n",
    "            print('Model not found!')\n",
    "        return model\n",
    "\n",
    "class NeuralNetwork(MyBaseModel):\n",
    "    def __init__(self):\n",
    "        super().__init__()\n",
    "        self.linear_relu_stack = nn.Sequential(\n",
    "            nn.Flatten(),\n",
    "            nn.Linear(28*28, 512),\n",
    "            nn.ReLU(),\n",
    "            nn.Linear(512, 512),\n",
    "            nn.ReLU(),\n",
    "            nn.Linear(512, 10),\n",
    "            nn.Softmax(dim=1)\n",
    "        )\n",
    "\n",
    "    def forward(self, x):\n",
    "        logits = self.linear_relu_stack(x)\n",
    "        return logits"
   ]
  },
  {
   "cell_type": "markdown",
   "metadata": {
    "id": "MxjYqMiw1D0S"
   },
   "source": [
    "### Load model 2"
   ]
  },
  {
   "cell_type": "code",
   "execution_count": 72,
   "metadata": {
    "colab": {
     "base_uri": "https://localhost:8080/"
    },
    "executionInfo": {
     "elapsed": 20,
     "status": "ok",
     "timestamp": 1734275114874,
     "user": {
      "displayName": "Moein Arabi",
      "userId": "05039560986281546271"
     },
     "user_tz": -210
    },
    "id": "_c_afcZe1JAp",
    "outputId": "ddfc25c8-7e1b-4010-8db9-5539cba5f6ab"
   },
   "outputs": [
    {
     "name": "stdout",
     "output_type": "stream",
     "text": [
      "Loading from disc: ./model2_mini_batch.pt\n"
     ]
    },
    {
     "data": {
      "text/plain": [
       "NeuralNetwork(\n",
       "  (linear_relu_stack): Sequential(\n",
       "    (0): Flatten(start_dim=1, end_dim=-1)\n",
       "    (1): Linear(in_features=784, out_features=512, bias=True)\n",
       "    (2): ReLU()\n",
       "    (3): Linear(in_features=512, out_features=512, bias=True)\n",
       "    (4): ReLU()\n",
       "    (5): Linear(in_features=512, out_features=10, bias=True)\n",
       "    (6): Softmax(dim=1)\n",
       "  )\n",
       ")"
      ]
     },
     "execution_count": 72,
     "metadata": {},
     "output_type": "execute_result"
    }
   ],
   "source": [
    "MODEL_PATH = BASE_PATH + 'model2_mini_batch.pt'\n",
    "model = NeuralNetwork.load(MODEL_PATH)\n",
    "if not model:\n",
    "    model = NeuralNetwork()\n",
    "model.to(device)"
   ]
  },
  {
   "cell_type": "markdown",
   "metadata": {
    "id": "oC3o2ny51LfC"
   },
   "source": [
    "### Initialize Optimizer and Loss Functions"
   ]
  },
  {
   "cell_type": "code",
   "execution_count": 73,
   "metadata": {
    "executionInfo": {
     "elapsed": 17,
     "status": "ok",
     "timestamp": 1734275114874,
     "user": {
      "displayName": "Moein Arabi",
      "userId": "05039560986281546271"
     },
     "user_tz": -210
    },
    "id": "DLgs1jef0xDx"
   },
   "outputs": [],
   "source": [
    "learning_rate = 0.01\n",
    "loss_fn = nn.CrossEntropyLoss()\n",
    "optimizer = torch.optim.SGD(model.parameters(), lr=learning_rate)"
   ]
  },
  {
   "cell_type": "markdown",
   "metadata": {
    "id": "Li-IkbX314zI"
   },
   "source": [
    "### Create Mini-batch"
   ]
  },
  {
   "cell_type": "code",
   "execution_count": 74,
   "metadata": {
    "executionInfo": {
     "elapsed": 17,
     "status": "ok",
     "timestamp": 1734275114874,
     "user": {
      "displayName": "Moein Arabi",
      "userId": "05039560986281546271"
     },
     "user_tz": -210
    },
    "id": "3VvNACRO55Ht"
   },
   "outputs": [],
   "source": [
    "batch_size = 100\n",
    "x_train_batch = x_train.reshape(-1, batch_size, x_train.shape[1], x_train.shape[2])\n",
    "y_train_batch = y_train.reshape(-1, batch_size, y_train.shape[1])"
   ]
  },
  {
   "cell_type": "markdown",
   "metadata": {
    "id": "sn7gy6450yuX"
   },
   "source": [
    "### Training loop with early stopping"
   ]
  },
  {
   "cell_type": "code",
   "execution_count": 75,
   "metadata": {
    "executionInfo": {
     "elapsed": 16,
     "status": "ok",
     "timestamp": 1734275114874,
     "user": {
      "displayName": "Moein Arabi",
      "userId": "05039560986281546271"
     },
     "user_tz": -210
    },
    "id": "3vL7CdDeE-Zo"
   },
   "outputs": [],
   "source": [
    "def accuracy(pred, y):\n",
    "    correct = (pred.argmax(dim=1) == y.argmax(dim=1)).type(torch.int8).sum().item()\n",
    "    return correct / y.shape[0] # average"
   ]
  },
  {
   "cell_type": "code",
   "execution_count": 76,
   "metadata": {
    "executionInfo": {
     "elapsed": 16,
     "status": "ok",
     "timestamp": 1734275114874,
     "user": {
      "displayName": "Moein Arabi",
      "userId": "05039560986281546271"
     },
     "user_tz": -210
    },
    "id": "ryERmX0ftjWI"
   },
   "outputs": [],
   "source": [
    "def train(model, x, y, loss_fn, optimizer):\n",
    "    model.train()\n",
    "\n",
    "    # Loop over batches\n",
    "    for i in range(x.shape[0]):\n",
    "        # Forward pass and loss calculation\n",
    "        pred = model(x[i])\n",
    "        loss = loss_fn(pred, y[i])\n",
    "\n",
    "        # Backward pass and optimization\n",
    "        optimizer.zero_grad()\n",
    "        loss.backward()\n",
    "        optimizer.step()"
   ]
  },
  {
   "cell_type": "code",
   "execution_count": 77,
   "metadata": {
    "executionInfo": {
     "elapsed": 15,
     "status": "ok",
     "timestamp": 1734275114874,
     "user": {
      "displayName": "Moein Arabi",
      "userId": "05039560986281546271"
     },
     "user_tz": -210
    },
    "id": "ZcdqBpGltjWI"
   },
   "outputs": [],
   "source": [
    "def validation(model, x, y, loss_fn):\n",
    "    model.eval()  # Set model to evaluation mode\n",
    "    with torch.no_grad():  # Disable gradient calculation for validation\n",
    "        pred = model(x)\n",
    "        loss = loss_fn(pred, y).item()\n",
    "    return pred, loss"
   ]
  },
  {
   "cell_type": "code",
   "execution_count": 78,
   "metadata": {
    "executionInfo": {
     "elapsed": 3,
     "status": "ok",
     "timestamp": 1734278602828,
     "user": {
      "displayName": "Moein Arabi",
      "userId": "05039560986281546271"
     },
     "user_tz": -210
    },
    "id": "dpgIY5kn1ZTX"
   },
   "outputs": [],
   "source": [
    "def top_level_func_training(number_epochs, patience=10):\n",
    "    # Initialize Variables for EarlyStopping\n",
    "    best_loss = float('inf')\n",
    "    best_model_weights = copy.deepcopy(model.state_dict())\n",
    "\n",
    "    # Training Loop with Early Stopping:\n",
    "    for epoch in tqdm(range(number_epochs)):\n",
    "        # Train\n",
    "        train(model, x_train_batch, y_train_batch, loss_fn, optimizer)\n",
    "\n",
    "        # Validation\n",
    "        val_pred, val_loss = validation(model, x_test, y_test, loss_fn)\n",
    "        train_pred, train_loss = validation(model, x_train, y_train, loss_fn)\n",
    "\n",
    "        # Early stopping\n",
    "        if val_loss < best_loss:\n",
    "            best_loss = val_loss\n",
    "            best_model_weights = copy.deepcopy(model.state_dict())  # Deep copy here\n",
    "            patience = 10  # Reset patience counter\n",
    "        else:\n",
    "            patience -= 1\n",
    "            if patience == 0:\n",
    "                print('Early stopping...')\n",
    "                break\n",
    "\n",
    "        # Save accuracy and loss on test\n",
    "        model.accuracy_test_history.append(accuracy(val_pred, y_test))\n",
    "        model.loss_test_history.append(val_loss)\n",
    "\n",
    "        # Save accuracy and loss on train\n",
    "        model.accuracy_train_history.append(accuracy(train_pred, y_train))\n",
    "        model.loss_train_history.append(train_loss)\n",
    "\n",
    "\n",
    "    # Load the best model weights then save on disc\n",
    "    model.load_state_dict(best_model_weights)\n",
    "    model.save(MODEL_PATH)"
   ]
  },
  {
   "cell_type": "code",
   "execution_count": 79,
   "metadata": {
    "executionInfo": {
     "elapsed": 14,
     "status": "ok",
     "timestamp": 1734275114874,
     "user": {
      "displayName": "Moein Arabi",
      "userId": "05039560986281546271"
     },
     "user_tz": -210
    },
    "id": "SLxmd5NF0Xtz"
   },
   "outputs": [],
   "source": [
    "%%skip\n",
    "top_level_func_training(0)"
   ]
  },
  {
   "cell_type": "markdown",
   "metadata": {
    "id": "FhVDS6F_tjWJ"
   },
   "source": [
    "### Plot"
   ]
  },
  {
   "cell_type": "code",
   "execution_count": 80,
   "metadata": {
    "executionInfo": {
     "elapsed": 14,
     "status": "ok",
     "timestamp": 1734275114874,
     "user": {
      "displayName": "Moein Arabi",
      "userId": "05039560986281546271"
     },
     "user_tz": -210
    },
    "id": "XRHDRv88tjWJ"
   },
   "outputs": [],
   "source": [
    "def plot():\n",
    "    plt.figure(figsize=(15, 5))\n",
    "    plt.subplot(1, 2, 1)\n",
    "    plt.plot(np.arange(len(model.accuracy_train_history)), np.array(model.accuracy_train_history) * 100, label='Train')\n",
    "    plt.plot(np.arange(len(model.accuracy_test_history)), np.array(model.accuracy_test_history) * 100, label='Test')\n",
    "    plt.xlabel('Epoch')\n",
    "    plt.ylabel('Accuracy (%)')\n",
    "    plt.title('Accuracy (batch size=100)')\n",
    "    plt.legend()\n",
    "    plt.grid()\n",
    "\n",
    "    plt.subplot(1, 2, 2)\n",
    "    plt.plot(np.arange(len(model.loss_train_history)), np.array(model.loss_train_history), label='Train')\n",
    "    plt.plot(np.arange(len(model.loss_test_history)), np.array(model.loss_test_history), label='Test')\n",
    "    plt.xlabel('Epoch')\n",
    "    plt.ylabel('Loss')\n",
    "    plt.title('Loss (batch size=100)')\n",
    "    plt.legend()\n",
    "    plt.grid()\n",
    "    plt.show()\n",
    "    print(f'best loss on test dataset = {model.loss_test_history[-1]:.2f}')\n",
    "    print(f'best accuracy on test dataset = {model.accuracy_test_history[-1] * 100}%')"
   ]
  },
  {
   "cell_type": "code",
   "execution_count": 81,
   "metadata": {
    "colab": {
     "base_uri": "https://localhost:8080/",
     "height": 522
    },
    "executionInfo": {
     "elapsed": 536,
     "status": "ok",
     "timestamp": 1734275115397,
     "user": {
      "displayName": "Moein Arabi",
      "userId": "05039560986281546271"
     },
     "user_tz": -210
    },
    "id": "2PuqSdgA1l9r",
    "outputId": "ef5bb55d-11e3-41c5-8bb5-af3d7d199cba"
   },
   "outputs": [
    {
     "data": {
      "image/png": "[encoded data removed]",
      "text/plain": [
       "<Figure size 1500x500 with 2 Axes>"
      ]
     },
     "metadata": {},
     "output_type": "display_data"
    },
    {
     "name": "stdout",
     "output_type": "stream",
     "text": [
      "best loss on test dataset = 1.49\n",
      "best accuracy on test dataset = 97.65%\n"
     ]
    }
   ],
   "source": [
    "plot()"
   ]
  },
  {
   "cell_type": "markdown",
   "metadata": {
    "id": "iEBQqPXoxw4X"
   },
   "source": [
    "## Adagrad"
   ]
  },
  {
   "cell_type": "code",
   "execution_count": 82,
   "metadata": {
    "colab": {
     "base_uri": "https://localhost:8080/"
    },
    "executionInfo": {
     "elapsed": 439,
     "status": "ok",
     "timestamp": 1734275142134,
     "user": {
      "displayName": "Moein Arabi",
      "userId": "05039560986281546271"
     },
     "user_tz": -210
    },
    "id": "wNoj9oydxw4Y",
    "outputId": "037b91a8-8e91-48f0-f20f-c193ca29a780"
   },
   "outputs": [
    {
     "name": "stdout",
     "output_type": "stream",
     "text": [
      "Loading from disc: ./model3_adagrad.pt\n"
     ]
    },
    {
     "data": {
      "text/plain": [
       "NeuralNetwork(\n",
       "  (linear_relu_stack): Sequential(\n",
       "    (0): Flatten(start_dim=1, end_dim=-1)\n",
       "    (1): Linear(in_features=784, out_features=512, bias=True)\n",
       "    (2): ReLU()\n",
       "    (3): Linear(in_features=512, out_features=512, bias=True)\n",
       "    (4): ReLU()\n",
       "    (5): Linear(in_features=512, out_features=10, bias=True)\n",
       "    (6): Softmax(dim=1)\n",
       "  )\n",
       ")"
      ]
     },
     "execution_count": 82,
     "metadata": {},
     "output_type": "execute_result"
    }
   ],
   "source": [
    "MODEL_PATH = BASE_PATH + 'model3_adagrad.pt'\n",
    "model = NeuralNetwork.load(MODEL_PATH)\n",
    "if not model:\n",
    "    model = NeuralNetwork()\n",
    "model.to(device)"
   ]
  },
  {
   "cell_type": "code",
   "execution_count": 83,
   "metadata": {
    "executionInfo": {
     "elapsed": 323,
     "status": "ok",
     "timestamp": 1734275146531,
     "user": {
      "displayName": "Moein Arabi",
      "userId": "05039560986281546271"
     },
     "user_tz": -210
    },
    "id": "ogRGtJZ4xw4Y"
   },
   "outputs": [],
   "source": [
    "loss_fn = nn.CrossEntropyLoss()\n",
    "optimizer = torch.optim.Adagrad(model.parameters(), lr=0.01)"
   ]
  },
  {
   "cell_type": "code",
   "execution_count": 84,
   "metadata": {
    "colab": {
     "base_uri": "https://localhost:8080/",
     "height": 66,
     "referenced_widgets": [
      "e8b6e970e9484fbc9893d97586e047fb",
      "b68b01a6ac7843468b61984805819316",
      "d1a5d5d387bd4a8bba92a1b73e54e741",
      "ab44eb851a9f479f98bba217d27c7984",
      "e836810c91334145950746ad86b6dd76",
      "23dbc4db63954147af6cad865070e9c1",
      "87d5888b36b747ca841ee7b52c21bae8",
      "0a37c61638bc4be5b1809833fcdb4561",
      "581315b6f1724142a3668186039a2b93",
      "94b5af3c84ef4ca88e718c7267b967d0",
      "f73976938180467a8a10322c149efc05"
     ]
    },
    "executionInfo": {
     "elapsed": 51223,
     "status": "ok",
     "timestamp": 1734275202002,
     "user": {
      "displayName": "Moein Arabi",
      "userId": "05039560986281546271"
     },
     "user_tz": -210
    },
    "id": "-G4Z0hvqxw4Y",
    "outputId": "d3e6d7aa-ace1-4e5c-9ae2-4adf1fc4ddfa"
   },
   "outputs": [],
   "source": [
    "%%skip\n",
    "top_level_func_training(1000)"
   ]
  },
  {
   "cell_type": "code",
   "execution_count": 85,
   "metadata": {
    "colab": {
     "base_uri": "https://localhost:8080/",
     "height": 522
    },
    "executionInfo": {
     "elapsed": 666,
     "status": "ok",
     "timestamp": 1734275202663,
     "user": {
      "displayName": "Moein Arabi",
      "userId": "05039560986281546271"
     },
     "user_tz": -210
    },
    "id": "h2vEeQ0uxw4Z",
    "outputId": "50811bfb-dd55-445c-f7a3-bb4e4516d112"
   },
   "outputs": [
    {
     "data": {
      "image/png": "[encoded data removed]",
      "text/plain": [
       "<Figure size 1500x500 with 2 Axes>"
      ]
     },
     "metadata": {},
     "output_type": "display_data"
    },
    {
     "name": "stdout",
     "output_type": "stream",
     "text": [
      "best loss on test dataset = 1.48\n",
      "best accuracy on test dataset = 98.08%\n"
     ]
    }
   ],
   "source": [
    "plot()"
   ]
  },
  {
   "cell_type": "markdown",
   "metadata": {
    "id": "RvlUe9o32_Ey"
   },
   "source": [
    "## Adagrad2"
   ]
  },
  {
   "cell_type": "code",
   "execution_count": 86,
   "metadata": {
    "colab": {
     "base_uri": "https://localhost:8080/"
    },
    "executionInfo": {
     "elapsed": 330,
     "status": "ok",
     "timestamp": 1734277527491,
     "user": {
      "displayName": "Moein Arabi",
      "userId": "05039560986281546271"
     },
     "user_tz": -210
    },
    "id": "k6lSMndZ3bMx",
    "outputId": "ad80ea7f-4026-470b-cc3a-537ae63897a1"
   },
   "outputs": [
    {
     "name": "stdout",
     "output_type": "stream",
     "text": [
      "Loading from disc: ./model4_adagrad2.pt\n"
     ]
    },
    {
     "data": {
      "text/plain": [
       "NeuralNetwork(\n",
       "  (linear_relu_stack): Sequential(\n",
       "    (0): Flatten(start_dim=1, end_dim=-1)\n",
       "    (1): Linear(in_features=784, out_features=512, bias=True)\n",
       "    (2): ReLU()\n",
       "    (3): Linear(in_features=512, out_features=512, bias=True)\n",
       "    (4): ReLU()\n",
       "    (5): Linear(in_features=512, out_features=10, bias=True)\n",
       "    (6): Softmax(dim=1)\n",
       "  )\n",
       ")"
      ]
     },
     "execution_count": 86,
     "metadata": {},
     "output_type": "execute_result"
    }
   ],
   "source": [
    "MODEL_PATH = BASE_PATH + 'model4_adagrad2.pt'\n",
    "model = NeuralNetwork.load(MODEL_PATH)\n",
    "if not model:\n",
    "    model = NeuralNetwork()\n",
    "model.to(device)"
   ]
  },
  {
   "cell_type": "code",
   "execution_count": 87,
   "metadata": {
    "executionInfo": {
     "elapsed": 349,
     "status": "ok",
     "timestamp": 1734277459461,
     "user": {
      "displayName": "Moein Arabi",
      "userId": "05039560986281546271"
     },
     "user_tz": -210
    },
    "id": "7rYy6mQ43Ftb"
   },
   "outputs": [],
   "source": [
    "loss_fn = nn.CrossEntropyLoss()\n",
    "optimizer = torch.optim.Adagrad(model.parameters(), lr=0.001)"
   ]
  },
  {
   "cell_type": "code",
   "execution_count": 88,
   "metadata": {
    "colab": {
     "base_uri": "https://localhost:8080/",
     "height": 66,
     "referenced_widgets": [
      "620f0cb7e14e42e5952218a59fc5aaa6",
      "cd7048cf46e94dd8acd11eb9f3dd0347",
      "9a5419b29177425aaa212662cfbb12b1",
      "8ac79a035b1c4b82a5f85cf8dd51de2e",
      "a9f51ae55d204397814a13eb83400731",
      "09af96ccd4c64ccabf15f7044fd4881c",
      "88bd07d002e34ce0b22beb04ab282c58",
      "ddf2c97e85c3476fb5503619665ac095",
      "6854763b9e2843c298cad47477634190",
      "e5a0ae69d27a4b00a1f8765d1aa911e8",
      "e823774c54ac462196d06870a4967f22"
     ]
    },
    "executionInfo": {
     "elapsed": 8798,
     "status": "ok",
     "timestamp": 1734277590846,
     "user": {
      "displayName": "Moein Arabi",
      "userId": "05039560986281546271"
     },
     "user_tz": -210
    },
    "id": "3sUUBLzs3ICj",
    "outputId": "36ad1902-6df5-4fe2-cbed-e7b3664fce80"
   },
   "outputs": [],
   "source": [
    "%%skip\n",
    "top_level_func_training(1000)"
   ]
  },
  {
   "cell_type": "code",
   "execution_count": 89,
   "metadata": {
    "colab": {
     "base_uri": "https://localhost:8080/",
     "height": 522
    },
    "executionInfo": {
     "elapsed": 1185,
     "status": "ok",
     "timestamp": 1734277530864,
     "user": {
      "displayName": "Moein Arabi",
      "userId": "05039560986281546271"
     },
     "user_tz": -210
    },
    "id": "W84wEPQU3K0a",
    "outputId": "4294b7a4-9aa9-46c5-f645-4bb12fdfdfd7"
   },
   "outputs": [
    {
     "data": {
      "image/png": "[encoded data removed]",
      "text/plain": [
       "<Figure size 1500x500 with 2 Axes>"
      ]
     },
     "metadata": {},
     "output_type": "display_data"
    },
    {
     "name": "stdout",
     "output_type": "stream",
     "text": [
      "best loss on test dataset = 1.49\n",
      "best accuracy on test dataset = 97.48%\n"
     ]
    }
   ],
   "source": [
    "plot()"
   ]
  },
  {
   "cell_type": "markdown",
   "metadata": {
    "id": "ppsrMQbrxw4Z"
   },
   "source": [
    "## RMSprop"
   ]
  },
  {
   "cell_type": "code",
   "execution_count": 90,
   "metadata": {
    "colab": {
     "base_uri": "https://localhost:8080/"
    },
    "executionInfo": {
     "elapsed": 318,
     "status": "ok",
     "timestamp": 1734277743204,
     "user": {
      "displayName": "Moein Arabi",
      "userId": "05039560986281546271"
     },
     "user_tz": -210
    },
    "id": "oXB0Fbw5xw4a",
    "outputId": "2df33182-5a50-4cf3-ae89-345b65963642"
   },
   "outputs": [
    {
     "name": "stdout",
     "output_type": "stream",
     "text": [
      "Loading from disc: ./model5_rmsprop.pt\n"
     ]
    },
    {
     "data": {
      "text/plain": [
       "NeuralNetwork(\n",
       "  (linear_relu_stack): Sequential(\n",
       "    (0): Flatten(start_dim=1, end_dim=-1)\n",
       "    (1): Linear(in_features=784, out_features=512, bias=True)\n",
       "    (2): ReLU()\n",
       "    (3): Linear(in_features=512, out_features=512, bias=True)\n",
       "    (4): ReLU()\n",
       "    (5): Linear(in_features=512, out_features=10, bias=True)\n",
       "    (6): Softmax(dim=1)\n",
       "  )\n",
       ")"
      ]
     },
     "execution_count": 90,
     "metadata": {},
     "output_type": "execute_result"
    }
   ],
   "source": [
    "MODEL_PATH = BASE_PATH + 'model5_rmsprop.pt'\n",
    "model = NeuralNetwork.load(MODEL_PATH)\n",
    "if not model:\n",
    "    model = NeuralNetwork()\n",
    "model.to(device)"
   ]
  },
  {
   "cell_type": "code",
   "execution_count": 91,
   "metadata": {
    "executionInfo": {
     "elapsed": 333,
     "status": "ok",
     "timestamp": 1734277750689,
     "user": {
      "displayName": "Moein Arabi",
      "userId": "05039560986281546271"
     },
     "user_tz": -210
    },
    "id": "rSg3CK0kxw4a"
   },
   "outputs": [],
   "source": [
    "loss_fn = nn.CrossEntropyLoss()\n",
    "optimizer = torch.optim.RMSprop(model.parameters(), lr=0.01)"
   ]
  },
  {
   "cell_type": "code",
   "execution_count": 92,
   "metadata": {
    "colab": {
     "base_uri": "https://localhost:8080/",
     "height": 66,
     "referenced_widgets": [
      "d089b9c3945c47249248069decac4aad",
      "e27aca97d81d41f7835948a5364d2d76",
      "796a0f3111ed4154832efcc9ab5fb7af",
      "18f94dfca56b4e9e905148ceb6efd30f",
      "a1f38c18a3c243a3b41bbbff58ee481b",
      "7cce43199a9e43e596ac0ea2388faac7",
      "24e9a48ac43b4583b751539faa293b2d",
      "17feca3096d140c6a76fb1f6ee3113df",
      "23517749a5094b2f8f4f113080e50156",
      "f778a5ac44f647eb9774160b3a374654",
      "76b5b87ddf5342ff9a890ba4b5579ac7"
     ]
    },
    "executionInfo": {
     "elapsed": 11676,
     "status": "ok",
     "timestamp": 1734277766234,
     "user": {
      "displayName": "Moein Arabi",
      "userId": "05039560986281546271"
     },
     "user_tz": -210
    },
    "id": "WlXY3Yhuxw4a",
    "outputId": "3d0d0f5f-8d22-4721-9cf4-dff8d062b126"
   },
   "outputs": [],
   "source": [
    "%%skip\n",
    "top_level_func_training(1000)"
   ]
  },
  {
   "cell_type": "code",
   "execution_count": 93,
   "metadata": {
    "colab": {
     "base_uri": "https://localhost:8080/",
     "height": 522
    },
    "executionInfo": {
     "elapsed": 13,
     "status": "ok",
     "timestamp": 1734277766236,
     "user": {
      "displayName": "Moein Arabi",
      "userId": "05039560986281546271"
     },
     "user_tz": -210
    },
    "id": "HyPdcwrgxw4a",
    "outputId": "18d4b43a-0c02-4de0-8f9c-10160aae7d80"
   },
   "outputs": [
    {
     "data": {
      "image/png": "[encoded data removed]",
      "text/plain": [
       "<Figure size 1500x500 with 2 Axes>"
      ]
     },
     "metadata": {},
     "output_type": "display_data"
    },
    {
     "name": "stdout",
     "output_type": "stream",
     "text": [
      "best loss on test dataset = 2.36\n",
      "best accuracy on test dataset = 9.82%\n"
     ]
    }
   ],
   "source": [
    "plot()"
   ]
  },
  {
   "cell_type": "markdown",
   "metadata": {
    "id": "3H33zUaCxw4b"
   },
   "source": [
    "## Adam"
   ]
  },
  {
   "cell_type": "code",
   "execution_count": 94,
   "metadata": {
    "colab": {
     "base_uri": "https://localhost:8080/"
    },
    "executionInfo": {
     "elapsed": 4,
     "status": "ok",
     "timestamp": 1734278616641,
     "user": {
      "displayName": "Moein Arabi",
      "userId": "05039560986281546271"
     },
     "user_tz": -210
    },
    "id": "biZWlZmSxw4b",
    "outputId": "75a2983a-c3b4-47d9-ce95-5c8f893135df"
   },
   "outputs": [
    {
     "name": "stdout",
     "output_type": "stream",
     "text": [
      "Loading from disc: ./model6_adam.pt\n"
     ]
    },
    {
     "data": {
      "text/plain": [
       "NeuralNetwork(\n",
       "  (linear_relu_stack): Sequential(\n",
       "    (0): Flatten(start_dim=1, end_dim=-1)\n",
       "    (1): Linear(in_features=784, out_features=512, bias=True)\n",
       "    (2): ReLU()\n",
       "    (3): Linear(in_features=512, out_features=512, bias=True)\n",
       "    (4): ReLU()\n",
       "    (5): Linear(in_features=512, out_features=10, bias=True)\n",
       "    (6): Softmax(dim=1)\n",
       "  )\n",
       ")"
      ]
     },
     "execution_count": 94,
     "metadata": {},
     "output_type": "execute_result"
    }
   ],
   "source": [
    "MODEL_PATH = BASE_PATH + 'model6_adam.pt'\n",
    "model = NeuralNetwork.load(MODEL_PATH)\n",
    "if not model:\n",
    "    model = NeuralNetwork()\n",
    "model.to(device)"
   ]
  },
  {
   "cell_type": "code",
   "execution_count": 95,
   "metadata": {
    "executionInfo": {
     "elapsed": 5,
     "status": "ok",
     "timestamp": 1734278684386,
     "user": {
      "displayName": "Moein Arabi",
      "userId": "05039560986281546271"
     },
     "user_tz": -210
    },
    "id": "dMlVVA2pxw4b"
   },
   "outputs": [],
   "source": [
    "loss_fn = nn.CrossEntropyLoss()\n",
    "optimizer = torch.optim.Adam(model.parameters(), lr=0.0005)"
   ]
  },
  {
   "cell_type": "code",
   "execution_count": 96,
   "metadata": {
    "colab": {
     "base_uri": "https://localhost:8080/",
     "height": 66,
     "referenced_widgets": [
      "8cf01c02117e404b8a91ea20dfd25cbd",
      "a32aeb1cf9024d1697214e2d4cb244d8",
      "9adea0c2e5194f3d9c2a3143ee289e84",
      "33319166ff6a435498d4165ec8650d6d",
      "145a01f9faf448e199415c2a0dd4a31c",
      "9e46138035ed4f56a694ab4e929e4489",
      "9c6f7b2b9ed045ceaadc123814a4d669",
      "de6388e8a7b84862869ee57e3327dca5",
      "928f94d2feb8443f9dc48588e6b6da17",
      "076769aaabaa4cb4a9a01e6a1dc0ccae",
      "0297928873b94cd3a8f151911fc1f867"
     ]
    },
    "executionInfo": {
     "elapsed": 25869,
     "status": "ok",
     "timestamp": 1734278724039,
     "user": {
      "displayName": "Moein Arabi",
      "userId": "05039560986281546271"
     },
     "user_tz": -210
    },
    "id": "KV8RY7jLxw4b",
    "outputId": "c4c5461f-686f-4218-d583-d610d292942c"
   },
   "outputs": [],
   "source": [
    "%%skip\n",
    "top_level_func_training(1000, 20)"
   ]
  },
  {
   "cell_type": "code",
   "execution_count": 97,
   "metadata": {
    "colab": {
     "base_uri": "https://localhost:8080/",
     "height": 522
    },
    "executionInfo": {
     "elapsed": 886,
     "status": "ok",
     "timestamp": 1734278724921,
     "user": {
      "displayName": "Moein Arabi",
      "userId": "05039560986281546271"
     },
     "user_tz": -210
    },
    "id": "sEKU5Ot0xw4c",
    "outputId": "895aa569-e633-449b-e202-385ceaeb1e28"
   },
   "outputs": [
    {
     "data": {
      "image/png": "[encoded data removed]",
      "text/plain": [
       "<Figure size 1500x500 with 2 Axes>"
      ]
     },
     "metadata": {},
     "output_type": "display_data"
    },
    {
     "name": "stdout",
     "output_type": "stream",
     "text": [
      "best loss on test dataset = 2.06\n",
      "best accuracy on test dataset = 40.300000000000004%\n"
     ]
    }
   ],
   "source": [
    "plot()"
   ]
  },
  {
   "cell_type": "markdown",
   "metadata": {
    "id": "Sdo-5-26WCft"
   },
   "source": [
    "## Step 4: Visualizing Model Performance\n",
    "\n",
    "In this final step, you will visualize your model's performance using a series of plots. These visualizations will help you understand how well the model performed, identify areas for potential improvement, and interpret any misclassifications.\n",
    "\n",
    "1. **Plot the Training History**: This plot shows the training and validation accuracy over each epoch. By examining this plot, you can see how the model's accuracy improved with each epoch and check if there’s any overfitting (e.g., if training accuracy is much higher than validation accuracy).\n",
    "\n",
    "2. **Plot the Confusion Matrix**: The confusion matrix provides a detailed view of the model's performance across each digit class (0–9). Each cell in the matrix shows the number of true vs. predicted classifications for each class. This helps you identify specific digits that the model struggles to classify correctly, as they may have higher misclassification counts.\n",
    "\n",
    "3. **Visualize Misclassified Images**: In this grid, you’ll see some of the images that were incorrectly classified by the model. Each image shows the true label and the predicted label. Examining these misclassified examples can give you insight into where the model might have difficulty, such as digits that look similar (e.g., 3 and 5). It can also help you decide if additional data processing or model adjustments are needed.\n",
    "\n",
    "### Tips for Interpretation:\n",
    "- **Training History**: If the validation accuracy plateaus early or diverges significantly from training accuracy, consider revisiting your model architecture or hyperparameters.\n",
    "- **Confusion Matrix**: Look for off-diagonal cells with high values, as these indicate common misclassifications.\n",
    "- **Misclassified Images**: Understanding these cases can guide you in tuning or improving your model, such as adding more data for challenging classes.\n",
    "\n",
    "By analyzing these plots, you’ll gain a deeper understanding of your model’s strengths and weaknesses on the MNIST dataset."
   ]
  },
  {
   "cell_type": "code",
   "execution_count": 98,
   "metadata": {},
   "outputs": [
    {
     "name": "stdout",
     "output_type": "stream",
     "text": [
      "Loading from disc: ./model3_adagrad.pt\n",
      "torch.Size([10000, 10])\n"
     ]
    }
   ],
   "source": [
    "MODEL_PATH = BASE_PATH + 'model3_adagrad.pt'\n",
    "model = NeuralNetwork.load(MODEL_PATH)\n",
    "model.to(device)\n",
    "\n",
    "loss_fn = nn.CrossEntropyLoss()\n",
    "\n",
    "model.eval()\n",
    "pred = model(x_test)\n",
    "print(pred.shape)"
   ]
  },
  {
   "cell_type": "code",
   "execution_count": 99,
   "metadata": {},
   "outputs": [
    {
     "name": "stdout",
     "output_type": "stream",
     "text": [
      "tensor([[0, 0, 0, 0, 0, 0, 0, 0, 0, 0],\n",
      "        [0, 0, 0, 0, 0, 0, 0, 0, 0, 0],\n",
      "        [0, 0, 0, 0, 0, 0, 0, 0, 0, 0],\n",
      "        [0, 0, 0, 0, 0, 0, 0, 0, 0, 0],\n",
      "        [0, 0, 0, 0, 0, 0, 0, 0, 0, 0],\n",
      "        [0, 0, 0, 0, 0, 0, 0, 0, 0, 0],\n",
      "        [0, 0, 0, 0, 0, 0, 0, 0, 0, 0],\n",
      "        [0, 0, 0, 0, 0, 0, 0, 0, 0, 0],\n",
      "        [0, 0, 0, 0, 0, 0, 0, 0, 0, 0],\n",
      "        [0, 0, 0, 0, 0, 0, 0, 0, 0, 0]], dtype=torch.int32)\n"
     ]
    }
   ],
   "source": [
    "confusion_matrix = torch.zeros([10, 10]).type(torch.int32)\n",
    "print(confusion_matrix)"
   ]
  },
  {
   "cell_type": "code",
   "execution_count": 100,
   "metadata": {},
   "outputs": [
    {
     "data": {
      "text/plain": [
       "tensor([[0., 0., 0.,  ..., 1., 0., 0.],\n",
       "        [0., 0., 1.,  ..., 0., 0., 0.],\n",
       "        [0., 1., 0.,  ..., 0., 0., 0.],\n",
       "        ...,\n",
       "        [0., 0., 0.,  ..., 0., 0., 0.],\n",
       "        [0., 0., 0.,  ..., 0., 0., 0.],\n",
       "        [0., 0., 0.,  ..., 0., 0., 0.]], device='cuda:0')"
      ]
     },
     "execution_count": 100,
     "metadata": {},
     "output_type": "execute_result"
    }
   ],
   "source": [
    "y_test"
   ]
  },
  {
   "cell_type": "code",
   "execution_count": 101,
   "metadata": {},
   "outputs": [
    {
     "name": "stdout",
     "output_type": "stream",
     "text": [
      "tensor([7, 2, 1,  ..., 4, 5, 6])\n",
      "tensor([7, 2, 1,  ..., 4, 5, 6])\n"
     ]
    }
   ],
   "source": [
    "true = y_test.argmax(dim=1).cpu()\n",
    "predicted = pred.argmax(dim=1).cpu()\n",
    "print(true)\n",
    "print(predicted)"
   ]
  },
  {
   "cell_type": "code",
   "execution_count": 102,
   "metadata": {},
   "outputs": [
    {
     "name": "stdout",
     "output_type": "stream",
     "text": [
      "tensor([[ 971,    0,    0,    2,    1,    1,    1,    1,    3,    0],\n",
      "        [   0, 1126,    2,    3,    0,    1,    1,    0,    2,    0],\n",
      "        [   4,    2, 1008,    6,    1,    0,    1,    5,    5,    0],\n",
      "        [   0,    0,    2,  995,    0,    4,    0,    4,    2,    3],\n",
      "        [   1,    0,    4,    0,  968,    0,    3,    2,    1,    3],\n",
      "        [   2,    0,    0,    5,    1,  879,    3,    0,    1,    1],\n",
      "        [   3,    3,    1,    1,    5,    8,  936,    0,    1,    0],\n",
      "        [   1,    2,    6,    2,    1,    0,    0, 1011,    2,    3],\n",
      "        [   2,    0,    1,    7,    2,    6,    1,    4,  947,    4],\n",
      "        [   3,    3,    0,    5,    8,    3,    1,    6,    4,  976]],\n",
      "       dtype=torch.int32)\n"
     ]
    }
   ],
   "source": [
    "for i in range(true.shape[0]):\n",
    "    confusion_matrix[true[i], predicted[i]] += 1\n",
    "print(confusion_matrix)"
   ]
  },
  {
   "cell_type": "code",
   "execution_count": 103,
   "metadata": {
    "id": "D2GJopsXWCft"
   },
   "outputs": [
    {
     "data": {
      "image/png": "[encoded data removed]",
      "text/plain": [
       "<Figure size 800x600 with 2 Axes>"
      ]
     },
     "metadata": {},
     "output_type": "display_data"
    }
   ],
   "source": [
    "plt.figure(figsize=(8, 6))\n",
    "sns.heatmap(confusion_matrix, annot=True, fmt='d')\n",
    "plt.xlabel('True Labels')\n",
    "plt.ylabel('Predicted Labels')\n",
    "plt.title('Confusion Matrix')\n",
    "plt.show()"
   ]
  },
  {
   "cell_type": "code",
   "execution_count": 104,
   "metadata": {},
   "outputs": [
    {
     "name": "stdout",
     "output_type": "stream",
     "text": [
      "tensor([ 151,  217,  247,  259,  274,  320,  321,  381,  445,  495,  582,  610,\n",
      "         691,  740,  844,  877,  882,  883,  924,  938,  947,  951,  956,  965,\n",
      "        1014, 1039, 1112, 1156, 1166, 1181, 1182, 1226, 1232, 1242, 1247, 1260,\n",
      "        1319, 1328, 1393, 1395, 1522, 1527, 1530, 1549, 1553, 1609, 1670, 1681,\n",
      "        1754, 1790, 1800, 1850, 1878, 1901, 1984, 2004, 2070, 2098, 2109, 2118,\n",
      "        2135, 2182, 2272, 2293, 2369, 2387, 2406, 2414, 2433, 2454, 2488, 2648,\n",
      "        2654, 2720, 2877, 2915, 2921, 2939, 2995, 3030, 3060, 3073, 3422, 3503,\n",
      "        3520, 3549, 3558, 3567, 3597, 3681, 3776, 3780, 3808, 3811, 3818, 3869,\n",
      "        3871, 3893, 3906, 3941, 3976, 4065, 4078, 4163, 4176, 4224, 4248, 4289,\n",
      "        4350, 4369, 4497, 4536, 4731, 4761, 4807, 4814, 4823, 4880, 4956, 4966,\n",
      "        4978, 5165, 5331, 5457, 5634, 5642, 5676, 5734, 5749, 5887, 5936, 5937,\n",
      "        5955, 5972, 5973, 5982, 6011, 6045, 6059, 6166, 6173, 6505, 6555, 6571,\n",
      "        6574, 6597, 6608, 6625, 6651, 6755, 6847, 7216, 7434, 7921, 7928, 8059,\n",
      "        8094, 8246, 8311, 8325, 8408, 8519, 8522, 9009, 9015, 9024, 9280, 9587,\n",
      "        9634, 9642, 9664, 9669, 9679, 9692, 9698, 9700, 9729, 9745, 9768, 9770,\n",
      "        9839, 9904, 9982])\n"
     ]
    }
   ],
   "source": [
    "incorrect_indices = torch.arange(true.shape[0])[true != predicted]\n",
    "print(incorrect_indices)"
   ]
  },
  {
   "cell_type": "code",
   "execution_count": 105,
   "metadata": {
    "id": "ZJcLCl8XWCft"
   },
   "outputs": [
    {
     "data": {
      "image/png": "[encoded data removed]",
      "text/plain": [
       "<Figure size 800x600 with 20 Axes>"
      ]
     },
     "metadata": {},
     "output_type": "display_data"
    }
   ],
   "source": [
    "plt.figure(figsize=(8, 6))\n",
    "for i, idx in enumerate(incorrect_indices[:20]):\n",
    "    plt.subplot(4, 5, i + 1)\n",
    "    plt.imshow(x_test[idx].cpu(), cmap='gray')\n",
    "    plt.title(f\"True: {true[idx]} - Pred: {predicted[idx]}\")\n",
    "    plt.axis('off')\n",
    "plt.tight_layout()\n",
    "plt.show()"
   ]
  },
  {
   "cell_type": "markdown",
   "metadata": {},
   "source": [
    "## New model architecture"
   ]
  },
  {
   "cell_type": "code",
   "execution_count": 106,
   "metadata": {},
   "outputs": [],
   "source": [
    "class NeuralNetwork2(MyBaseModel):\n",
    "    def __init__(self):\n",
    "        super().__init__()\n",
    "        self.linear_relu_stack = nn.Sequential(\n",
    "            nn.Flatten(),\n",
    "            nn.Linear(28*28, 512),\n",
    "            nn.ReLU(),\n",
    "            nn.Linear(512, 128),\n",
    "            nn.ReLU(),\n",
    "            nn.Linear(128, 32),\n",
    "            nn.ReLU(),\n",
    "            nn.Linear(32, 10),\n",
    "            nn.Softmax(dim=1)\n",
    "        )\n",
    "\n",
    "    def forward(self, x):\n",
    "        logits = self.linear_relu_stack(x)\n",
    "        return logits"
   ]
  },
  {
   "cell_type": "code",
   "execution_count": null,
   "metadata": {},
   "outputs": [
    {
     "name": "stdout",
     "output_type": "stream",
     "text": [
      "Model not found!\n"
     ]
    },
    {
     "data": {
      "text/plain": [
       "NeuralNetwork2(\n",
       "  (linear_relu_stack): Sequential(\n",
       "    (0): Flatten(start_dim=1, end_dim=-1)\n",
       "    (1): Linear(in_features=784, out_features=512, bias=True)\n",
       "    (2): ReLU()\n",
       "    (3): Linear(in_features=512, out_features=128, bias=True)\n",
       "    (4): ReLU()\n",
       "    (5): Linear(in_features=128, out_features=32, bias=True)\n",
       "    (6): ReLU()\n",
       "    (7): Linear(in_features=32, out_features=10, bias=True)\n",
       "    (8): Softmax(dim=1)\n",
       "  )\n",
       ")"
      ]
     },
     "execution_count": 107,
     "metadata": {},
     "output_type": "execute_result"
    }
   ],
   "source": [
    "MODEL_PATH = BASE_PATH + 'model7_3layers.pt'\n",
    "model = NeuralNetwork2.load(MODEL_PATH)\n",
    "if not model:\n",
    "    model = NeuralNetwork2()\n",
    "model.to(device)"
   ]
  },
  {
   "cell_type": "code",
   "execution_count": 108,
   "metadata": {},
   "outputs": [],
   "source": [
    "loss_fn = nn.CrossEntropyLoss()\n",
    "optimizer = torch.optim.Adagrad(model.parameters(), lr=0.01)"
   ]
  },
  {
   "cell_type": "code",
   "execution_count": null,
   "metadata": {},
   "outputs": [
    {
     "data": {
      "application/vnd.jupyter.widget-view+json": {
       "model_id": "e552636df3cd44e5bad4eb63fe6f31a4",
       "version_major": 2,
       "version_minor": 0
      },
      "text/plain": [
       "  0%|          | 0/1000 [00:00<?, ?it/s]"
      ]
     },
     "metadata": {},
     "output_type": "display_data"
    },
    {
     "name": "stdout",
     "output_type": "stream",
     "text": [
      "Early stopping...\n"
     ]
    }
   ],
   "source": [
    "%%skip\n",
    "top_level_func_training(1000)"
   ]
  },
  {
   "cell_type": "code",
   "execution_count": 110,
   "metadata": {},
   "outputs": [
    {
     "data": {
      "image/png": "[encoded data removed]",
      "text/plain": [
       "<Figure size 1500x500 with 2 Axes>"
      ]
     },
     "metadata": {},
     "output_type": "display_data"
    },
    {
     "name": "stdout",
     "output_type": "stream",
     "text": [
      "best loss on test dataset = 1.48\n",
      "best accuracy on test dataset = 97.87%\n"
     ]
    }
   ],
   "source": [
    "plot()"
   ]
  },
  {
   "cell_type": "code",
   "execution_count": 111,
   "metadata": {},
   "outputs": [],
   "source": [
    "class NeuralNetwork3(MyBaseModel):\n",
    "    def __init__(self):\n",
    "        super().__init__()\n",
    "        self.linear_relu_stack = nn.Sequential(\n",
    "            nn.Flatten(),\n",
    "            nn.Linear(28*28, 512),\n",
    "            nn.ReLU(),\n",
    "            nn.Linear(512, 128),\n",
    "            nn.ReLU(),\n",
    "            nn.Linear(128, 64),\n",
    "            nn.ReLU(),\n",
    "            nn.Linear(64, 32),\n",
    "            nn.ReLU(),\n",
    "            nn.Linear(32, 16),\n",
    "            nn.ReLU(),\n",
    "            nn.Linear(16, 10),\n",
    "            nn.Softmax(dim=1)\n",
    "        )\n",
    "\n",
    "    def forward(self, x):\n",
    "        logits = self.linear_relu_stack(x)\n",
    "        return logits"
   ]
  },
  {
   "cell_type": "code",
   "execution_count": null,
   "metadata": {},
   "outputs": [
    {
     "name": "stdout",
     "output_type": "stream",
     "text": [
      "Model not found!\n"
     ]
    },
    {
     "data": {
      "text/plain": [
       "NeuralNetwork3(\n",
       "  (linear_relu_stack): Sequential(\n",
       "    (0): Flatten(start_dim=1, end_dim=-1)\n",
       "    (1): Linear(in_features=784, out_features=512, bias=True)\n",
       "    (2): ReLU()\n",
       "    (3): Linear(in_features=512, out_features=128, bias=True)\n",
       "    (4): ReLU()\n",
       "    (5): Linear(in_features=128, out_features=64, bias=True)\n",
       "    (6): ReLU()\n",
       "    (7): Linear(in_features=64, out_features=32, bias=True)\n",
       "    (8): ReLU()\n",
       "    (9): Linear(in_features=32, out_features=16, bias=True)\n",
       "    (10): ReLU()\n",
       "    (11): Linear(in_features=16, out_features=10, bias=True)\n",
       "    (12): Softmax(dim=1)\n",
       "  )\n",
       ")"
      ]
     },
     "execution_count": 112,
     "metadata": {},
     "output_type": "execute_result"
    }
   ],
   "source": [
    "MODEL_PATH = BASE_PATH + 'model8_5layers.pt'\n",
    "model = NeuralNetwork3.load(MODEL_PATH)\n",
    "if not model:\n",
    "    model = NeuralNetwork3()\n",
    "model.to(device)"
   ]
  },
  {
   "cell_type": "code",
   "execution_count": 113,
   "metadata": {},
   "outputs": [],
   "source": [
    "loss_fn = nn.CrossEntropyLoss()\n",
    "optimizer = torch.optim.Adagrad(model.parameters(), lr=0.01)"
   ]
  },
  {
   "cell_type": "code",
   "execution_count": null,
   "metadata": {},
   "outputs": [
    {
     "data": {
      "application/vnd.jupyter.widget-view+json": {
       "model_id": "256b444272964cf38e1ced95373597d7",
       "version_major": 2,
       "version_minor": 0
      },
      "text/plain": [
       "  0%|          | 0/1000 [00:00<?, ?it/s]"
      ]
     },
     "metadata": {},
     "output_type": "display_data"
    },
    {
     "name": "stdout",
     "output_type": "stream",
     "text": [
      "Early stopping...\n"
     ]
    }
   ],
   "source": [
    "%%skip\n",
    "top_level_func_training(1000)"
   ]
  },
  {
   "cell_type": "code",
   "execution_count": 115,
   "metadata": {},
   "outputs": [
    {
     "data": {
      "image/png": "[encoded data removed]",
      "text/plain": [
       "<Figure size 1500x500 with 2 Axes>"
      ]
     },
     "metadata": {},
     "output_type": "display_data"
    },
    {
     "name": "stdout",
     "output_type": "stream",
     "text": [
      "best loss on test dataset = 1.50\n",
      "best accuracy on test dataset = 96.61%\n"
     ]
    }
   ],
   "source": [
    "plot()"
   ]
  },
  {
   "cell_type": "code",
   "execution_count": 116,
   "metadata": {},
   "outputs": [],
   "source": [
    "class NeuralNetwork4(MyBaseModel):\n",
    "    def __init__(self):\n",
    "        super().__init__()\n",
    "        self.linear_relu_stack = nn.Sequential(\n",
    "            nn.Flatten(),\n",
    "            nn.Linear(28*28, 512),\n",
    "            nn.Sigmoid(),\n",
    "            nn.Linear(512, 512),\n",
    "            nn.Sigmoid(),\n",
    "            nn.Linear(512, 10),\n",
    "            nn.Softmax(dim=1)\n",
    "        )\n",
    "\n",
    "    def forward(self, x):\n",
    "        logits = self.linear_relu_stack(x)\n",
    "        return logits"
   ]
  },
  {
   "cell_type": "code",
   "execution_count": 117,
   "metadata": {},
   "outputs": [
    {
     "name": "stdout",
     "output_type": "stream",
     "text": [
      "Model not found!\n"
     ]
    },
    {
     "data": {
      "text/plain": [
       "NeuralNetwork4(\n",
       "  (linear_relu_stack): Sequential(\n",
       "    (0): Flatten(start_dim=1, end_dim=-1)\n",
       "    (1): Linear(in_features=784, out_features=512, bias=True)\n",
       "    (2): Sigmoid()\n",
       "    (3): Linear(in_features=512, out_features=512, bias=True)\n",
       "    (4): Sigmoid()\n",
       "    (5): Linear(in_features=512, out_features=10, bias=True)\n",
       "    (6): Softmax(dim=1)\n",
       "  )\n",
       ")"
      ]
     },
     "execution_count": 117,
     "metadata": {},
     "output_type": "execute_result"
    }
   ],
   "source": [
    "MODEL_PATH = BASE_PATH + 'model9_sigmoid.pt'\n",
    "model = NeuralNetwork4.load(MODEL_PATH)\n",
    "if not model:\n",
    "    model = NeuralNetwork4()\n",
    "model.to(device)"
   ]
  },
  {
   "cell_type": "code",
   "execution_count": 118,
   "metadata": {},
   "outputs": [],
   "source": [
    "loss_fn = nn.CrossEntropyLoss()\n",
    "optimizer = torch.optim.Adagrad(model.parameters(), lr=0.01)"
   ]
  },
  {
   "cell_type": "code",
   "execution_count": null,
   "metadata": {},
   "outputs": [
    {
     "data": {
      "application/vnd.jupyter.widget-view+json": {
       "model_id": "dbe4e71e4233475fa8cd3f092bdc9002",
       "version_major": 2,
       "version_minor": 0
      },
      "text/plain": [
       "  0%|          | 0/1000 [00:00<?, ?it/s]"
      ]
     },
     "metadata": {},
     "output_type": "display_data"
    },
    {
     "name": "stdout",
     "output_type": "stream",
     "text": [
      "Early stopping...\n"
     ]
    }
   ],
   "source": [
    "%%skip\n",
    "top_level_func_training(1000)"
   ]
  },
  {
   "cell_type": "code",
   "execution_count": 120,
   "metadata": {},
   "outputs": [
    {
     "data": {
      "image/png": "[encoded data removed]",
      "text/plain": [
       "<Figure size 1500x500 with 2 Axes>"
      ]
     },
     "metadata": {},
     "output_type": "display_data"
    },
    {
     "name": "stdout",
     "output_type": "stream",
     "text": [
      "best loss on test dataset = 1.48\n",
      "best accuracy on test dataset = 97.77%\n"
     ]
    }
   ],
   "source": [
    "plot()"
   ]
  }
 ],
 "metadata": {
  "accelerator": "GPU",
  "colab": {
   "gpuType": "T4",
   "provenance": []
  },
  "kernelspec": {
   "display_name": ".venv",
   "language": "python",
   "name": "python3"
  },
  "language_info": {
   "codemirror_mode": {
    "name": "ipython",
    "version": 3
   },
   "file_extension": ".py",
   "mimetype": "text/x-python",
   "name": "python",
   "nbconvert_exporter": "python",
   "pygments_lexer": "ipython3",
   "version": "3.10.4"
  },
  "widgets": {
   "application/vnd.jupyter.widget-state+json": {
    "0297928873b94cd3a8f151911fc1f867": {
     "model_module": "@jupyter-widgets/controls",
     "model_module_version": "1.5.0",
     "model_name": "DescriptionStyleModel",
     "state": {
      "_model_module": "@jupyter-widgets/controls",
      "_model_module_version": "1.5.0",
      "_model_name": "DescriptionStyleModel",
      "_view_count": null,
      "_view_module": "@jupyter-widgets/base",
      "_view_module_version": "1.2.0",
      "_view_name": "StyleView",
      "description_width": ""
     }
    },
    "076769aaabaa4cb4a9a01e6a1dc0ccae": {
     "model_module": "@jupyter-widgets/base",
     "model_module_version": "1.2.0",
     "model_name": "LayoutModel",
     "state": {
      "_model_module": "@jupyter-widgets/base",
      "_model_module_version": "1.2.0",
      "_model_name": "LayoutModel",
      "_view_count": null,
      "_view_module": "@jupyter-widgets/base",
      "_view_module_version": "1.2.0",
      "_view_name": "LayoutView",
      "align_content": null,
      "align_items": null,
      "align_self": null,
      "border": null,
      "bottom": null,
      "display": null,
      "flex": null,
      "flex_flow": null,
      "grid_area": null,
      "grid_auto_columns": null,
      "grid_auto_flow": null,
      "grid_auto_rows": null,
      "grid_column": null,
      "grid_gap": null,
      "grid_row": null,
      "grid_template_areas": null,
      "grid_template_columns": null,
      "grid_template_rows": null,
      "height": null,
      "justify_content": null,
      "justify_items": null,
      "left": null,
      "margin": null,
      "max_height": null,
      "max_width": null,
      "min_height": null,
      "min_width": null,
      "object_fit": null,
      "object_position": null,
      "order": null,
      "overflow": null,
      "overflow_x": null,
      "overflow_y": null,
      "padding": null,
      "right": null,
      "top": null,
      "visibility": null,
      "width": null
     }
    },
    "09af96ccd4c64ccabf15f7044fd4881c": {
     "model_module": "@jupyter-widgets/base",
     "model_module_version": "1.2.0",
     "model_name": "LayoutModel",
     "state": {
      "_model_module": "@jupyter-widgets/base",
      "_model_module_version": "1.2.0",
      "_model_name": "LayoutModel",
      "_view_count": null,
      "_view_module": "@jupyter-widgets/base",
      "_view_module_version": "1.2.0",
      "_view_name": "LayoutView",
      "align_content": null,
      "align_items": null,
      "align_self": null,
      "border": null,
      "bottom": null,
      "display": null,
      "flex": null,
      "flex_flow": null,
      "grid_area": null,
      "grid_auto_columns": null,
      "grid_auto_flow": null,
      "grid_auto_rows": null,
      "grid_column": null,
      "grid_gap": null,
      "grid_row": null,
      "grid_template_areas": null,
      "grid_template_columns": null,
      "grid_template_rows": null,
      "height": null,
      "justify_content": null,
      "justify_items": null,
      "left": null,
      "margin": null,
      "max_height": null,
      "max_width": null,
      "min_height": null,
      "min_width": null,
      "object_fit": null,
      "object_position": null,
      "order": null,
      "overflow": null,
      "overflow_x": null,
      "overflow_y": null,
      "padding": null,
      "right": null,
      "top": null,
      "visibility": null,
      "width": null
     }
    },
    "0a37c61638bc4be5b1809833fcdb4561": {
     "model_module": "@jupyter-widgets/base",
     "model_module_version": "1.2.0",
     "model_name": "LayoutModel",
     "state": {
      "_model_module": "@jupyter-widgets/base",
      "_model_module_version": "1.2.0",
      "_model_name": "LayoutModel",
      "_view_count": null,
      "_view_module": "@jupyter-widgets/base",
      "_view_module_version": "1.2.0",
      "_view_name": "LayoutView",
      "align_content": null,
      "align_items": null,
      "align_self": null,
      "border": null,
      "bottom": null,
      "display": null,
      "flex": null,
      "flex_flow": null,
      "grid_area": null,
      "grid_auto_columns": null,
      "grid_auto_flow": null,
      "grid_auto_rows": null,
      "grid_column": null,
      "grid_gap": null,
      "grid_row": null,
      "grid_template_areas": null,
      "grid_template_columns": null,
      "grid_template_rows": null,
      "height": null,
      "justify_content": null,
      "justify_items": null,
      "left": null,
      "margin": null,
      "max_height": null,
      "max_width": null,
      "min_height": null,
      "min_width": null,
      "object_fit": null,
      "object_position": null,
      "order": null,
      "overflow": null,
      "overflow_x": null,
      "overflow_y": null,
      "padding": null,
      "right": null,
      "top": null,
      "visibility": null,
      "width": null
     }
    },
    "145a01f9faf448e199415c2a0dd4a31c": {
     "model_module": "@jupyter-widgets/base",
     "model_module_version": "1.2.0",
     "model_name": "LayoutModel",
     "state": {
      "_model_module": "@jupyter-widgets/base",
      "_model_module_version": "1.2.0",
      "_model_name": "LayoutModel",
      "_view_count": null,
      "_view_module": "@jupyter-widgets/base",
      "_view_module_version": "1.2.0",
      "_view_name": "LayoutView",
      "align_content": null,
      "align_items": null,
      "align_self": null,
      "border": null,
      "bottom": null,
      "display": null,
      "flex": null,
      "flex_flow": null,
      "grid_area": null,
      "grid_auto_columns": null,
      "grid_auto_flow": null,
      "grid_auto_rows": null,
      "grid_column": null,
      "grid_gap": null,
      "grid_row": null,
      "grid_template_areas": null,
      "grid_template_columns": null,
      "grid_template_rows": null,
      "height": null,
      "justify_content": null,
      "justify_items": null,
      "left": null,
      "margin": null,
      "max_height": null,
      "max_width": null,
      "min_height": null,
      "min_width": null,
      "object_fit": null,
      "object_position": null,
      "order": null,
      "overflow": null,
      "overflow_x": null,
      "overflow_y": null,
      "padding": null,
      "right": null,
      "top": null,
      "visibility": null,
      "width": null
     }
    },
    "17feca3096d140c6a76fb1f6ee3113df": {
     "model_module": "@jupyter-widgets/base",
     "model_module_version": "1.2.0",
     "model_name": "LayoutModel",
     "state": {
      "_model_module": "@jupyter-widgets/base",
      "_model_module_version": "1.2.0",
      "_model_name": "LayoutModel",
      "_view_count": null,
      "_view_module": "@jupyter-widgets/base",
      "_view_module_version": "1.2.0",
      "_view_name": "LayoutView",
      "align_content": null,
      "align_items": null,
      "align_self": null,
      "border": null,
      "bottom": null,
      "display": null,
      "flex": null,
      "flex_flow": null,
      "grid_area": null,
      "grid_auto_columns": null,
      "grid_auto_flow": null,
      "grid_auto_rows": null,
      "grid_column": null,
      "grid_gap": null,
      "grid_row": null,
      "grid_template_areas": null,
      "grid_template_columns": null,
      "grid_template_rows": null,
      "height": null,
      "justify_content": null,
      "justify_items": null,
      "left": null,
      "margin": null,
      "max_height": null,
      "max_width": null,
      "min_height": null,
      "min_width": null,
      "object_fit": null,
      "object_position": null,
      "order": null,
      "overflow": null,
      "overflow_x": null,
      "overflow_y": null,
      "padding": null,
      "right": null,
      "top": null,
      "visibility": null,
      "width": null
     }
    },
    "18f94dfca56b4e9e905148ceb6efd30f": {
     "model_module": "@jupyter-widgets/controls",
     "model_module_version": "1.5.0",
     "model_name": "HTMLModel",
     "state": {
      "_dom_classes": [],
      "_model_module": "@jupyter-widgets/controls",
      "_model_module_version": "1.5.0",
      "_model_name": "HTMLModel",
      "_view_count": null,
      "_view_module": "@jupyter-widgets/controls",
      "_view_module_version": "1.5.0",
      "_view_name": "HTMLView",
      "description": "",
      "description_tooltip": null,
      "layout": "IPY_MODEL_f778a5ac44f647eb9774160b3a374654",
      "placeholder": "​",
      "style": "IPY_MODEL_76b5b87ddf5342ff9a890ba4b5579ac7",
      "value": " 10/1000 [00:09&lt;15:21,  1.07it/s]"
     }
    },
    "23517749a5094b2f8f4f113080e50156": {
     "model_module": "@jupyter-widgets/controls",
     "model_module_version": "1.5.0",
     "model_name": "ProgressStyleModel",
     "state": {
      "_model_module": "@jupyter-widgets/controls",
      "_model_module_version": "1.5.0",
      "_model_name": "ProgressStyleModel",
      "_view_count": null,
      "_view_module": "@jupyter-widgets/base",
      "_view_module_version": "1.2.0",
      "_view_name": "StyleView",
      "bar_color": null,
      "description_width": ""
     }
    },
    "23dbc4db63954147af6cad865070e9c1": {
     "model_module": "@jupyter-widgets/base",
     "model_module_version": "1.2.0",
     "model_name": "LayoutModel",
     "state": {
      "_model_module": "@jupyter-widgets/base",
      "_model_module_version": "1.2.0",
      "_model_name": "LayoutModel",
      "_view_count": null,
      "_view_module": "@jupyter-widgets/base",
      "_view_module_version": "1.2.0",
      "_view_name": "LayoutView",
      "align_content": null,
      "align_items": null,
      "align_self": null,
      "border": null,
      "bottom": null,
      "display": null,
      "flex": null,
      "flex_flow": null,
      "grid_area": null,
      "grid_auto_columns": null,
      "grid_auto_flow": null,
      "grid_auto_rows": null,
      "grid_column": null,
      "grid_gap": null,
      "grid_row": null,
      "grid_template_areas": null,
      "grid_template_columns": null,
      "grid_template_rows": null,
      "height": null,
      "justify_content": null,
      "justify_items": null,
      "left": null,
      "margin": null,
      "max_height": null,
      "max_width": null,
      "min_height": null,
      "min_width": null,
      "object_fit": null,
      "object_position": null,
      "order": null,
      "overflow": null,
      "overflow_x": null,
      "overflow_y": null,
      "padding": null,
      "right": null,
      "top": null,
      "visibility": null,
      "width": null
     }
    },
    "24e9a48ac43b4583b751539faa293b2d": {
     "model_module": "@jupyter-widgets/controls",
     "model_module_version": "1.5.0",
     "model_name": "DescriptionStyleModel",
     "state": {
      "_model_module": "@jupyter-widgets/controls",
      "_model_module_version": "1.5.0",
      "_model_name": "DescriptionStyleModel",
      "_view_count": null,
      "_view_module": "@jupyter-widgets/base",
      "_view_module_version": "1.2.0",
      "_view_name": "StyleView",
      "description_width": ""
     }
    },
    "33319166ff6a435498d4165ec8650d6d": {
     "model_module": "@jupyter-widgets/controls",
     "model_module_version": "1.5.0",
     "model_name": "HTMLModel",
     "state": {
      "_dom_classes": [],
      "_model_module": "@jupyter-widgets/controls",
      "_model_module_version": "1.5.0",
      "_model_name": "HTMLModel",
      "_view_count": null,
      "_view_module": "@jupyter-widgets/controls",
      "_view_module_version": "1.5.0",
      "_view_name": "HTMLView",
      "description": "",
      "description_tooltip": null,
      "layout": "IPY_MODEL_076769aaabaa4cb4a9a01e6a1dc0ccae",
      "placeholder": "​",
      "style": "IPY_MODEL_0297928873b94cd3a8f151911fc1f867",
      "value": " 25/1000 [00:25&lt;16:36,  1.02s/it]"
     }
    },
    "581315b6f1724142a3668186039a2b93": {
     "model_module": "@jupyter-widgets/controls",
     "model_module_version": "1.5.0",
     "model_name": "ProgressStyleModel",
     "state": {
      "_model_module": "@jupyter-widgets/controls",
      "_model_module_version": "1.5.0",
      "_model_name": "ProgressStyleModel",
      "_view_count": null,
      "_view_module": "@jupyter-widgets/base",
      "_view_module_version": "1.2.0",
      "_view_name": "StyleView",
      "bar_color": null,
      "description_width": ""
     }
    },
    "620f0cb7e14e42e5952218a59fc5aaa6": {
     "model_module": "@jupyter-widgets/controls",
     "model_module_version": "1.5.0",
     "model_name": "HBoxModel",
     "state": {
      "_dom_classes": [],
      "_model_module": "@jupyter-widgets/controls",
      "_model_module_version": "1.5.0",
      "_model_name": "HBoxModel",
      "_view_count": null,
      "_view_module": "@jupyter-widgets/controls",
      "_view_module_version": "1.5.0",
      "_view_name": "HBoxView",
      "box_style": "",
      "children": [
       "IPY_MODEL_cd7048cf46e94dd8acd11eb9f3dd0347",
       "IPY_MODEL_9a5419b29177425aaa212662cfbb12b1",
       "IPY_MODEL_8ac79a035b1c4b82a5f85cf8dd51de2e"
      ],
      "layout": "IPY_MODEL_a9f51ae55d204397814a13eb83400731"
     }
    },
    "6854763b9e2843c298cad47477634190": {
     "model_module": "@jupyter-widgets/controls",
     "model_module_version": "1.5.0",
     "model_name": "ProgressStyleModel",
     "state": {
      "_model_module": "@jupyter-widgets/controls",
      "_model_module_version": "1.5.0",
      "_model_name": "ProgressStyleModel",
      "_view_count": null,
      "_view_module": "@jupyter-widgets/base",
      "_view_module_version": "1.2.0",
      "_view_name": "StyleView",
      "bar_color": null,
      "description_width": ""
     }
    },
    "76b5b87ddf5342ff9a890ba4b5579ac7": {
     "model_module": "@jupyter-widgets/controls",
     "model_module_version": "1.5.0",
     "model_name": "DescriptionStyleModel",
     "state": {
      "_model_module": "@jupyter-widgets/controls",
      "_model_module_version": "1.5.0",
      "_model_name": "DescriptionStyleModel",
      "_view_count": null,
      "_view_module": "@jupyter-widgets/base",
      "_view_module_version": "1.2.0",
      "_view_name": "StyleView",
      "description_width": ""
     }
    },
    "796a0f3111ed4154832efcc9ab5fb7af": {
     "model_module": "@jupyter-widgets/controls",
     "model_module_version": "1.5.0",
     "model_name": "FloatProgressModel",
     "state": {
      "_dom_classes": [],
      "_model_module": "@jupyter-widgets/controls",
      "_model_module_version": "1.5.0",
      "_model_name": "FloatProgressModel",
      "_view_count": null,
      "_view_module": "@jupyter-widgets/controls",
      "_view_module_version": "1.5.0",
      "_view_name": "ProgressView",
      "bar_style": "danger",
      "description": "",
      "description_tooltip": null,
      "layout": "IPY_MODEL_17feca3096d140c6a76fb1f6ee3113df",
      "max": 1000,
      "min": 0,
      "orientation": "horizontal",
      "style": "IPY_MODEL_23517749a5094b2f8f4f113080e50156",
      "value": 10
     }
    },
    "7cce43199a9e43e596ac0ea2388faac7": {
     "model_module": "@jupyter-widgets/base",
     "model_module_version": "1.2.0",
     "model_name": "LayoutModel",
     "state": {
      "_model_module": "@jupyter-widgets/base",
      "_model_module_version": "1.2.0",
      "_model_name": "LayoutModel",
      "_view_count": null,
      "_view_module": "@jupyter-widgets/base",
      "_view_module_version": "1.2.0",
      "_view_name": "LayoutView",
      "align_content": null,
      "align_items": null,
      "align_self": null,
      "border": null,
      "bottom": null,
      "display": null,
      "flex": null,
      "flex_flow": null,
      "grid_area": null,
      "grid_auto_columns": null,
      "grid_auto_flow": null,
      "grid_auto_rows": null,
      "grid_column": null,
      "grid_gap": null,
      "grid_row": null,
      "grid_template_areas": null,
      "grid_template_columns": null,
      "grid_template_rows": null,
      "height": null,
      "justify_content": null,
      "justify_items": null,
      "left": null,
      "margin": null,
      "max_height": null,
      "max_width": null,
      "min_height": null,
      "min_width": null,
      "object_fit": null,
      "object_position": null,
      "order": null,
      "overflow": null,
      "overflow_x": null,
      "overflow_y": null,
      "padding": null,
      "right": null,
      "top": null,
      "visibility": null,
      "width": null
     }
    },
    "87d5888b36b747ca841ee7b52c21bae8": {
     "model_module": "@jupyter-widgets/controls",
     "model_module_version": "1.5.0",
     "model_name": "DescriptionStyleModel",
     "state": {
      "_model_module": "@jupyter-widgets/controls",
      "_model_module_version": "1.5.0",
      "_model_name": "DescriptionStyleModel",
      "_view_count": null,
      "_view_module": "@jupyter-widgets/base",
      "_view_module_version": "1.2.0",
      "_view_name": "StyleView",
      "description_width": ""
     }
    },
    "88bd07d002e34ce0b22beb04ab282c58": {
     "model_module": "@jupyter-widgets/controls",
     "model_module_version": "1.5.0",
     "model_name": "DescriptionStyleModel",
     "state": {
      "_model_module": "@jupyter-widgets/controls",
      "_model_module_version": "1.5.0",
      "_model_name": "DescriptionStyleModel",
      "_view_count": null,
      "_view_module": "@jupyter-widgets/base",
      "_view_module_version": "1.2.0",
      "_view_name": "StyleView",
      "description_width": ""
     }
    },
    "8ac79a035b1c4b82a5f85cf8dd51de2e": {
     "model_module": "@jupyter-widgets/controls",
     "model_module_version": "1.5.0",
     "model_name": "HTMLModel",
     "state": {
      "_dom_classes": [],
      "_model_module": "@jupyter-widgets/controls",
      "_model_module_version": "1.5.0",
      "_model_name": "HTMLModel",
      "_view_count": null,
      "_view_module": "@jupyter-widgets/controls",
      "_view_module_version": "1.5.0",
      "_view_name": "HTMLView",
      "description": "",
      "description_tooltip": null,
      "layout": "IPY_MODEL_e5a0ae69d27a4b00a1f8765d1aa911e8",
      "placeholder": "​",
      "style": "IPY_MODEL_e823774c54ac462196d06870a4967f22",
      "value": " 10/1000 [00:08&lt;12:29,  1.32it/s]"
     }
    },
    "8cf01c02117e404b8a91ea20dfd25cbd": {
     "model_module": "@jupyter-widgets/controls",
     "model_module_version": "1.5.0",
     "model_name": "HBoxModel",
     "state": {
      "_dom_classes": [],
      "_model_module": "@jupyter-widgets/controls",
      "_model_module_version": "1.5.0",
      "_model_name": "HBoxModel",
      "_view_count": null,
      "_view_module": "@jupyter-widgets/controls",
      "_view_module_version": "1.5.0",
      "_view_name": "HBoxView",
      "box_style": "",
      "children": [
       "IPY_MODEL_a32aeb1cf9024d1697214e2d4cb244d8",
       "IPY_MODEL_9adea0c2e5194f3d9c2a3143ee289e84",
       "IPY_MODEL_33319166ff6a435498d4165ec8650d6d"
      ],
      "layout": "IPY_MODEL_145a01f9faf448e199415c2a0dd4a31c"
     }
    },
    "928f94d2feb8443f9dc48588e6b6da17": {
     "model_module": "@jupyter-widgets/controls",
     "model_module_version": "1.5.0",
     "model_name": "ProgressStyleModel",
     "state": {
      "_model_module": "@jupyter-widgets/controls",
      "_model_module_version": "1.5.0",
      "_model_name": "ProgressStyleModel",
      "_view_count": null,
      "_view_module": "@jupyter-widgets/base",
      "_view_module_version": "1.2.0",
      "_view_name": "StyleView",
      "bar_color": null,
      "description_width": ""
     }
    },
    "94b5af3c84ef4ca88e718c7267b967d0": {
     "model_module": "@jupyter-widgets/base",
     "model_module_version": "1.2.0",
     "model_name": "LayoutModel",
     "state": {
      "_model_module": "@jupyter-widgets/base",
      "_model_module_version": "1.2.0",
      "_model_name": "LayoutModel",
      "_view_count": null,
      "_view_module": "@jupyter-widgets/base",
      "_view_module_version": "1.2.0",
      "_view_name": "LayoutView",
      "align_content": null,
      "align_items": null,
      "align_self": null,
      "border": null,
      "bottom": null,
      "display": null,
      "flex": null,
      "flex_flow": null,
      "grid_area": null,
      "grid_auto_columns": null,
      "grid_auto_flow": null,
      "grid_auto_rows": null,
      "grid_column": null,
      "grid_gap": null,
      "grid_row": null,
      "grid_template_areas": null,
      "grid_template_columns": null,
      "grid_template_rows": null,
      "height": null,
      "justify_content": null,
      "justify_items": null,
      "left": null,
      "margin": null,
      "max_height": null,
      "max_width": null,
      "min_height": null,
      "min_width": null,
      "object_fit": null,
      "object_position": null,
      "order": null,
      "overflow": null,
      "overflow_x": null,
      "overflow_y": null,
      "padding": null,
      "right": null,
      "top": null,
      "visibility": null,
      "width": null
     }
    },
    "9a5419b29177425aaa212662cfbb12b1": {
     "model_module": "@jupyter-widgets/controls",
     "model_module_version": "1.5.0",
     "model_name": "FloatProgressModel",
     "state": {
      "_dom_classes": [],
      "_model_module": "@jupyter-widgets/controls",
      "_model_module_version": "1.5.0",
      "_model_name": "FloatProgressModel",
      "_view_count": null,
      "_view_module": "@jupyter-widgets/controls",
      "_view_module_version": "1.5.0",
      "_view_name": "ProgressView",
      "bar_style": "danger",
      "description": "",
      "description_tooltip": null,
      "layout": "IPY_MODEL_ddf2c97e85c3476fb5503619665ac095",
      "max": 1000,
      "min": 0,
      "orientation": "horizontal",
      "style": "IPY_MODEL_6854763b9e2843c298cad47477634190",
      "value": 10
     }
    },
    "9adea0c2e5194f3d9c2a3143ee289e84": {
     "model_module": "@jupyter-widgets/controls",
     "model_module_version": "1.5.0",
     "model_name": "FloatProgressModel",
     "state": {
      "_dom_classes": [],
      "_model_module": "@jupyter-widgets/controls",
      "_model_module_version": "1.5.0",
      "_model_name": "FloatProgressModel",
      "_view_count": null,
      "_view_module": "@jupyter-widgets/controls",
      "_view_module_version": "1.5.0",
      "_view_name": "ProgressView",
      "bar_style": "danger",
      "description": "",
      "description_tooltip": null,
      "layout": "IPY_MODEL_de6388e8a7b84862869ee57e3327dca5",
      "max": 1000,
      "min": 0,
      "orientation": "horizontal",
      "style": "IPY_MODEL_928f94d2feb8443f9dc48588e6b6da17",
      "value": 25
     }
    },
    "9c6f7b2b9ed045ceaadc123814a4d669": {
     "model_module": "@jupyter-widgets/controls",
     "model_module_version": "1.5.0",
     "model_name": "DescriptionStyleModel",
     "state": {
      "_model_module": "@jupyter-widgets/controls",
      "_model_module_version": "1.5.0",
      "_model_name": "DescriptionStyleModel",
      "_view_count": null,
      "_view_module": "@jupyter-widgets/base",
      "_view_module_version": "1.2.0",
      "_view_name": "StyleView",
      "description_width": ""
     }
    },
    "9e46138035ed4f56a694ab4e929e4489": {
     "model_module": "@jupyter-widgets/base",
     "model_module_version": "1.2.0",
     "model_name": "LayoutModel",
     "state": {
      "_model_module": "@jupyter-widgets/base",
      "_model_module_version": "1.2.0",
      "_model_name": "LayoutModel",
      "_view_count": null,
      "_view_module": "@jupyter-widgets/base",
      "_view_module_version": "1.2.0",
      "_view_name": "LayoutView",
      "align_content": null,
      "align_items": null,
      "align_self": null,
      "border": null,
      "bottom": null,
      "display": null,
      "flex": null,
      "flex_flow": null,
      "grid_area": null,
      "grid_auto_columns": null,
      "grid_auto_flow": null,
      "grid_auto_rows": null,
      "grid_column": null,
      "grid_gap": null,
      "grid_row": null,
      "grid_template_areas": null,
      "grid_template_columns": null,
      "grid_template_rows": null,
      "height": null,
      "justify_content": null,
      "justify_items": null,
      "left": null,
      "margin": null,
      "max_height": null,
      "max_width": null,
      "min_height": null,
      "min_width": null,
      "object_fit": null,
      "object_position": null,
      "order": null,
      "overflow": null,
      "overflow_x": null,
      "overflow_y": null,
      "padding": null,
      "right": null,
      "top": null,
      "visibility": null,
      "width": null
     }
    },
    "a1f38c18a3c243a3b41bbbff58ee481b": {
     "model_module": "@jupyter-widgets/base",
     "model_module_version": "1.2.0",
     "model_name": "LayoutModel",
     "state": {
      "_model_module": "@jupyter-widgets/base",
      "_model_module_version": "1.2.0",
      "_model_name": "LayoutModel",
      "_view_count": null,
      "_view_module": "@jupyter-widgets/base",
      "_view_module_version": "1.2.0",
      "_view_name": "LayoutView",
      "align_content": null,
      "align_items": null,
      "align_self": null,
      "border": null,
      "bottom": null,
      "display": null,
      "flex": null,
      "flex_flow": null,
      "grid_area": null,
      "grid_auto_columns": null,
      "grid_auto_flow": null,
      "grid_auto_rows": null,
      "grid_column": null,
      "grid_gap": null,
      "grid_row": null,
      "grid_template_areas": null,
      "grid_template_columns": null,
      "grid_template_rows": null,
      "height": null,
      "justify_content": null,
      "justify_items": null,
      "left": null,
      "margin": null,
      "max_height": null,
      "max_width": null,
      "min_height": null,
      "min_width": null,
      "object_fit": null,
      "object_position": null,
      "order": null,
      "overflow": null,
      "overflow_x": null,
      "overflow_y": null,
      "padding": null,
      "right": null,
      "top": null,
      "visibility": null,
      "width": null
     }
    },
    "a32aeb1cf9024d1697214e2d4cb244d8": {
     "model_module": "@jupyter-widgets/controls",
     "model_module_version": "1.5.0",
     "model_name": "HTMLModel",
     "state": {
      "_dom_classes": [],
      "_model_module": "@jupyter-widgets/controls",
      "_model_module_version": "1.5.0",
      "_model_name": "HTMLModel",
      "_view_count": null,
      "_view_module": "@jupyter-widgets/controls",
      "_view_module_version": "1.5.0",
      "_view_name": "HTMLView",
      "description": "",
      "description_tooltip": null,
      "layout": "IPY_MODEL_9e46138035ed4f56a694ab4e929e4489",
      "placeholder": "​",
      "style": "IPY_MODEL_9c6f7b2b9ed045ceaadc123814a4d669",
      "value": "  2%"
     }
    },
    "a9f51ae55d204397814a13eb83400731": {
     "model_module": "@jupyter-widgets/base",
     "model_module_version": "1.2.0",
     "model_name": "LayoutModel",
     "state": {
      "_model_module": "@jupyter-widgets/base",
      "_model_module_version": "1.2.0",
      "_model_name": "LayoutModel",
      "_view_count": null,
      "_view_module": "@jupyter-widgets/base",
      "_view_module_version": "1.2.0",
      "_view_name": "LayoutView",
      "align_content": null,
      "align_items": null,
      "align_self": null,
      "border": null,
      "bottom": null,
      "display": null,
      "flex": null,
      "flex_flow": null,
      "grid_area": null,
      "grid_auto_columns": null,
      "grid_auto_flow": null,
      "grid_auto_rows": null,
      "grid_column": null,
      "grid_gap": null,
      "grid_row": null,
      "grid_template_areas": null,
      "grid_template_columns": null,
      "grid_template_rows": null,
      "height": null,
      "justify_content": null,
      "justify_items": null,
      "left": null,
      "margin": null,
      "max_height": null,
      "max_width": null,
      "min_height": null,
      "min_width": null,
      "object_fit": null,
      "object_position": null,
      "order": null,
      "overflow": null,
      "overflow_x": null,
      "overflow_y": null,
      "padding": null,
      "right": null,
      "top": null,
      "visibility": null,
      "width": null
     }
    },
    "ab44eb851a9f479f98bba217d27c7984": {
     "model_module": "@jupyter-widgets/controls",
     "model_module_version": "1.5.0",
     "model_name": "HTMLModel",
     "state": {
      "_dom_classes": [],
      "_model_module": "@jupyter-widgets/controls",
      "_model_module_version": "1.5.0",
      "_model_name": "HTMLModel",
      "_view_count": null,
      "_view_module": "@jupyter-widgets/controls",
      "_view_module_version": "1.5.0",
      "_view_name": "HTMLView",
      "description": "",
      "description_tooltip": null,
      "layout": "IPY_MODEL_94b5af3c84ef4ca88e718c7267b967d0",
      "placeholder": "​",
      "style": "IPY_MODEL_f73976938180467a8a10322c149efc05",
      "value": " 52/1000 [00:50&lt;14:14,  1.11it/s]"
     }
    },
    "b68b01a6ac7843468b61984805819316": {
     "model_module": "@jupyter-widgets/controls",
     "model_module_version": "1.5.0",
     "model_name": "HTMLModel",
     "state": {
      "_dom_classes": [],
      "_model_module": "@jupyter-widgets/controls",
      "_model_module_version": "1.5.0",
      "_model_name": "HTMLModel",
      "_view_count": null,
      "_view_module": "@jupyter-widgets/controls",
      "_view_module_version": "1.5.0",
      "_view_name": "HTMLView",
      "description": "",
      "description_tooltip": null,
      "layout": "IPY_MODEL_23dbc4db63954147af6cad865070e9c1",
      "placeholder": "​",
      "style": "IPY_MODEL_87d5888b36b747ca841ee7b52c21bae8",
      "value": "  5%"
     }
    },
    "cd7048cf46e94dd8acd11eb9f3dd0347": {
     "model_module": "@jupyter-widgets/controls",
     "model_module_version": "1.5.0",
     "model_name": "HTMLModel",
     "state": {
      "_dom_classes": [],
      "_model_module": "@jupyter-widgets/controls",
      "_model_module_version": "1.5.0",
      "_model_name": "HTMLModel",
      "_view_count": null,
      "_view_module": "@jupyter-widgets/controls",
      "_view_module_version": "1.5.0",
      "_view_name": "HTMLView",
      "description": "",
      "description_tooltip": null,
      "layout": "IPY_MODEL_09af96ccd4c64ccabf15f7044fd4881c",
      "placeholder": "​",
      "style": "IPY_MODEL_88bd07d002e34ce0b22beb04ab282c58",
      "value": "  1%"
     }
    },
    "d089b9c3945c47249248069decac4aad": {
     "model_module": "@jupyter-widgets/controls",
     "model_module_version": "1.5.0",
     "model_name": "HBoxModel",
     "state": {
      "_dom_classes": [],
      "_model_module": "@jupyter-widgets/controls",
      "_model_module_version": "1.5.0",
      "_model_name": "HBoxModel",
      "_view_count": null,
      "_view_module": "@jupyter-widgets/controls",
      "_view_module_version": "1.5.0",
      "_view_name": "HBoxView",
      "box_style": "",
      "children": [
       "IPY_MODEL_e27aca97d81d41f7835948a5364d2d76",
       "IPY_MODEL_796a0f3111ed4154832efcc9ab5fb7af",
       "IPY_MODEL_18f94dfca56b4e9e905148ceb6efd30f"
      ],
      "layout": "IPY_MODEL_a1f38c18a3c243a3b41bbbff58ee481b"
     }
    },
    "d1a5d5d387bd4a8bba92a1b73e54e741": {
     "model_module": "@jupyter-widgets/controls",
     "model_module_version": "1.5.0",
     "model_name": "FloatProgressModel",
     "state": {
      "_dom_classes": [],
      "_model_module": "@jupyter-widgets/controls",
      "_model_module_version": "1.5.0",
      "_model_name": "FloatProgressModel",
      "_view_count": null,
      "_view_module": "@jupyter-widgets/controls",
      "_view_module_version": "1.5.0",
      "_view_name": "ProgressView",
      "bar_style": "danger",
      "description": "",
      "description_tooltip": null,
      "layout": "IPY_MODEL_0a37c61638bc4be5b1809833fcdb4561",
      "max": 1000,
      "min": 0,
      "orientation": "horizontal",
      "style": "IPY_MODEL_581315b6f1724142a3668186039a2b93",
      "value": 52
     }
    },
    "ddf2c97e85c3476fb5503619665ac095": {
     "model_module": "@jupyter-widgets/base",
     "model_module_version": "1.2.0",
     "model_name": "LayoutModel",
     "state": {
      "_model_module": "@jupyter-widgets/base",
      "_model_module_version": "1.2.0",
      "_model_name": "LayoutModel",
      "_view_count": null,
      "_view_module": "@jupyter-widgets/base",
      "_view_module_version": "1.2.0",
      "_view_name": "LayoutView",
      "align_content": null,
      "align_items": null,
      "align_self": null,
      "border": null,
      "bottom": null,
      "display": null,
      "flex": null,
      "flex_flow": null,
      "grid_area": null,
      "grid_auto_columns": null,
      "grid_auto_flow": null,
      "grid_auto_rows": null,
      "grid_column": null,
      "grid_gap": null,
      "grid_row": null,
      "grid_template_areas": null,
      "grid_template_columns": null,
      "grid_template_rows": null,
      "height": null,
      "justify_content": null,
      "justify_items": null,
      "left": null,
      "margin": null,
      "max_height": null,
      "max_width": null,
      "min_height": null,
      "min_width": null,
      "object_fit": null,
      "object_position": null,
      "order": null,
      "overflow": null,
      "overflow_x": null,
      "overflow_y": null,
      "padding": null,
      "right": null,
      "top": null,
      "visibility": null,
      "width": null
     }
    },
    "de6388e8a7b84862869ee57e3327dca5": {
     "model_module": "@jupyter-widgets/base",
     "model_module_version": "1.2.0",
     "model_name": "LayoutModel",
     "state": {
      "_model_module": "@jupyter-widgets/base",
      "_model_module_version": "1.2.0",
      "_model_name": "LayoutModel",
      "_view_count": null,
      "_view_module": "@jupyter-widgets/base",
      "_view_module_version": "1.2.0",
      "_view_name": "LayoutView",
      "align_content": null,
      "align_items": null,
      "align_self": null,
      "border": null,
      "bottom": null,
      "display": null,
      "flex": null,
      "flex_flow": null,
      "grid_area": null,
      "grid_auto_columns": null,
      "grid_auto_flow": null,
      "grid_auto_rows": null,
      "grid_column": null,
      "grid_gap": null,
      "grid_row": null,
      "grid_template_areas": null,
      "grid_template_columns": null,
      "grid_template_rows": null,
      "height": null,
      "justify_content": null,
      "justify_items": null,
      "left": null,
      "margin": null,
      "max_height": null,
      "max_width": null,
      "min_height": null,
      "min_width": null,
      "object_fit": null,
      "object_position": null,
      "order": null,
      "overflow": null,
      "overflow_x": null,
      "overflow_y": null,
      "padding": null,
      "right": null,
      "top": null,
      "visibility": null,
      "width": null
     }
    },
    "e27aca97d81d41f7835948a5364d2d76": {
     "model_module": "@jupyter-widgets/controls",
     "model_module_version": "1.5.0",
     "model_name": "HTMLModel",
     "state": {
      "_dom_classes": [],
      "_model_module": "@jupyter-widgets/controls",
      "_model_module_version": "1.5.0",
      "_model_name": "HTMLModel",
      "_view_count": null,
      "_view_module": "@jupyter-widgets/controls",
      "_view_module_version": "1.5.0",
      "_view_name": "HTMLView",
      "description": "",
      "description_tooltip": null,
      "layout": "IPY_MODEL_7cce43199a9e43e596ac0ea2388faac7",
      "placeholder": "​",
      "style": "IPY_MODEL_24e9a48ac43b4583b751539faa293b2d",
      "value": "  1%"
     }
    },
    "e5a0ae69d27a4b00a1f8765d1aa911e8": {
     "model_module": "@jupyter-widgets/base",
     "model_module_version": "1.2.0",
     "model_name": "LayoutModel",
     "state": {
      "_model_module": "@jupyter-widgets/base",
      "_model_module_version": "1.2.0",
      "_model_name": "LayoutModel",
      "_view_count": null,
      "_view_module": "@jupyter-widgets/base",
      "_view_module_version": "1.2.0",
      "_view_name": "LayoutView",
      "align_content": null,
      "align_items": null,
      "align_self": null,
      "border": null,
      "bottom": null,
      "display": null,
      "flex": null,
      "flex_flow": null,
      "grid_area": null,
      "grid_auto_columns": null,
      "grid_auto_flow": null,
      "grid_auto_rows": null,
      "grid_column": null,
      "grid_gap": null,
      "grid_row": null,
      "grid_template_areas": null,
      "grid_template_columns": null,
      "grid_template_rows": null,
      "height": null,
      "justify_content": null,
      "justify_items": null,
      "left": null,
      "margin": null,
      "max_height": null,
      "max_width": null,
      "min_height": null,
      "min_width": null,
      "object_fit": null,
      "object_position": null,
      "order": null,
      "overflow": null,
      "overflow_x": null,
      "overflow_y": null,
      "padding": null,
      "right": null,
      "top": null,
      "visibility": null,
      "width": null
     }
    },
    "e823774c54ac462196d06870a4967f22": {
     "model_module": "@jupyter-widgets/controls",
     "model_module_version": "1.5.0",
     "model_name": "DescriptionStyleModel",
     "state": {
      "_model_module": "@jupyter-widgets/controls",
      "_model_module_version": "1.5.0",
      "_model_name": "DescriptionStyleModel",
      "_view_count": null,
      "_view_module": "@jupyter-widgets/base",
      "_view_module_version": "1.2.0",
      "_view_name": "StyleView",
      "description_width": ""
     }
    },
    "e836810c91334145950746ad86b6dd76": {
     "model_module": "@jupyter-widgets/base",
     "model_module_version": "1.2.0",
     "model_name": "LayoutModel",
     "state": {
      "_model_module": "@jupyter-widgets/base",
      "_model_module_version": "1.2.0",
      "_model_name": "LayoutModel",
      "_view_count": null,
      "_view_module": "@jupyter-widgets/base",
      "_view_module_version": "1.2.0",
      "_view_name": "LayoutView",
      "align_content": null,
      "align_items": null,
      "align_self": null,
      "border": null,
      "bottom": null,
      "display": null,
      "flex": null,
      "flex_flow": null,
      "grid_area": null,
      "grid_auto_columns": null,
      "grid_auto_flow": null,
      "grid_auto_rows": null,
      "grid_column": null,
      "grid_gap": null,
      "grid_row": null,
      "grid_template_areas": null,
      "grid_template_columns": null,
      "grid_template_rows": null,
      "height": null,
      "justify_content": null,
      "justify_items": null,
      "left": null,
      "margin": null,
      "max_height": null,
      "max_width": null,
      "min_height": null,
      "min_width": null,
      "object_fit": null,
      "object_position": null,
      "order": null,
      "overflow": null,
      "overflow_x": null,
      "overflow_y": null,
      "padding": null,
      "right": null,
      "top": null,
      "visibility": null,
      "width": null
     }
    },
    "e8b6e970e9484fbc9893d97586e047fb": {
     "model_module": "@jupyter-widgets/controls",
     "model_module_version": "1.5.0",
     "model_name": "HBoxModel",
     "state": {
      "_dom_classes": [],
      "_model_module": "@jupyter-widgets/controls",
      "_model_module_version": "1.5.0",
      "_model_name": "HBoxModel",
      "_view_count": null,
      "_view_module": "@jupyter-widgets/controls",
      "_view_module_version": "1.5.0",
      "_view_name": "HBoxView",
      "box_style": "",
      "children": [
       "IPY_MODEL_b68b01a6ac7843468b61984805819316",
       "IPY_MODEL_d1a5d5d387bd4a8bba92a1b73e54e741",
       "IPY_MODEL_ab44eb851a9f479f98bba217d27c7984"
      ],
      "layout": "IPY_MODEL_e836810c91334145950746ad86b6dd76"
     }
    },
    "f73976938180467a8a10322c149efc05": {
     "model_module": "@jupyter-widgets/controls",
     "model_module_version": "1.5.0",
     "model_name": "DescriptionStyleModel",
     "state": {
      "_model_module": "@jupyter-widgets/controls",
      "_model_module_version": "1.5.0",
      "_model_name": "DescriptionStyleModel",
      "_view_count": null,
      "_view_module": "@jupyter-widgets/base",
      "_view_module_version": "1.2.0",
      "_view_name": "StyleView",
      "description_width": ""
     }
    },
    "f778a5ac44f647eb9774160b3a374654": {
     "model_module": "@jupyter-widgets/base",
     "model_module_version": "1.2.0",
     "model_name": "LayoutModel",
     "state": {
      "_model_module": "@jupyter-widgets/base",
      "_model_module_version": "1.2.0",
      "_model_name": "LayoutModel",
      "_view_count": null,
      "_view_module": "@jupyter-widgets/base",
      "_view_module_version": "1.2.0",
      "_view_name": "LayoutView",
      "align_content": null,
      "align_items": null,
      "align_self": null,
      "border": null,
      "bottom": null,
      "display": null,
      "flex": null,
      "flex_flow": null,
      "grid_area": null,
      "grid_auto_columns": null,
      "grid_auto_flow": null,
      "grid_auto_rows": null,
      "grid_column": null,
      "grid_gap": null,
      "grid_row": null,
      "grid_template_areas": null,
      "grid_template_columns": null,
      "grid_template_rows": null,
      "height": null,
      "justify_content": null,
      "justify_items": null,
      "left": null,
      "margin": null,
      "max_height": null,
      "max_width": null,
      "min_height": null,
      "min_width": null,
      "object_fit": null,
      "object_position": null,
      "order": null,
      "overflow": null,
      "overflow_x": null,
      "overflow_y": null,
      "padding": null,
      "right": null,
      "top": null,
      "visibility": null,
      "width": null
     }
    }
   }
  }
 },
 "nbformat": 4,
 "nbformat_minor": 0
}
