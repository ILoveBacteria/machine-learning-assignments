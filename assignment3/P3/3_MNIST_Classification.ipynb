{
 "cells": [
  {
   "cell_type": "markdown",
   "metadata": {
    "id": "dAeR3wXSum22"
   },
   "source": [
    "<center> <b>Machine Learning - SBU FALL 2024</b></center>"
   ]
  },
  {
   "cell_type": "code",
   "execution_count": 1,
   "metadata": {
    "id": "tRyRtrnxum24"
   },
   "outputs": [],
   "source": [
    "Student_Number = '400243059'\n",
    "Name = 'Mohammad Moein'\n",
    "Last_Name = 'Arabi'"
   ]
  },
  {
   "cell_type": "markdown",
   "metadata": {
    "id": "S5p_JqgCx66W"
   },
   "source": [
    "# Connect to gDrive"
   ]
  },
  {
   "cell_type": "code",
   "execution_count": 2,
   "metadata": {
    "colab": {
     "base_uri": "https://localhost:8080/"
    },
    "id": "xQnt7oPj_yeK",
    "outputId": "5b587ea7-e43c-42d5-db3c-43fd3fa7ac10"
   },
   "outputs": [],
   "source": [
    "# from google.colab import drive\n",
    "# drive.mount('/content/drive')"
   ]
  },
  {
   "cell_type": "code",
   "execution_count": 3,
   "metadata": {
    "id": "dnQTNoM0jcdk"
   },
   "outputs": [],
   "source": [
    "import os\n",
    "\n",
    "# BASE_PATH = 'drive/MyDrive/ColabNotebooks/MNIST/'\n",
    "BASE_PATH = './'\n",
    "if not os.path.exists(BASE_PATH):\n",
    "    raise ValueError('path does not exist')"
   ]
  },
  {
   "cell_type": "markdown",
   "metadata": {
    "id": "31jdNrgkWCfj"
   },
   "source": [
    "# Imported Libraries"
   ]
  },
  {
   "cell_type": "code",
   "execution_count": 4,
   "metadata": {
    "id": "mBW9l5srum25"
   },
   "outputs": [],
   "source": [
    "import os\n",
    "import copy\n",
    "import pickle\n",
    "\n",
    "from tqdm.notebook import tqdm\n",
    "import torch\n",
    "import torch.nn as nn               # For building neural network layers\n",
    "import torch.optim as optim         # For optimizers (SGD, Adam, etc.)\n",
    "import torch.nn.functional as F     # For activation functions and other operations\n",
    "from torchvision import datasets, transforms  # For MNIST dataset and data preprocessing if its needed\n",
    "from torch.utils.data import DataLoader       # For batching and shuffling data\n",
    "\n",
    "# Additional libraries for visualization and analysis\n",
    "import matplotlib.pyplot as plt     # For plotting graphs and visualizations\n",
    "import numpy as np                  # For numerical operations\n",
    "import seaborn as sns               # For plotting the confusion matrix heatmap\n",
    "from sklearn.metrics import confusion_matrix  # For computing the confusion matrix"
   ]
  },
  {
   "cell_type": "code",
   "execution_count": null,
   "metadata": {},
   "outputs": [],
   "source": [
    "from IPython.core.magic import register_cell_magic\n",
    "\n",
    "@register_cell_magic\n",
    "def skip(line, cell):\n",
    "    return"
   ]
  },
  {
   "cell_type": "markdown",
   "metadata": {
    "id": "Y9RkIPvEtjVk"
   },
   "source": [
    "# Build a Model for the MNIST Dataset\n"
   ]
  },
  {
   "cell_type": "markdown",
   "metadata": {
    "id": "WQhCgMOpWCfr"
   },
   "source": [
    "## Objective\n",
    "\n",
    "In this Notebook, your goal is to build a machine learning model that achieves an accuracy of **98% or higher** on the MNIST dataset. The MNIST dataset contains images of handwritten digits (0-9), and it’s a popular benchmark for evaluating classification models. To achieve this accuracy threshold, you’ll need to carefully design, train, and evaluate your model.\n",
    "\n",
    "\n",
    "Using only the provided libraries, you will:\n",
    "1. **Load and preprocess** the MNIST data.\n",
    "2. **Build** a neural network model suitable for image classification.\n",
    "3. **Train** the model on the training data, monitoring accuracy and adjusting parameters as needed.\n",
    "4. **Evaluate** the model on the test data to ensure it meets the required accuracy threshold.\n",
    "\n",
    "Each cell in this section will guide you through these steps, with descriptions explaining the purpose of each step and what you need to do. Follow the instructions carefully, and use your understanding of neural networks to achieve the best possible performance on the MNIST dataset."
   ]
  },
  {
   "cell_type": "markdown",
   "metadata": {
    "id": "9xL7M6sItjVm"
   },
   "source": [
    "## Step 1: Loading and Preprocessing the MNIST Dataset\n"
   ]
  },
  {
   "cell_type": "markdown",
   "metadata": {
    "id": "_32shWkIWCfs"
   },
   "source": [
    "In this cell, you will:\n",
    "1. **Load the MNIST dataset**: This dataset consists of 28x28 grayscale images of handwritten digits (0–9). Each image is represented as a 28x28 array of pixel values, and each label corresponds to the digit in the image.\n",
    "   \n",
    "2. **Define key variables**:\n",
    "   - `num_classes`: The number of unique classes in the dataset (0–9).\n",
    "   - `input_shape`: The shape of each image, which will help in defining the model's input layer.\n",
    "   - `num_features`: The total number of pixels in each image, useful if you need to flatten the images into a 1D vector for the model.\n",
    "\n",
    "3. **Normalize the pixel values**: The pixel values are divided by 255 to rescale them from their original range of 0–255 to a range of 0–1. This normalization step helps the model converge faster and improves performance.\n",
    "\n",
    "4. **One-hot encode the labels**: Convert the labels into a one-hot encoded format. Instead of representing the labels as single integers (e.g., `3` for the digit 3), one-hot encoding represents each label as a binary vector (e.g., `[0, 0, 0, 1, 0, 0, 0, 0, 0, 0]` for the digit 3). This format is commonly used for multi-class classification problems and is required for training neural networks effectively.\n",
    "\n",
    "By the end of this cell, your data will be ready for building and training the model."
   ]
  },
  {
   "cell_type": "code",
   "execution_count": 5,
   "metadata": {
    "colab": {
     "base_uri": "https://localhost:8080/"
    },
    "id": "OpzdWGZ7WCfs",
    "outputId": "019e3a5c-79f6-4700-c6ef-38787e530b65"
   },
   "outputs": [],
   "source": [
    "# Load the MNIST dataset\n",
    "train, test = datasets.MNIST(root='.', train=True, download=True), datasets.MNIST(root='.', train=False, download=True)"
   ]
  },
  {
   "cell_type": "code",
   "execution_count": 6,
   "metadata": {
    "colab": {
     "base_uri": "https://localhost:8080/"
    },
    "id": "K6kxGER5um26",
    "outputId": "9cf5e805-82da-458c-9a89-d60e338e1b87"
   },
   "outputs": [
    {
     "name": "stderr",
     "output_type": "stream",
     "text": [
      "C:\\Users\\asus\\AppData\\Local\\Temp\\ipykernel_23664\\2191496667.py:1: UserWarning: To copy construct from a tensor, it is recommended to use sourceTensor.clone().detach() or sourceTensor.clone().detach().requires_grad_(True), rather than torch.tensor(sourceTensor).\n",
      "  x_train, y_train = torch.tensor(train.data), torch.tensor(train.targets)\n",
      "C:\\Users\\asus\\AppData\\Local\\Temp\\ipykernel_23664\\2191496667.py:2: UserWarning: To copy construct from a tensor, it is recommended to use sourceTensor.clone().detach() or sourceTensor.clone().detach().requires_grad_(True), rather than torch.tensor(sourceTensor).\n",
      "  x_test, y_test = torch.tensor(test.data), torch.tensor(test.targets)\n"
     ]
    }
   ],
   "source": [
    "x_train, y_train = torch.tensor(train.data), torch.tensor(train.targets)\n",
    "x_test, y_test = torch.tensor(test.data), torch.tensor(test.targets)\n",
    "num_classes = len(np.unique(y_train))\n",
    "input_shape = x_train.shape[1:]\n",
    "num_features = np.prod(input_shape)"
   ]
  },
  {
   "cell_type": "code",
   "execution_count": 7,
   "metadata": {
    "colab": {
     "base_uri": "https://localhost:8080/"
    },
    "id": "40pC7vR2um26",
    "outputId": "e4f22cb7-e22b-4040-f202-831fa6cd9c85"
   },
   "outputs": [
    {
     "data": {
      "text/plain": [
       "torch.Size([60000, 28, 28])"
      ]
     },
     "execution_count": 7,
     "metadata": {},
     "output_type": "execute_result"
    }
   ],
   "source": [
    "x_train.shape"
   ]
  },
  {
   "cell_type": "code",
   "execution_count": 8,
   "metadata": {
    "colab": {
     "base_uri": "https://localhost:8080/"
    },
    "id": "o-iuz5djum26",
    "outputId": "6dbf7554-6876-4f4f-ee0e-78f20c63d8bd"
   },
   "outputs": [
    {
     "name": "stdout",
     "output_type": "stream",
     "text": [
      "torch.float32 torch.float32\n"
     ]
    }
   ],
   "source": [
    "x_train = x_train.float()\n",
    "x_test = x_test.float()\n",
    "print(x_train.dtype, x_test.dtype)"
   ]
  },
  {
   "cell_type": "code",
   "execution_count": 9,
   "metadata": {
    "colab": {
     "base_uri": "https://localhost:8080/"
    },
    "id": "By4cOdRMum26",
    "outputId": "918e6eb1-7b47-495b-b66e-5a2f2c949d17"
   },
   "outputs": [
    {
     "data": {
      "text/plain": [
       "tensor([5, 0, 4,  ..., 5, 6, 8])"
      ]
     },
     "execution_count": 9,
     "metadata": {},
     "output_type": "execute_result"
    }
   ],
   "source": [
    "y_train"
   ]
  },
  {
   "cell_type": "code",
   "execution_count": 10,
   "metadata": {
    "colab": {
     "base_uri": "https://localhost:8080/"
    },
    "id": "7r1PltHGum26",
    "outputId": "dff64088-6cd5-4a38-97b7-ec45822321e3"
   },
   "outputs": [
    {
     "name": "stdout",
     "output_type": "stream",
     "text": [
      "Number of training samples: 60000\n",
      "Number of test samples: 10000\n",
      "Image shape: torch.Size([28, 28])\n",
      "Number of classes: 10\n",
      "Number of features: 784\n"
     ]
    }
   ],
   "source": [
    "print('Number of training samples:', len(train))\n",
    "print('Number of test samples:', len(test))\n",
    "print('Image shape:', input_shape)\n",
    "print('Number of classes:', num_classes)\n",
    "print('Number of features:', num_features)"
   ]
  },
  {
   "cell_type": "markdown",
   "metadata": {
    "id": "94bGEnpsum27"
   },
   "source": [
    "### Plot"
   ]
  },
  {
   "cell_type": "code",
   "execution_count": 11,
   "metadata": {
    "colab": {
     "base_uri": "https://localhost:8080/",
     "height": 853
    },
    "id": "8ZLsjRHzum27",
    "outputId": "b261004a-2504-47eb-f8a4-a5b67e90c549"
   },
   "outputs": [
    {
     "data": {
      "image/png": "[encoded data removed]",
      "text/plain": [
       "<Figure size 1000x1000 with 25 Axes>"
      ]
     },
     "metadata": {},
     "output_type": "display_data"
    }
   ],
   "source": [
    "image_for_plot = x_train[:25, :, :].clone()\n",
    "dis_center = (255 / 2) - image_for_plot\n",
    "image_for_plot += dis_center*2\n",
    "plt.figure(figsize=(10, 10))\n",
    "for i in range(25):\n",
    "    plt.subplot(5, 5, i + 1)\n",
    "    plt.imshow(image_for_plot[i], cmap='gray')\n",
    "    plt.title(y_train[i].item())"
   ]
  },
  {
   "cell_type": "markdown",
   "metadata": {
    "id": "s_3dLF_yum27"
   },
   "source": [
    "### Normalization"
   ]
  },
  {
   "cell_type": "code",
   "execution_count": 12,
   "metadata": {
    "id": "NhtPxkAVum27"
   },
   "outputs": [],
   "source": [
    "# Normalize the pixel values and one-hot encode the labels\n",
    "x_train /= 255\n",
    "x_test /= 255\n",
    "assert x_train.max() <= 1.0\n",
    "assert x_test.max() <= 1.0"
   ]
  },
  {
   "cell_type": "code",
   "execution_count": 13,
   "metadata": {
    "id": "7LuWPvbrum27"
   },
   "outputs": [],
   "source": [
    "# Convert labels to one-hot encoding\n",
    "def one_hot(y, num_classes) -> torch.Tensor:\n",
    "    one_hot = torch.zeros(num_classes)\n",
    "    one_hot[y] = 1\n",
    "    return one_hot\n",
    "\n",
    "y_train = torch.stack([one_hot(y, num_classes) for y in y_train])\n",
    "y_test = torch.stack([one_hot(y, num_classes) for y in y_test])"
   ]
  },
  {
   "cell_type": "code",
   "execution_count": 14,
   "metadata": {
    "colab": {
     "base_uri": "https://localhost:8080/"
    },
    "id": "93cWmdMRum27",
    "outputId": "3640cc62-89e3-48ec-e30d-5c8670aa02bd"
   },
   "outputs": [
    {
     "name": "stdout",
     "output_type": "stream",
     "text": [
      "torch.Size([60000, 10]) torch.Size([10000, 10])\n"
     ]
    }
   ],
   "source": [
    "print(y_train.shape, y_test.shape)"
   ]
  },
  {
   "cell_type": "markdown",
   "metadata": {
    "id": "Df90fBHFtjVs"
   },
   "source": [
    "### Move data to CUDA"
   ]
  },
  {
   "cell_type": "code",
   "execution_count": 15,
   "metadata": {
    "colab": {
     "base_uri": "https://localhost:8080/"
    },
    "id": "4f21zbajtjVs",
    "outputId": "575fb74c-1196-4fd1-995a-fc9f4a03a6aa"
   },
   "outputs": [
    {
     "name": "stdout",
     "output_type": "stream",
     "text": [
      "Using cuda device\n"
     ]
    }
   ],
   "source": [
    "device = (\n",
    "    \"cuda\"\n",
    "    if torch.cuda.is_available()\n",
    "    else 'cpu'\n",
    ")\n",
    "print(f\"Using {device} device\")"
   ]
  },
  {
   "cell_type": "code",
   "execution_count": 16,
   "metadata": {
    "id": "SJQcN-PAtjVt"
   },
   "outputs": [],
   "source": [
    "x_train = x_train.to(device)\n",
    "y_train = y_train.to(device)\n",
    "x_test = x_test.to(device)\n",
    "y_test = y_test.to(device)"
   ]
  },
  {
   "cell_type": "markdown",
   "metadata": {
    "id": "XQiCIdzQtjVt"
   },
   "source": [
    "## Step 2: Building and Optimizing Your Model for MNIST"
   ]
  },
  {
   "cell_type": "markdown",
   "metadata": {
    "id": "FXzNKSVEWCfs"
   },
   "source": [
    "Your goal in this cell is to build a neural network model that achieves an accuracy of **98% or higher** on the MNIST dataset. To achieve this, you will need to:\n",
    "1. **Define the model architecture**: You can experiment with the number of layers, units in each layer, and other architectural details to optimize your model’s performance.\n",
    "2. **Choose an optimizer**: Test different optimizers (SGD, Adagrad, RMSprop, Adam) and fine-tune their hyperparameters (such as learning rate, momentum, etc.).\n",
    "3. **Search for optimal hyperparameters**: You can use hyperparameter tuning methods such as **Hyperband**, **Random Search**, or **Bayesian Optimization** to find the best hyperparameter values efficiently.\n",
    "\n",
    "### Available Tuning Options\n",
    "\n",
    "- **Hyperband**: Efficiently finds the best hyperparameters by exploring a wide range and narrowing down based on performance.\n",
    "- **Random Search**: Tries a random combination of hyperparameters within defined ranges.\n",
    "- **Bayesian Optimization**: Uses a probabilistic approach to find the best parameters based on past evaluations.\n",
    "\n",
    "### Final Task\n",
    "\n",
    "Once you’ve achieved a model with over **98% accuracy** on the MNIST test set:\n",
    "1. **Print the optimal hyperparameters** for your best-performing model.\n",
    "2. **Build and compile the model** using these optimal parameters.\n",
    "3. **Display the model summary** at the end of the cell.\n",
    "\n",
    "By following this approach, you will gain insights into how different optimizers and model configurations impact performance, ultimately helping you build an effective and efficient model for the MNIST dataset.\n",
    "\n",
    "\n",
    "### if you achieve the threshold before testing all the items above you must continue and interpert the result and the change effect!"
   ]
  },
  {
   "cell_type": "markdown",
   "metadata": {
    "id": "g0DExS9ByRsn"
   },
   "source": [
    "### Test how to create a model"
   ]
  },
  {
   "cell_type": "markdown",
   "metadata": {
    "id": "kitWzu5dum28"
   },
   "source": [
    "#### Flatten the 2D image data to 1D"
   ]
  },
  {
   "cell_type": "code",
   "execution_count": null,
   "metadata": {
    "colab": {
     "base_uri": "https://localhost:8080/"
    },
    "id": "wROlA9bjum28",
    "outputId": "129f2203-7175-430a-c913-ab5a9a60e2a7"
   },
   "outputs": [
    {
     "name": "stdout",
     "output_type": "stream",
     "text": [
      "torch.Size([60000, 784])\n"
     ]
    }
   ],
   "source": [
    "flatten = nn.Flatten()\n",
    "flat_image = flatten(x_train)\n",
    "print(flat_image.shape)"
   ]
  },
  {
   "cell_type": "markdown",
   "metadata": {
    "id": "_CoyGl9oum28"
   },
   "source": [
    "#### Making a linear layer with 20 neurons"
   ]
  },
  {
   "cell_type": "code",
   "execution_count": null,
   "metadata": {
    "colab": {
     "base_uri": "https://localhost:8080/"
    },
    "id": "bSJs3A2Kum28",
    "outputId": "200556b2-a45a-4134-e7fa-68bd5ce9fa83"
   },
   "outputs": [
    {
     "name": "stdout",
     "output_type": "stream",
     "text": [
      "torch.Size([60000, 20])\n"
     ]
    }
   ],
   "source": [
    "layer1 = nn.Linear(in_features=28*28, out_features=20).to(device)\n",
    "hidden1 = layer1(flat_image)\n",
    "print(hidden1.size())"
   ]
  },
  {
   "cell_type": "code",
   "execution_count": null,
   "metadata": {
    "colab": {
     "base_uri": "https://localhost:8080/"
    },
    "id": "uRBH1lyYum28",
    "outputId": "822f4a9a-3c8c-427f-997a-50a9c8b45617"
   },
   "outputs": [
    {
     "name": "stdout",
     "output_type": "stream",
     "text": [
      "Before ReLU: tensor([[ 0.0498,  0.1220, -0.1009,  ..., -0.0845,  0.1286, -0.2752],\n",
      "        [-0.3227, -0.0103, -0.0454,  ...,  0.1455,  0.4529, -0.0468],\n",
      "        [-0.0749,  0.1968,  0.1907,  ..., -0.0693,  0.0457, -0.2613],\n",
      "        ...,\n",
      "        [-0.3222,  0.0809, -0.0342,  ...,  0.0495,  0.0392, -0.0666],\n",
      "        [-0.4260, -0.0664,  0.0901,  ...,  0.2329,  0.3213,  0.0431],\n",
      "        [-0.1841,  0.1750, -0.1880,  ..., -0.2722,  0.0164, -0.1662]],\n",
      "       device='cuda:0', grad_fn=<AddmmBackward0>)\n",
      "\n",
      "\n",
      "After ReLU: tensor([[0.0498, 0.1220, 0.0000,  ..., 0.0000, 0.1286, 0.0000],\n",
      "        [0.0000, 0.0000, 0.0000,  ..., 0.1455, 0.4529, 0.0000],\n",
      "        [0.0000, 0.1968, 0.1907,  ..., 0.0000, 0.0457, 0.0000],\n",
      "        ...,\n",
      "        [0.0000, 0.0809, 0.0000,  ..., 0.0495, 0.0392, 0.0000],\n",
      "        [0.0000, 0.0000, 0.0901,  ..., 0.2329, 0.3213, 0.0431],\n",
      "        [0.0000, 0.1750, 0.0000,  ..., 0.0000, 0.0164, 0.0000]],\n",
      "       device='cuda:0', grad_fn=<ReluBackward0>)\n"
     ]
    }
   ],
   "source": [
    "print(f\"Before ReLU: {hidden1}\\n\\n\")\n",
    "hidden1 = nn.ReLU()(hidden1)\n",
    "print(f\"After ReLU: {hidden1}\")"
   ]
  },
  {
   "cell_type": "markdown",
   "metadata": {
    "id": "7PE9iNqVum28"
   },
   "source": [
    "#### Sequential model layers"
   ]
  },
  {
   "cell_type": "code",
   "execution_count": null,
   "metadata": {
    "id": "ShrKOQADum29"
   },
   "outputs": [],
   "source": [
    "seq_modules = nn.Sequential(\n",
    "    flatten,\n",
    "    layer1,\n",
    "    nn.ReLU(),\n",
    "    nn.Linear(20, 10)\n",
    ").to(device)\n",
    "logits = seq_modules(x_train[:3, :, :])"
   ]
  },
  {
   "cell_type": "code",
   "execution_count": null,
   "metadata": {
    "colab": {
     "base_uri": "https://localhost:8080/"
    },
    "id": "Q96sUQGPum29",
    "outputId": "5b019b5b-6bac-4faf-8bbb-249133ae0f86"
   },
   "outputs": [
    {
     "name": "stdout",
     "output_type": "stream",
     "text": [
      "torch.Size([3, 10])\n",
      "tensor([[-0.0808, -0.0289,  0.1610, -0.1038, -0.0605, -0.0163, -0.0705, -0.0414,\n",
      "          0.0332,  0.1728],\n",
      "        [-0.1193, -0.0369,  0.1432, -0.0871, -0.0392, -0.1001, -0.1650,  0.0061,\n",
      "          0.0202,  0.1787],\n",
      "        [-0.1757, -0.0147,  0.0954, -0.0883,  0.0088, -0.1576, -0.0902,  0.0276,\n",
      "         -0.0556,  0.2117]], device='cuda:0', grad_fn=<AddmmBackward0>)\n"
     ]
    }
   ],
   "source": [
    "print(logits.shape)\n",
    "print(logits)"
   ]
  },
  {
   "cell_type": "code",
   "execution_count": null,
   "metadata": {
    "id": "dYiv44Frum29"
   },
   "outputs": [],
   "source": [
    "softmax = nn.Softmax(dim=1)\n",
    "pred_probab = softmax(logits)"
   ]
  },
  {
   "cell_type": "code",
   "execution_count": null,
   "metadata": {
    "colab": {
     "base_uri": "https://localhost:8080/"
    },
    "id": "yShKVEdium29",
    "outputId": "5ca50644-56d6-4488-9904-fd5ffc24684a"
   },
   "outputs": [
    {
     "name": "stdout",
     "output_type": "stream",
     "text": [
      "torch.Size([3, 10])\n",
      "tensor([[0.0922, 0.0971, 0.1174, 0.0901, 0.0940, 0.0983, 0.0931, 0.0959, 0.1033,\n",
      "         0.1188],\n",
      "        [0.0900, 0.0978, 0.1171, 0.0930, 0.0975, 0.0918, 0.0860, 0.1021, 0.1035,\n",
      "         0.1213],\n",
      "        [0.0854, 0.1003, 0.1120, 0.0932, 0.1027, 0.0869, 0.0930, 0.1046, 0.0963,\n",
      "         0.1258]], device='cuda:0', grad_fn=<SoftmaxBackward0>)\n"
     ]
    }
   ],
   "source": [
    "print(pred_probab.shape)\n",
    "print(pred_probab)"
   ]
  },
  {
   "cell_type": "markdown",
   "metadata": {
    "id": "6sjbCP8Vum29"
   },
   "source": [
    "## Simple model"
   ]
  },
  {
   "cell_type": "markdown",
   "metadata": {
    "id": "6O_efqh_tjV7"
   },
   "source": [
    "### Defining model 1"
   ]
  },
  {
   "cell_type": "code",
   "execution_count": null,
   "metadata": {
    "id": "kOsPYPImum29"
   },
   "outputs": [],
   "source": [
    "class NeuralNetwork(nn.Module):\n",
    "    def __init__(self):\n",
    "        super().__init__()\n",
    "        self.linear_relu_stack = nn.Sequential(\n",
    "            nn.Flatten(),\n",
    "            nn.Linear(28*28, 512),\n",
    "            nn.ReLU(),\n",
    "            nn.Linear(512, 512),\n",
    "            nn.ReLU(),\n",
    "            nn.Linear(512, 10),\n",
    "            nn.Softmax(dim=1)\n",
    "        )\n",
    "\n",
    "    def forward(self, x):\n",
    "        logits = self.linear_relu_stack(x)\n",
    "        return logits"
   ]
  },
  {
   "cell_type": "code",
   "execution_count": null,
   "metadata": {
    "id": "utnItED_um29"
   },
   "outputs": [],
   "source": [
    "learning_rate = 0.01\n",
    "model = NeuralNetwork().to(device)\n",
    "loss_fn = nn.CrossEntropyLoss()\n",
    "optimizer = torch.optim.SGD(model.parameters(), lr=learning_rate)"
   ]
  },
  {
   "cell_type": "code",
   "execution_count": null,
   "metadata": {
    "id": "8rLADFT7um29"
   },
   "outputs": [],
   "source": [
    "pred = model(x_train[:3])\n",
    "loss = loss_fn(pred, y_train[:3])"
   ]
  },
  {
   "cell_type": "code",
   "execution_count": null,
   "metadata": {
    "colab": {
     "base_uri": "https://localhost:8080/"
    },
    "id": "J7Jtvpu_um29",
    "outputId": "eedef918-76fa-4e41-fcab-43f3925f7786"
   },
   "outputs": [
    {
     "name": "stdout",
     "output_type": "stream",
     "text": [
      "prediction: tensor([[0.0980, 0.1055, 0.0977, 0.1024, 0.1120, 0.0989, 0.0992, 0.0958, 0.0943,\n",
      "         0.0961],\n",
      "        [0.0995, 0.1045, 0.0962, 0.1011, 0.1117, 0.1006, 0.1020, 0.0956, 0.0949,\n",
      "         0.0939],\n",
      "        [0.1063, 0.1050, 0.0922, 0.1029, 0.1067, 0.0987, 0.0977, 0.0963, 0.0947,\n",
      "         0.0995]], device='cuda:0', grad_fn=<SoftmaxBackward0>)\n",
      "label: tensor([[0., 0., 0., 0., 0., 1., 0., 0., 0., 0.],\n",
      "        [1., 0., 0., 0., 0., 0., 0., 0., 0., 0.],\n",
      "        [0., 0., 0., 0., 1., 0., 0., 0., 0., 0.]], device='cuda:0')\n",
      "tensor(2.3009, device='cuda:0', grad_fn=<DivBackward1>)\n",
      "torch.Size([])\n"
     ]
    }
   ],
   "source": [
    "print(f'prediction: {pred}')\n",
    "print(f'label: {y_train[:3]}')\n",
    "print(loss)\n",
    "print(loss.shape)"
   ]
  },
  {
   "cell_type": "code",
   "execution_count": null,
   "metadata": {
    "colab": {
     "base_uri": "https://localhost:8080/"
    },
    "id": "X4ltasNnum29",
    "outputId": "cc85a193-b396-407f-8052-399bb3871323"
   },
   "outputs": [
    {
     "name": "stdout",
     "output_type": "stream",
     "text": [
      "tensor([False, False,  True], device='cuda:0')\n",
      "tensor(1, device='cuda:0')\n"
     ]
    }
   ],
   "source": [
    "correct_predictions = (pred.argmax(dim=1) == y_train[:3].argmax(dim=1))\n",
    "print(correct_predictions)\n",
    "count = correct_predictions.type(torch.int8).sum()\n",
    "print(count)"
   ]
  },
  {
   "cell_type": "markdown",
   "metadata": {
    "id": "LZ1uQi3Qum29"
   },
   "source": [
    "### Train and test functions"
   ]
  },
  {
   "cell_type": "code",
   "execution_count": null,
   "metadata": {
    "id": "8AmMUAMaum29"
   },
   "outputs": [],
   "source": [
    "def train_loop(model, x_train, y_train, optimizer):\n",
    "    model.train()\n",
    "    pred = model(x_train)\n",
    "    loss = loss_fn(pred, y_train)\n",
    "    # Back propagation\n",
    "    optimizer.zero_grad()\n",
    "    loss.backward()\n",
    "    optimizer.step()\n",
    "\n",
    "\n",
    "def test_loop(model, x_test, y_test, loss_fn):\n",
    "    model.eval()\n",
    "    test_loss, correct = 0, 0\n",
    "    with torch.no_grad():\n",
    "        pred = model(x_test)\n",
    "        test_loss = loss_fn(pred, y_test).item()\n",
    "        correct = (pred.argmax(dim=1) == y_test.argmax(dim=1)).type(torch.int8).sum().item()\n",
    "    correct /= x_test.shape[0]\n",
    "    return test_loss, correct"
   ]
  },
  {
   "cell_type": "markdown",
   "metadata": {
    "id": "bQvUoJE2um2-"
   },
   "source": [
    "### Load model"
   ]
  },
  {
   "cell_type": "code",
   "execution_count": null,
   "metadata": {
    "id": "fC_ddWghum2-"
   },
   "outputs": [],
   "source": [
    "def load_model_from_disc(path):\n",
    "    model = NeuralNetwork()\n",
    "    if os.path.exists(path):\n",
    "        print('Loading from disc...')\n",
    "        model = torch.load(path, weights_only=False)\n",
    "        model.eval()\n",
    "    return model.to(device)"
   ]
  },
  {
   "cell_type": "code",
   "execution_count": null,
   "metadata": {
    "colab": {
     "base_uri": "https://localhost:8080/"
    },
    "id": "oM7b2Zx24IBe",
    "outputId": "ad0dcdbf-b3c2-4579-8821-d40f9029a65c"
   },
   "outputs": [
    {
     "name": "stdout",
     "output_type": "stream",
     "text": [
      "Loading from disc...\n"
     ]
    }
   ],
   "source": [
    "MODEL_PATH = BASE_PATH + 'model.pt'\n",
    "model_simple = load_model_from_disc(MODEL_PATH)"
   ]
  },
  {
   "cell_type": "markdown",
   "metadata": {
    "id": "izYq25bqum2-"
   },
   "source": [
    "### Load accuracy history"
   ]
  },
  {
   "cell_type": "code",
   "execution_count": null,
   "metadata": {
    "id": "LEo1rN2bum2-"
   },
   "outputs": [],
   "source": [
    "def load_train_hostory(path):\n",
    "    accuracy_history = []\n",
    "    if os.path.exists(path):\n",
    "        print('Loading from disc...')\n",
    "        with open(path, 'rb') as file:\n",
    "            accuracy_history = pickle.load(file)\n",
    "    return accuracy_history"
   ]
  },
  {
   "cell_type": "code",
   "execution_count": null,
   "metadata": {
    "colab": {
     "base_uri": "https://localhost:8080/"
    },
    "id": "DRLQhMMW4ym3",
    "outputId": "f2b0c006-3e1b-4f54-f82e-418be34425dc"
   },
   "outputs": [
    {
     "name": "stdout",
     "output_type": "stream",
     "text": [
      "Loading from disc...\n"
     ]
    }
   ],
   "source": [
    "ACCURACY_PATH = BASE_PATH + 'accuracy_history.pkl'\n",
    "accuracy_history = load_train_hostory(ACCURACY_PATH)"
   ]
  },
  {
   "cell_type": "code",
   "execution_count": null,
   "metadata": {
    "colab": {
     "base_uri": "https://localhost:8080/",
     "height": 49,
     "referenced_widgets": [
      "af737771aba645fd8a1b6747b35c6861",
      "2dc3415f88924ceeb867802907e2d0ea",
      "5645d2a076844f8d9554ef5e8be96519",
      "1d05992bd0a64db6a3663948cc553bd7",
      "7b4d2e786a0c49d5b9f714cfa8683b1d",
      "9e4fac7439754adfad8f23d1f02455ee",
      "075dc0a715fc45e79cba59153ba6f9cf",
      "2fc9399d78bd467e9e7d67747728a7e6",
      "49a11c99e46d46fc9a260dcf73f91b18",
      "5037b2024dbc46cd9c4f1e5d2966fde5",
      "e9192fe086a5401d8982bd29464853eb",
      "8ec2f57c24b34133b3921754d957f233"
     ]
    },
    "id": "cHsACOSwum2-",
    "outputId": "1facd22d-7320-46fe-f454-df7dd7185e66"
   },
   "outputs": [
    {
     "data": {
      "application/vnd.jupyter.widget-view+json": {
       "model_id": "8ec2f57c24b34133b3921754d957f233",
       "version_major": 2,
       "version_minor": 0
      },
      "text/plain": [
       "0it [00:00, ?it/s]"
      ]
     },
     "metadata": {},
     "output_type": "display_data"
    }
   ],
   "source": [
    "%%skip\n",
    "loss_fn = nn.CrossEntropyLoss()\n",
    "learning_rate = 0.01\n",
    "optimizer = torch.optim.SGD(model_simple.parameters(), lr=learning_rate)\n",
    "\n",
    "epochs = 0\n",
    "\n",
    "for i in tqdm(range(epochs)):\n",
    "    train_loop(model_simple, x_train, y_train, optimizer)\n",
    "    test_loss, accuracy = test_loop(model_simple, x_test, y_test, loss_fn)\n",
    "    accuracy_history.append(accuracy)\n",
    "\n",
    "# Save the model\n",
    "torch.save(model_simple, MODEL_PATH)\n",
    "with open(ACCURACY_PATH, 'wb') as f:\n",
    "    pickle.dump(accuracy_history, f)"
   ]
  },
  {
   "cell_type": "markdown",
   "metadata": {
    "id": "Ydl92IxNum2-"
   },
   "source": [
    "### plot"
   ]
  },
  {
   "cell_type": "code",
   "execution_count": null,
   "metadata": {
    "colab": {
     "base_uri": "https://localhost:8080/",
     "height": 472
    },
    "id": "cliQgVvzum2-",
    "outputId": "e904c57e-0156-41d6-a287-022c51cfabea"
   },
   "outputs": [
    {
     "data": {
      "image/png": "[encoded data removed]",
      "text/plain": [
       "<Figure size 640x480 with 1 Axes>"
      ]
     },
     "metadata": {},
     "output_type": "display_data"
    }
   ],
   "source": [
    "plt.plot(np.arange(len(accuracy_history)), np.array(accuracy_history) * 100)\n",
    "plt.xlabel('Epoch')\n",
    "plt.ylabel('Accuracy (%)')\n",
    "plt.title('Test Accuracy - SGD - CrossEntropyLoss')\n",
    "plt.grid()"
   ]
  },
  {
   "cell_type": "markdown",
   "metadata": {
    "id": "JkUQg9tKzphP"
   },
   "source": [
    "## Mini-Batch and Early Stopping\n",
    "\n",
    "### Define Model 2"
   ]
  },
  {
   "cell_type": "code",
   "execution_count": 17,
   "metadata": {
    "id": "hJ4Q8EUtIbgK"
   },
   "outputs": [],
   "source": [
    "class MyBaseModel(nn.Module):\n",
    "    def __init__(self):\n",
    "        super().__init__()\n",
    "        self.accuracy_train_history = []\n",
    "        self.accuracy_test_history = []\n",
    "        self.loss_train_history = []\n",
    "        self.loss_test_history = []\n",
    "\n",
    "    def save(self, path):\n",
    "        torch.save(self, path)\n",
    "\n",
    "    @staticmethod\n",
    "    def load(path) -> nn.Module|None:\n",
    "        model = None\n",
    "        if os.path.exists(path):\n",
    "            print(f'Loading from disc: {path}')\n",
    "            model = torch.load(path, weights_only=False)\n",
    "            model.eval()\n",
    "        else:\n",
    "            print('Model not found!')\n",
    "        return model\n",
    "\n",
    "class NeuralNetwork(MyBaseModel):\n",
    "    def __init__(self):\n",
    "        super().__init__()\n",
    "        self.linear_relu_stack = nn.Sequential(\n",
    "            nn.Flatten(),\n",
    "            nn.Linear(28*28, 512),\n",
    "            nn.ReLU(),\n",
    "            nn.Linear(512, 512),\n",
    "            nn.ReLU(),\n",
    "            nn.Linear(512, 10),\n",
    "            nn.Softmax(dim=1)\n",
    "        )\n",
    "\n",
    "    def forward(self, x):\n",
    "        logits = self.linear_relu_stack(x)\n",
    "        return logits"
   ]
  },
  {
   "cell_type": "markdown",
   "metadata": {
    "id": "MxjYqMiw1D0S"
   },
   "source": [
    "### Load model 2"
   ]
  },
  {
   "cell_type": "code",
   "execution_count": 18,
   "metadata": {
    "colab": {
     "base_uri": "https://localhost:8080/"
    },
    "id": "_c_afcZe1JAp",
    "outputId": "414a519f-d207-4f0b-c663-cb7768114cb9"
   },
   "outputs": [
    {
     "name": "stdout",
     "output_type": "stream",
     "text": [
      "Loading from disc: ./model2_mini_batch.pt\n"
     ]
    },
    {
     "data": {
      "text/plain": [
       "NeuralNetwork(\n",
       "  (linear_relu_stack): Sequential(\n",
       "    (0): Flatten(start_dim=1, end_dim=-1)\n",
       "    (1): Linear(in_features=784, out_features=512, bias=True)\n",
       "    (2): ReLU()\n",
       "    (3): Linear(in_features=512, out_features=512, bias=True)\n",
       "    (4): ReLU()\n",
       "    (5): Linear(in_features=512, out_features=10, bias=True)\n",
       "    (6): Softmax(dim=1)\n",
       "  )\n",
       ")"
      ]
     },
     "execution_count": 18,
     "metadata": {},
     "output_type": "execute_result"
    }
   ],
   "source": [
    "MODEL_PATH = BASE_PATH + 'model2_mini_batch.pt'\n",
    "model = NeuralNetwork.load(MODEL_PATH)\n",
    "if not model:\n",
    "    model = NeuralNetwork(MODEL_PATH)\n",
    "model.to(device)"
   ]
  },
  {
   "cell_type": "markdown",
   "metadata": {
    "id": "oC3o2ny51LfC"
   },
   "source": [
    "### Initialize Optimizer and Loss Functions"
   ]
  },
  {
   "cell_type": "code",
   "execution_count": 26,
   "metadata": {
    "id": "DLgs1jef0xDx"
   },
   "outputs": [],
   "source": [
    "learning_rate = 0.01\n",
    "loss_fn = nn.CrossEntropyLoss()\n",
    "optimizer = torch.optim.SGD(model.parameters(), lr=learning_rate)"
   ]
  },
  {
   "cell_type": "markdown",
   "metadata": {
    "id": "Li-IkbX314zI"
   },
   "source": [
    "### Create Mini-batch"
   ]
  },
  {
   "cell_type": "code",
   "execution_count": 27,
   "metadata": {
    "id": "3VvNACRO55Ht"
   },
   "outputs": [],
   "source": [
    "batch_size = 100\n",
    "x_train_batch = x_train.reshape(-1, batch_size, x_train.shape[1], x_train.shape[2])\n",
    "y_train_batch = y_train.reshape(-1, batch_size, y_train.shape[1])"
   ]
  },
  {
   "cell_type": "markdown",
   "metadata": {
    "id": "sn7gy6450yuX"
   },
   "source": [
    "### Training loop with early stopping"
   ]
  },
  {
   "cell_type": "code",
   "execution_count": 28,
   "metadata": {
    "id": "3vL7CdDeE-Zo"
   },
   "outputs": [],
   "source": [
    "def accuracy(pred, y):\n",
    "    correct = (pred.argmax(dim=1) == y.argmax(dim=1)).type(torch.int8).sum().item()\n",
    "    return correct / y.shape[0] # average"
   ]
  },
  {
   "cell_type": "code",
   "execution_count": 29,
   "metadata": {
    "id": "ryERmX0ftjWI"
   },
   "outputs": [],
   "source": [
    "def train(model, x, y, loss_fn, optimizer):\n",
    "    model.train()\n",
    "\n",
    "    # Loop over batches\n",
    "    for i in range(x.shape[0]):\n",
    "        # Forward pass and loss calculation\n",
    "        pred = model(x[i])\n",
    "        loss = loss_fn(pred, y[i])\n",
    "\n",
    "        # Backward pass and optimization\n",
    "        optimizer.zero_grad()\n",
    "        loss.backward()\n",
    "        optimizer.step()"
   ]
  },
  {
   "cell_type": "code",
   "execution_count": 30,
   "metadata": {
    "id": "ZcdqBpGltjWI"
   },
   "outputs": [],
   "source": [
    "def validation(model, x, y, loss_fn):\n",
    "    model.eval()  # Set model to evaluation mode\n",
    "    with torch.no_grad():  # Disable gradient calculation for validation\n",
    "        pred = model(x)\n",
    "        loss = loss_fn(pred, y).item()\n",
    "    return pred, loss"
   ]
  },
  {
   "cell_type": "code",
   "execution_count": null,
   "metadata": {
    "colab": {
     "base_uri": "https://localhost:8080/",
     "height": 67,
     "referenced_widgets": [
      "1aae5bfca5bd423291ab32237e87d5ab",
      "50d49b8bcb20466c83c9d797593cf167",
      "ef010e134fa4426cb536e8c4b7658d93",
      "7eade53bc89347d4b29cb110bca43ab1",
      "102fbee6e8d54948bc20bfde50ececa8",
      "1630789ea45e444e9aaeea26da42af3a",
      "c5c40a6e9bab413690d73257746eb175",
      "fca8be53c4394b0bab98c40cb9efb341",
      "871f0e1f9e664d42b12839fd24c34cae",
      "fbe101275a6d4701858e8f72ea988fb3",
      "970e3afdbed048839ab84cb1bf9df8e8"
     ]
    },
    "id": "dpgIY5kn1ZTX",
    "outputId": "32ac8925-90fa-4a4e-9eaa-d7547c82b307"
   },
   "outputs": [
    {
     "data": {
      "application/vnd.jupyter.widget-view+json": {
       "model_id": "1aae5bfca5bd423291ab32237e87d5ab",
       "version_major": 2,
       "version_minor": 0
      },
      "text/plain": [
       "  0%|          | 0/1000 [00:00<?, ?it/s]"
      ]
     },
     "metadata": {},
     "output_type": "display_data"
    },
    {
     "name": "stdout",
     "output_type": "stream",
     "text": [
      "Early stopping...\n"
     ]
    }
   ],
   "source": [
    "%%skip\n",
    "# Initialize Variables for EarlyStopping\n",
    "best_loss = float('inf')\n",
    "best_model_weights = copy.deepcopy(model.state_dict())\n",
    "patience = 10\n",
    "\n",
    "# Training Loop with Early Stopping:\n",
    "for epoch in tqdm(range(0)):\n",
    "    # Train\n",
    "    train(model, x_train_batch, y_train_batch, loss_fn, optimizer)\n",
    "\n",
    "    # Validation\n",
    "    val_pred, val_loss = validation(model, x_test, y_test, loss_fn)\n",
    "    train_pred, train_loss = validation(model, x_train, y_train, loss_fn)\n",
    "\n",
    "    # Early stopping\n",
    "    if val_loss < best_loss:\n",
    "        best_loss = val_loss\n",
    "        best_model_weights = copy.deepcopy(model.state_dict())  # Deep copy here\n",
    "        patience = 10  # Reset patience counter\n",
    "    else:\n",
    "        patience -= 1\n",
    "        if patience == 0:\n",
    "            print('Early stopping...')\n",
    "            break\n",
    "\n",
    "    # Save accuracy and loss on test\n",
    "    model.accuracy_test_history.append(accuracy(val_pred, y_test))\n",
    "    model.loss_test_history.append(val_loss)\n",
    "\n",
    "    # Save accuracy and loss on train\n",
    "    model.accuracy_train_history.append(accuracy(train_pred, y_train))\n",
    "    model.loss_train_history.append(train_loss)\n",
    "\n",
    "\n",
    "# Load the best model weights then save on disc\n",
    "model.load_state_dict(best_model_weights)\n",
    "model.save(MODEL_PATH)"
   ]
  },
  {
   "cell_type": "markdown",
   "metadata": {
    "id": "FhVDS6F_tjWJ"
   },
   "source": [
    "### Plot"
   ]
  },
  {
   "cell_type": "code",
   "execution_count": 19,
   "metadata": {
    "colab": {
     "base_uri": "https://localhost:8080/",
     "height": 382
    },
    "id": "XRHDRv88tjWJ",
    "outputId": "6b66ebc2-f6a0-45b9-f623-6909f7d3a06d"
   },
   "outputs": [
    {
     "data": {
      "image/png": "[encoded data removed]",
      "text/plain": [
       "<Figure size 1500x500 with 2 Axes>"
      ]
     },
     "metadata": {},
     "output_type": "display_data"
    }
   ],
   "source": [
    "plt.figure(figsize=(15, 5))\n",
    "plt.subplot(1, 2, 1)\n",
    "plt.plot(np.arange(len(model.accuracy_train_history)), np.array(model.accuracy_train_history) * 100, label='Train')\n",
    "plt.plot(np.arange(len(model.accuracy_test_history)), np.array(model.accuracy_test_history) * 100, label='Test')\n",
    "plt.xlabel('Epoch')\n",
    "plt.ylabel('Accuracy (%)')\n",
    "plt.title('Accuracy')\n",
    "plt.legend()\n",
    "plt.grid()\n",
    "\n",
    "plt.subplot(1, 2, 2)\n",
    "plt.plot(np.arange(len(model.loss_train_history)), np.array(model.loss_train_history), label='Train')\n",
    "plt.plot(np.arange(len(model.loss_test_history)), np.array(model.loss_test_history), label='Test')\n",
    "plt.xlabel('Epoch')\n",
    "plt.ylabel('Loss')\n",
    "plt.title('Loss')\n",
    "plt.legend()\n",
    "plt.grid()"
   ]
  },
  {
   "cell_type": "code",
   "execution_count": 33,
   "metadata": {
    "id": "lKyQZ4V8um2-"
   },
   "outputs": [],
   "source": [
    "# TODO: Define the model creation function with hyperparameters.\n",
    "..."
   ]
  },
  {
   "cell_type": "code",
   "execution_count": 34,
   "metadata": {
    "id": "svGQGvuPum2-"
   },
   "outputs": [],
   "source": [
    "# TODO: Choose the hyperparameter search algorithm, define the hyperparameter search space, and tune the model.\n",
    "..."
   ]
  },
  {
   "cell_type": "code",
   "execution_count": 35,
   "metadata": {
    "id": "ZSn2tIvQum2-"
   },
   "outputs": [],
   "source": [
    "# TODO: Evaluate the best model on the test set.\n",
    "..."
   ]
  },
  {
   "cell_type": "markdown",
   "metadata": {
    "id": "_24dxT8DWCfs"
   },
   "source": [
    "## Step 3: Training, Evaluating, and Saving Your Model\n",
    "\n",
    "In this part, you will:\n",
    "1. **Train the Model**: Train your model on the MNIST training data for a specified number of epochs. The `fit` function will show the training and validation accuracy/loss at each epoch, allowing you to monitor the model’s progress.\n",
    "   \n",
    "2. **Make Predictions**: Once training is complete, generate predictions on the test data. While not required for accuracy calculation, this can be useful if you want to further analyze the model’s predictions.\n",
    "\n",
    "3. **Evaluate the Model**: Use the `evaluate` function to calculate the model's loss and accuracy on the test set. This will give you an objective measure of the model’s performance. Remember, the goal is to achieve **98% or higher** accuracy.\n",
    "\n",
    "4. **Save the Model**: After achieving satisfactory accuracy, save your model to disk for later use. This allows you to load the trained model in the future without retraining.\n",
    "\n",
    "### Important Notes:\n",
    "- **Training Parameters**: You can adjust the number of epochs or batch size in the `fit` function if needed to reach the required accuracy.\n",
    "- **Model Storage**: The saved model file (`mnist_model.keras`) will store the entire model structure and weights, enabling you to load and use it later without needing to rebuild or retrain.\n",
    "\n",
    "By completing these steps, you will have a fully trained and saved model capable of achieving high accuracy on the MNIST dataset."
   ]
  },
  {
   "cell_type": "code",
   "execution_count": 36,
   "metadata": {
    "colab": {
     "base_uri": "https://localhost:8080/",
     "height": 219
    },
    "id": "5AJX2t1mWCft",
    "outputId": "095dcddf-231b-4ef9-d9af-e3b2cfea6b1f"
   },
   "outputs": [
    {
     "ename": "TypeError",
     "evalue": "cannot unpack non-iterable ellipsis object",
     "output_type": "error",
     "traceback": [
      "\u001b[0;31m---------------------------------------------------------------------------\u001b[0m",
      "\u001b[0;31mTypeError\u001b[0m                                 Traceback (most recent call last)",
      "\u001b[0;32m<ipython-input-36-7d8c1bc3868f>\u001b[0m in \u001b[0;36m<cell line: 6>\u001b[0;34m()\u001b[0m\n\u001b[1;32m      4\u001b[0m \u001b[0;34m\u001b[0m\u001b[0m\n\u001b[1;32m      5\u001b[0m \u001b[0;31m# TODO: Evaluate the model on the test set.\u001b[0m\u001b[0;34m\u001b[0m\u001b[0;34m\u001b[0m\u001b[0m\n\u001b[0;32m----> 6\u001b[0;31m \u001b[0mloss\u001b[0m\u001b[0;34m,\u001b[0m \u001b[0maccuracy\u001b[0m \u001b[0;34m=\u001b[0m \u001b[0;34m...\u001b[0m\u001b[0;34m\u001b[0m\u001b[0;34m\u001b[0m\u001b[0m\n\u001b[0m\u001b[1;32m      7\u001b[0m \u001b[0mprint\u001b[0m\u001b[0;34m(\u001b[0m\u001b[0;34mf\"Test loss: {loss:.4f}\"\u001b[0m\u001b[0;34m)\u001b[0m\u001b[0;34m\u001b[0m\u001b[0;34m\u001b[0m\u001b[0m\n\u001b[1;32m      8\u001b[0m \u001b[0mprint\u001b[0m\u001b[0;34m(\u001b[0m\u001b[0;34mf\"Test accuracy: {accuracy*100:.2f}%\"\u001b[0m\u001b[0;34m)\u001b[0m\u001b[0;34m\u001b[0m\u001b[0;34m\u001b[0m\u001b[0m\n",
      "\u001b[0;31mTypeError\u001b[0m: cannot unpack non-iterable ellipsis object"
     ]
    }
   ],
   "source": [
    "# TODO: Train the best model on the full training set.\n",
    "history = ...\n",
    "predictions = ...\n",
    "\n",
    "# TODO: Evaluate the model on the test set.\n",
    "loss, accuracy = ...\n",
    "print(f\"Test loss: {loss:.4f}\")\n",
    "print(f\"Test accuracy: {accuracy*100:.2f}%\")\n",
    "\n",
    "# TODO: Save the best model to disk.\n",
    "..."
   ]
  },
  {
   "cell_type": "markdown",
   "metadata": {
    "id": "Sdo-5-26WCft"
   },
   "source": [
    "## Step 4: Visualizing Model Performance\n",
    "\n",
    "In this final step, you will visualize your model's performance using a series of plots. These visualizations will help you understand how well the model performed, identify areas for potential improvement, and interpret any misclassifications.\n",
    "\n",
    "1. **Plot the Training History**: This plot shows the training and validation accuracy over each epoch. By examining this plot, you can see how the model's accuracy improved with each epoch and check if there’s any overfitting (e.g., if training accuracy is much higher than validation accuracy).\n",
    "\n",
    "2. **Plot the Confusion Matrix**: The confusion matrix provides a detailed view of the model's performance across each digit class (0–9). Each cell in the matrix shows the number of true vs. predicted classifications for each class. This helps you identify specific digits that the model struggles to classify correctly, as they may have higher misclassification counts.\n",
    "\n",
    "3. **Visualize Misclassified Images**: In this grid, you’ll see some of the images that were incorrectly classified by the model. Each image shows the true label and the predicted label. Examining these misclassified examples can give you insight into where the model might have difficulty, such as digits that look similar (e.g., 3 and 5). It can also help you decide if additional data processing or model adjustments are needed.\n",
    "\n",
    "### Tips for Interpretation:\n",
    "- **Training History**: If the validation accuracy plateaus early or diverges significantly from training accuracy, consider revisiting your model architecture or hyperparameters.\n",
    "- **Confusion Matrix**: Look for off-diagonal cells with high values, as these indicate common misclassifications.\n",
    "- **Misclassified Images**: Understanding these cases can guide you in tuning or improving your model, such as adding more data for challenging classes.\n",
    "\n",
    "By analyzing these plots, you’ll gain a deeper understanding of your model’s strengths and weaknesses on the MNIST dataset."
   ]
  },
  {
   "cell_type": "code",
   "execution_count": null,
   "metadata": {
    "id": "7llgLosoWCft"
   },
   "outputs": [],
   "source": [
    "# Plot the training history\n",
    "plt.figure(figsize=(10, 6))\n",
    "plt.plot(history.history['accuracy'], label='train_accuracy')\n",
    "plt.plot(history.history['val_accuracy'], label='val_accuracy')\n",
    "plt.xlabel('Epoch')\n",
    "plt.ylabel('Accuracy')\n",
    "plt.title('Training History')\n",
    "plt.legend()\n",
    "plt.grid(True)\n",
    "plt.show()"
   ]
  },
  {
   "cell_type": "code",
   "execution_count": null,
   "metadata": {
    "id": "D2GJopsXWCft"
   },
   "outputs": [],
   "source": [
    "# Plot the confusion matrix heatmap\n",
    "# TODO: Compute the confusion matrix using the true labels and predicted labels.\n",
    "cm = ...\n",
    "\n",
    "plt.figure(figsize=(8, 6))\n",
    "sns.heatmap(cm, annot=True, fmt='d')\n",
    "plt.xlabel('Predicted Labels')\n",
    "plt.ylabel('True Labels')\n",
    "plt.title('Confusion Matrix')\n",
    "plt.show()"
   ]
  },
  {
   "cell_type": "code",
   "execution_count": null,
   "metadata": {
    "id": "ZJcLCl8XWCft"
   },
   "outputs": [],
   "source": [
    "# Visualize the model incorrectly classified images on 4x5 grid\n",
    "# TODO: Find the indices of incorrectly classified images.\n",
    "incorrect_indices = ...\n",
    "\n",
    "plt.figure(figsize=(8, 6))\n",
    "for i, idx in enumerate(incorrect_indices[:20]):\n",
    "    plt.subplot(4, 5, i + 1)\n",
    "    plt.imshow(x_test[idx], cmap='gray')\n",
    "    plt.title(f\"True: {np.argmax(y_test[idx])} - Pred: {np.argmax(predictions[idx])}\")\n",
    "    plt.axis('off')\n",
    "plt.tight_layout()\n",
    "plt.show()"
   ]
  }
 ],
 "metadata": {
  "accelerator": "GPU",
  "colab": {
   "gpuType": "T4",
   "provenance": []
  },
  "kernelspec": {
   "display_name": ".venv",
   "language": "python",
   "name": "python3"
  },
  "language_info": {
   "codemirror_mode": {
    "name": "ipython",
    "version": 3
   },
   "file_extension": ".py",
   "mimetype": "text/x-python",
   "name": "python",
   "nbconvert_exporter": "python",
   "pygments_lexer": "ipython3",
   "version": "3.10.4"
  },
  "widgets": {
   "application/vnd.jupyter.widget-state+json": {
    "075dc0a715fc45e79cba59153ba6f9cf": {
     "model_module": "@jupyter-widgets/controls",
     "model_module_version": "1.5.0",
     "model_name": "DescriptionStyleModel",
     "state": {
      "_model_module": "@jupyter-widgets/controls",
      "_model_module_version": "1.5.0",
      "_model_name": "DescriptionStyleModel",
      "_view_count": null,
      "_view_module": "@jupyter-widgets/base",
      "_view_module_version": "1.2.0",
      "_view_name": "StyleView",
      "description_width": ""
     }
    },
    "102fbee6e8d54948bc20bfde50ececa8": {
     "model_module": "@jupyter-widgets/base",
     "model_module_version": "1.2.0",
     "model_name": "LayoutModel",
     "state": {
      "_model_module": "@jupyter-widgets/base",
      "_model_module_version": "1.2.0",
      "_model_name": "LayoutModel",
      "_view_count": null,
      "_view_module": "@jupyter-widgets/base",
      "_view_module_version": "1.2.0",
      "_view_name": "LayoutView",
      "align_content": null,
      "align_items": null,
      "align_self": null,
      "border": null,
      "bottom": null,
      "display": null,
      "flex": null,
      "flex_flow": null,
      "grid_area": null,
      "grid_auto_columns": null,
      "grid_auto_flow": null,
      "grid_auto_rows": null,
      "grid_column": null,
      "grid_gap": null,
      "grid_row": null,
      "grid_template_areas": null,
      "grid_template_columns": null,
      "grid_template_rows": null,
      "height": null,
      "justify_content": null,
      "justify_items": null,
      "left": null,
      "margin": null,
      "max_height": null,
      "max_width": null,
      "min_height": null,
      "min_width": null,
      "object_fit": null,
      "object_position": null,
      "order": null,
      "overflow": null,
      "overflow_x": null,
      "overflow_y": null,
      "padding": null,
      "right": null,
      "top": null,
      "visibility": null,
      "width": null
     }
    },
    "1630789ea45e444e9aaeea26da42af3a": {
     "model_module": "@jupyter-widgets/base",
     "model_module_version": "1.2.0",
     "model_name": "LayoutModel",
     "state": {
      "_model_module": "@jupyter-widgets/base",
      "_model_module_version": "1.2.0",
      "_model_name": "LayoutModel",
      "_view_count": null,
      "_view_module": "@jupyter-widgets/base",
      "_view_module_version": "1.2.0",
      "_view_name": "LayoutView",
      "align_content": null,
      "align_items": null,
      "align_self": null,
      "border": null,
      "bottom": null,
      "display": null,
      "flex": null,
      "flex_flow": null,
      "grid_area": null,
      "grid_auto_columns": null,
      "grid_auto_flow": null,
      "grid_auto_rows": null,
      "grid_column": null,
      "grid_gap": null,
      "grid_row": null,
      "grid_template_areas": null,
      "grid_template_columns": null,
      "grid_template_rows": null,
      "height": null,
      "justify_content": null,
      "justify_items": null,
      "left": null,
      "margin": null,
      "max_height": null,
      "max_width": null,
      "min_height": null,
      "min_width": null,
      "object_fit": null,
      "object_position": null,
      "order": null,
      "overflow": null,
      "overflow_x": null,
      "overflow_y": null,
      "padding": null,
      "right": null,
      "top": null,
      "visibility": null,
      "width": null
     }
    },
    "1aae5bfca5bd423291ab32237e87d5ab": {
     "model_module": "@jupyter-widgets/controls",
     "model_module_version": "1.5.0",
     "model_name": "HBoxModel",
     "state": {
      "_dom_classes": [],
      "_model_module": "@jupyter-widgets/controls",
      "_model_module_version": "1.5.0",
      "_model_name": "HBoxModel",
      "_view_count": null,
      "_view_module": "@jupyter-widgets/controls",
      "_view_module_version": "1.5.0",
      "_view_name": "HBoxView",
      "box_style": "",
      "children": [
       "IPY_MODEL_50d49b8bcb20466c83c9d797593cf167",
       "IPY_MODEL_ef010e134fa4426cb536e8c4b7658d93",
       "IPY_MODEL_7eade53bc89347d4b29cb110bca43ab1"
      ],
      "layout": "IPY_MODEL_102fbee6e8d54948bc20bfde50ececa8"
     }
    },
    "1d05992bd0a64db6a3663948cc553bd7": {
     "model_module": "@jupyter-widgets/controls",
     "model_module_version": "1.5.0",
     "model_name": "HTMLModel",
     "state": {
      "_dom_classes": [],
      "_model_module": "@jupyter-widgets/controls",
      "_model_module_version": "1.5.0",
      "_model_name": "HTMLModel",
      "_view_count": null,
      "_view_module": "@jupyter-widgets/controls",
      "_view_module_version": "1.5.0",
      "_view_name": "HTMLView",
      "description": "",
      "description_tooltip": null,
      "layout": "IPY_MODEL_5037b2024dbc46cd9c4f1e5d2966fde5",
      "placeholder": "​",
      "style": "IPY_MODEL_e9192fe086a5401d8982bd29464853eb",
      "value": " 1/1 [00:00&lt;00:00,  9.03it/s]"
     }
    },
    "2dc3415f88924ceeb867802907e2d0ea": {
     "model_module": "@jupyter-widgets/controls",
     "model_module_version": "1.5.0",
     "model_name": "HTMLModel",
     "state": {
      "_dom_classes": [],
      "_model_module": "@jupyter-widgets/controls",
      "_model_module_version": "1.5.0",
      "_model_name": "HTMLModel",
      "_view_count": null,
      "_view_module": "@jupyter-widgets/controls",
      "_view_module_version": "1.5.0",
      "_view_name": "HTMLView",
      "description": "",
      "description_tooltip": null,
      "layout": "IPY_MODEL_9e4fac7439754adfad8f23d1f02455ee",
      "placeholder": "​",
      "style": "IPY_MODEL_075dc0a715fc45e79cba59153ba6f9cf",
      "value": "100%"
     }
    },
    "2fc9399d78bd467e9e7d67747728a7e6": {
     "model_module": "@jupyter-widgets/base",
     "model_module_version": "1.2.0",
     "model_name": "LayoutModel",
     "state": {
      "_model_module": "@jupyter-widgets/base",
      "_model_module_version": "1.2.0",
      "_model_name": "LayoutModel",
      "_view_count": null,
      "_view_module": "@jupyter-widgets/base",
      "_view_module_version": "1.2.0",
      "_view_name": "LayoutView",
      "align_content": null,
      "align_items": null,
      "align_self": null,
      "border": null,
      "bottom": null,
      "display": null,
      "flex": null,
      "flex_flow": null,
      "grid_area": null,
      "grid_auto_columns": null,
      "grid_auto_flow": null,
      "grid_auto_rows": null,
      "grid_column": null,
      "grid_gap": null,
      "grid_row": null,
      "grid_template_areas": null,
      "grid_template_columns": null,
      "grid_template_rows": null,
      "height": null,
      "justify_content": null,
      "justify_items": null,
      "left": null,
      "margin": null,
      "max_height": null,
      "max_width": null,
      "min_height": null,
      "min_width": null,
      "object_fit": null,
      "object_position": null,
      "order": null,
      "overflow": null,
      "overflow_x": null,
      "overflow_y": null,
      "padding": null,
      "right": null,
      "top": null,
      "visibility": null,
      "width": null
     }
    },
    "49a11c99e46d46fc9a260dcf73f91b18": {
     "model_module": "@jupyter-widgets/controls",
     "model_module_version": "1.5.0",
     "model_name": "ProgressStyleModel",
     "state": {
      "_model_module": "@jupyter-widgets/controls",
      "_model_module_version": "1.5.0",
      "_model_name": "ProgressStyleModel",
      "_view_count": null,
      "_view_module": "@jupyter-widgets/base",
      "_view_module_version": "1.2.0",
      "_view_name": "StyleView",
      "bar_color": null,
      "description_width": ""
     }
    },
    "5037b2024dbc46cd9c4f1e5d2966fde5": {
     "model_module": "@jupyter-widgets/base",
     "model_module_version": "1.2.0",
     "model_name": "LayoutModel",
     "state": {
      "_model_module": "@jupyter-widgets/base",
      "_model_module_version": "1.2.0",
      "_model_name": "LayoutModel",
      "_view_count": null,
      "_view_module": "@jupyter-widgets/base",
      "_view_module_version": "1.2.0",
      "_view_name": "LayoutView",
      "align_content": null,
      "align_items": null,
      "align_self": null,
      "border": null,
      "bottom": null,
      "display": null,
      "flex": null,
      "flex_flow": null,
      "grid_area": null,
      "grid_auto_columns": null,
      "grid_auto_flow": null,
      "grid_auto_rows": null,
      "grid_column": null,
      "grid_gap": null,
      "grid_row": null,
      "grid_template_areas": null,
      "grid_template_columns": null,
      "grid_template_rows": null,
      "height": null,
      "justify_content": null,
      "justify_items": null,
      "left": null,
      "margin": null,
      "max_height": null,
      "max_width": null,
      "min_height": null,
      "min_width": null,
      "object_fit": null,
      "object_position": null,
      "order": null,
      "overflow": null,
      "overflow_x": null,
      "overflow_y": null,
      "padding": null,
      "right": null,
      "top": null,
      "visibility": null,
      "width": null
     }
    },
    "50d49b8bcb20466c83c9d797593cf167": {
     "model_module": "@jupyter-widgets/controls",
     "model_module_version": "1.5.0",
     "model_name": "HTMLModel",
     "state": {
      "_dom_classes": [],
      "_model_module": "@jupyter-widgets/controls",
      "_model_module_version": "1.5.0",
      "_model_name": "HTMLModel",
      "_view_count": null,
      "_view_module": "@jupyter-widgets/controls",
      "_view_module_version": "1.5.0",
      "_view_name": "HTMLView",
      "description": "",
      "description_tooltip": null,
      "layout": "IPY_MODEL_1630789ea45e444e9aaeea26da42af3a",
      "placeholder": "​",
      "style": "IPY_MODEL_c5c40a6e9bab413690d73257746eb175",
      "value": " 83%"
     }
    },
    "5645d2a076844f8d9554ef5e8be96519": {
     "model_module": "@jupyter-widgets/controls",
     "model_module_version": "1.5.0",
     "model_name": "FloatProgressModel",
     "state": {
      "_dom_classes": [],
      "_model_module": "@jupyter-widgets/controls",
      "_model_module_version": "1.5.0",
      "_model_name": "FloatProgressModel",
      "_view_count": null,
      "_view_module": "@jupyter-widgets/controls",
      "_view_module_version": "1.5.0",
      "_view_name": "ProgressView",
      "bar_style": "success",
      "description": "",
      "description_tooltip": null,
      "layout": "IPY_MODEL_2fc9399d78bd467e9e7d67747728a7e6",
      "max": 1,
      "min": 0,
      "orientation": "horizontal",
      "style": "IPY_MODEL_49a11c99e46d46fc9a260dcf73f91b18",
      "value": 1
     }
    },
    "7b4d2e786a0c49d5b9f714cfa8683b1d": {
     "model_module": "@jupyter-widgets/base",
     "model_module_version": "1.2.0",
     "model_name": "LayoutModel",
     "state": {
      "_model_module": "@jupyter-widgets/base",
      "_model_module_version": "1.2.0",
      "_model_name": "LayoutModel",
      "_view_count": null,
      "_view_module": "@jupyter-widgets/base",
      "_view_module_version": "1.2.0",
      "_view_name": "LayoutView",
      "align_content": null,
      "align_items": null,
      "align_self": null,
      "border": null,
      "bottom": null,
      "display": null,
      "flex": null,
      "flex_flow": null,
      "grid_area": null,
      "grid_auto_columns": null,
      "grid_auto_flow": null,
      "grid_auto_rows": null,
      "grid_column": null,
      "grid_gap": null,
      "grid_row": null,
      "grid_template_areas": null,
      "grid_template_columns": null,
      "grid_template_rows": null,
      "height": null,
      "justify_content": null,
      "justify_items": null,
      "left": null,
      "margin": null,
      "max_height": null,
      "max_width": null,
      "min_height": null,
      "min_width": null,
      "object_fit": null,
      "object_position": null,
      "order": null,
      "overflow": null,
      "overflow_x": null,
      "overflow_y": null,
      "padding": null,
      "right": null,
      "top": null,
      "visibility": null,
      "width": null
     }
    },
    "7eade53bc89347d4b29cb110bca43ab1": {
     "model_module": "@jupyter-widgets/controls",
     "model_module_version": "1.5.0",
     "model_name": "HTMLModel",
     "state": {
      "_dom_classes": [],
      "_model_module": "@jupyter-widgets/controls",
      "_model_module_version": "1.5.0",
      "_model_name": "HTMLModel",
      "_view_count": null,
      "_view_module": "@jupyter-widgets/controls",
      "_view_module_version": "1.5.0",
      "_view_name": "HTMLView",
      "description": "",
      "description_tooltip": null,
      "layout": "IPY_MODEL_fbe101275a6d4701858e8f72ea988fb3",
      "placeholder": "​",
      "style": "IPY_MODEL_970e3afdbed048839ab84cb1bf9df8e8",
      "value": " 831/1000 [12:10&lt;02:19,  1.21it/s]"
     }
    },
    "871f0e1f9e664d42b12839fd24c34cae": {
     "model_module": "@jupyter-widgets/controls",
     "model_module_version": "1.5.0",
     "model_name": "ProgressStyleModel",
     "state": {
      "_model_module": "@jupyter-widgets/controls",
      "_model_module_version": "1.5.0",
      "_model_name": "ProgressStyleModel",
      "_view_count": null,
      "_view_module": "@jupyter-widgets/base",
      "_view_module_version": "1.2.0",
      "_view_name": "StyleView",
      "bar_color": null,
      "description_width": ""
     }
    },
    "970e3afdbed048839ab84cb1bf9df8e8": {
     "model_module": "@jupyter-widgets/controls",
     "model_module_version": "1.5.0",
     "model_name": "DescriptionStyleModel",
     "state": {
      "_model_module": "@jupyter-widgets/controls",
      "_model_module_version": "1.5.0",
      "_model_name": "DescriptionStyleModel",
      "_view_count": null,
      "_view_module": "@jupyter-widgets/base",
      "_view_module_version": "1.2.0",
      "_view_name": "StyleView",
      "description_width": ""
     }
    },
    "9e4fac7439754adfad8f23d1f02455ee": {
     "model_module": "@jupyter-widgets/base",
     "model_module_version": "1.2.0",
     "model_name": "LayoutModel",
     "state": {
      "_model_module": "@jupyter-widgets/base",
      "_model_module_version": "1.2.0",
      "_model_name": "LayoutModel",
      "_view_count": null,
      "_view_module": "@jupyter-widgets/base",
      "_view_module_version": "1.2.0",
      "_view_name": "LayoutView",
      "align_content": null,
      "align_items": null,
      "align_self": null,
      "border": null,
      "bottom": null,
      "display": null,
      "flex": null,
      "flex_flow": null,
      "grid_area": null,
      "grid_auto_columns": null,
      "grid_auto_flow": null,
      "grid_auto_rows": null,
      "grid_column": null,
      "grid_gap": null,
      "grid_row": null,
      "grid_template_areas": null,
      "grid_template_columns": null,
      "grid_template_rows": null,
      "height": null,
      "justify_content": null,
      "justify_items": null,
      "left": null,
      "margin": null,
      "max_height": null,
      "max_width": null,
      "min_height": null,
      "min_width": null,
      "object_fit": null,
      "object_position": null,
      "order": null,
      "overflow": null,
      "overflow_x": null,
      "overflow_y": null,
      "padding": null,
      "right": null,
      "top": null,
      "visibility": null,
      "width": null
     }
    },
    "af737771aba645fd8a1b6747b35c6861": {
     "model_module": "@jupyter-widgets/controls",
     "model_module_version": "1.5.0",
     "model_name": "HBoxModel",
     "state": {
      "_dom_classes": [],
      "_model_module": "@jupyter-widgets/controls",
      "_model_module_version": "1.5.0",
      "_model_name": "HBoxModel",
      "_view_count": null,
      "_view_module": "@jupyter-widgets/controls",
      "_view_module_version": "1.5.0",
      "_view_name": "HBoxView",
      "box_style": "",
      "children": [
       "IPY_MODEL_2dc3415f88924ceeb867802907e2d0ea",
       "IPY_MODEL_5645d2a076844f8d9554ef5e8be96519",
       "IPY_MODEL_1d05992bd0a64db6a3663948cc553bd7"
      ],
      "layout": "IPY_MODEL_7b4d2e786a0c49d5b9f714cfa8683b1d"
     }
    },
    "c5c40a6e9bab413690d73257746eb175": {
     "model_module": "@jupyter-widgets/controls",
     "model_module_version": "1.5.0",
     "model_name": "DescriptionStyleModel",
     "state": {
      "_model_module": "@jupyter-widgets/controls",
      "_model_module_version": "1.5.0",
      "_model_name": "DescriptionStyleModel",
      "_view_count": null,
      "_view_module": "@jupyter-widgets/base",
      "_view_module_version": "1.2.0",
      "_view_name": "StyleView",
      "description_width": ""
     }
    },
    "e9192fe086a5401d8982bd29464853eb": {
     "model_module": "@jupyter-widgets/controls",
     "model_module_version": "1.5.0",
     "model_name": "DescriptionStyleModel",
     "state": {
      "_model_module": "@jupyter-widgets/controls",
      "_model_module_version": "1.5.0",
      "_model_name": "DescriptionStyleModel",
      "_view_count": null,
      "_view_module": "@jupyter-widgets/base",
      "_view_module_version": "1.2.0",
      "_view_name": "StyleView",
      "description_width": ""
     }
    },
    "ef010e134fa4426cb536e8c4b7658d93": {
     "model_module": "@jupyter-widgets/controls",
     "model_module_version": "1.5.0",
     "model_name": "FloatProgressModel",
     "state": {
      "_dom_classes": [],
      "_model_module": "@jupyter-widgets/controls",
      "_model_module_version": "1.5.0",
      "_model_name": "FloatProgressModel",
      "_view_count": null,
      "_view_module": "@jupyter-widgets/controls",
      "_view_module_version": "1.5.0",
      "_view_name": "ProgressView",
      "bar_style": "danger",
      "description": "",
      "description_tooltip": null,
      "layout": "IPY_MODEL_fca8be53c4394b0bab98c40cb9efb341",
      "max": 1000,
      "min": 0,
      "orientation": "horizontal",
      "style": "IPY_MODEL_871f0e1f9e664d42b12839fd24c34cae",
      "value": 831
     }
    },
    "fbe101275a6d4701858e8f72ea988fb3": {
     "model_module": "@jupyter-widgets/base",
     "model_module_version": "1.2.0",
     "model_name": "LayoutModel",
     "state": {
      "_model_module": "@jupyter-widgets/base",
      "_model_module_version": "1.2.0",
      "_model_name": "LayoutModel",
      "_view_count": null,
      "_view_module": "@jupyter-widgets/base",
      "_view_module_version": "1.2.0",
      "_view_name": "LayoutView",
      "align_content": null,
      "align_items": null,
      "align_self": null,
      "border": null,
      "bottom": null,
      "display": null,
      "flex": null,
      "flex_flow": null,
      "grid_area": null,
      "grid_auto_columns": null,
      "grid_auto_flow": null,
      "grid_auto_rows": null,
      "grid_column": null,
      "grid_gap": null,
      "grid_row": null,
      "grid_template_areas": null,
      "grid_template_columns": null,
      "grid_template_rows": null,
      "height": null,
      "justify_content": null,
      "justify_items": null,
      "left": null,
      "margin": null,
      "max_height": null,
      "max_width": null,
      "min_height": null,
      "min_width": null,
      "object_fit": null,
      "object_position": null,
      "order": null,
      "overflow": null,
      "overflow_x": null,
      "overflow_y": null,
      "padding": null,
      "right": null,
      "top": null,
      "visibility": null,
      "width": null
     }
    },
    "fca8be53c4394b0bab98c40cb9efb341": {
     "model_module": "@jupyter-widgets/base",
     "model_module_version": "1.2.0",
     "model_name": "LayoutModel",
     "state": {
      "_model_module": "@jupyter-widgets/base",
      "_model_module_version": "1.2.0",
      "_model_name": "LayoutModel",
      "_view_count": null,
      "_view_module": "@jupyter-widgets/base",
      "_view_module_version": "1.2.0",
      "_view_name": "LayoutView",
      "align_content": null,
      "align_items": null,
      "align_self": null,
      "border": null,
      "bottom": null,
      "display": null,
      "flex": null,
      "flex_flow": null,
      "grid_area": null,
      "grid_auto_columns": null,
      "grid_auto_flow": null,
      "grid_auto_rows": null,
      "grid_column": null,
      "grid_gap": null,
      "grid_row": null,
      "grid_template_areas": null,
      "grid_template_columns": null,
      "grid_template_rows": null,
      "height": null,
      "justify_content": null,
      "justify_items": null,
      "left": null,
      "margin": null,
      "max_height": null,
      "max_width": null,
      "min_height": null,
      "min_width": null,
      "object_fit": null,
      "object_position": null,
      "order": null,
      "overflow": null,
      "overflow_x": null,
      "overflow_y": null,
      "padding": null,
      "right": null,
      "top": null,
      "visibility": null,
      "width": null
     }
    }
   }
  }
 },
 "nbformat": 4,
 "nbformat_minor": 0
}
