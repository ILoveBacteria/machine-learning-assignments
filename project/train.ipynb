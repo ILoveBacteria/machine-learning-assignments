{
  "cells": [
    {
      "cell_type": "code",
      "execution_count": 1,
      "metadata": {
        "id": "eWVSoXffWQT8"
      },
      "outputs": [],
      "source": [
        "from tqdm.notebook import tqdm\n",
        "import pandas as pd\n",
        "from sklearn.feature_extraction.text import ENGLISH_STOP_WORDS\n",
        "import torch\n",
        "\n",
        "# Importing libraries\n",
        "import copy\n",
        "import os\n",
        "\n",
        "import numpy as np\n",
        "import matplotlib.pyplot as plt\n",
        "from tqdm.notebook import tqdm\n",
        "import time\n",
        "\n",
        "import torchvision\n",
        "from torchvision import transforms\n",
        "\n",
        "import torch\n",
        "import torch.nn as nn\n",
        "import torch.nn.functional as F\n",
        "import torch.optim as optim\n",
        "from torch.utils.data import Subset\n",
        "from typing import Tuple, List\n",
        "from torch.optim import Optimizer\n",
        "from torch.utils.data import DataLoader"
      ]
    },
    {
      "cell_type": "code",
      "execution_count": 2,
      "metadata": {
        "colab": {
          "base_uri": "https://localhost:8080/"
        },
        "id": "QVBKIRZjWQT9",
        "outputId": "f06755c9-b7b7-470c-ffd8-2518ae98bf1c"
      },
      "outputs": [
        {
          "output_type": "stream",
          "name": "stdout",
          "text": [
            "Mounted at /content/drive\n"
          ]
        }
      ],
      "source": [
        "from google.colab import drive\n",
        "drive.mount('/content/drive')"
      ]
    },
    {
      "cell_type": "code",
      "execution_count": 3,
      "metadata": {
        "id": "l9EtYzHYWQT-"
      },
      "outputs": [],
      "source": [
        "import os\n",
        "\n",
        "BASE_PATH = 'drive/MyDrive/NLP_project/'\n",
        "# BASE_PATH = './'\n",
        "if not os.path.exists(BASE_PATH):\n",
        "    raise ValueError('path does not exist')"
      ]
    },
    {
      "cell_type": "code",
      "execution_count": 4,
      "metadata": {
        "id": "7-gs8NFdWQT-"
      },
      "outputs": [],
      "source": [
        "from IPython.core.magic import register_cell_magic\n",
        "\n",
        "@register_cell_magic\n",
        "def skip(line, cell):\n",
        "    return"
      ]
    },
    {
      "cell_type": "code",
      "execution_count": 5,
      "metadata": {
        "colab": {
          "base_uri": "https://localhost:8080/"
        },
        "id": "AOqCLTAtWQT_",
        "outputId": "9feb0024-3cf1-4e55-f7b2-a795ec649f2c"
      },
      "outputs": [
        {
          "output_type": "stream",
          "name": "stdout",
          "text": [
            "cuda\n"
          ]
        }
      ],
      "source": [
        "device = torch.device('cuda') if torch.cuda.is_available() else torch.device('cpu')\n",
        "print(device)"
      ]
    },
    {
      "cell_type": "markdown",
      "metadata": {
        "id": "_yxWioDIWQUR"
      },
      "source": [
        "# Define Base Model"
      ]
    },
    {
      "cell_type": "code",
      "execution_count": 6,
      "metadata": {
        "id": "XzCwphLSWQUS"
      },
      "outputs": [],
      "source": [
        "class MyBaseModel(nn.Module):\n",
        "    def __init__(self, *args, **kwargs):\n",
        "        super().__init__(*args, **kwargs)\n",
        "        self.accuracy_train_history = []\n",
        "        self.accuracy_test_history = []\n",
        "        self.loss_train_history = []\n",
        "        self.loss_test_history = []\n",
        "        self.train_time = 0\n",
        "\n",
        "    def save(self, path):\n",
        "        torch.save(self, path)\n",
        "\n",
        "    @staticmethod\n",
        "    def load(path) -> nn.Module|None:\n",
        "        model = None\n",
        "        if os.path.exists(path):\n",
        "            print(f'Loading from disc: {path}')\n",
        "            model = torch.load(path, weights_only=False)\n",
        "            model.eval()\n",
        "        else:\n",
        "            print('Model not found!')\n",
        "        return model"
      ]
    },
    {
      "cell_type": "markdown",
      "metadata": {
        "id": "yiIE27-7WQUS"
      },
      "source": [
        "# Implement functions\n",
        "\n",
        "- accuracy\n",
        "- train\n",
        "- validation\n",
        "- top level function for training\n",
        "- plot"
      ]
    },
    {
      "cell_type": "code",
      "execution_count": 7,
      "metadata": {
        "id": "pQW8TMNYWQUS"
      },
      "outputs": [],
      "source": [
        "def accuracy(pred, y):\n",
        "    correct = (pred.argmax(dim=1) == y.argmax(dim=1)).type(torch.int8).sum().item()\n",
        "    return correct / y.shape[0] # average"
      ]
    },
    {
      "cell_type": "code",
      "execution_count": 8,
      "metadata": {
        "id": "Ae6zLlYFWQUS"
      },
      "outputs": [],
      "source": [
        "def train(model, x, y, loss_fn, optimizer):\n",
        "    model.train()\n",
        "\n",
        "    # Loop over batches\n",
        "    for i in range(x.shape[0]):\n",
        "        # Forward pass and loss calculation\n",
        "        pred = model(x[i])\n",
        "        loss = loss_fn(pred, y[i])\n",
        "\n",
        "        # Backward pass and optimization\n",
        "        optimizer.zero_grad()\n",
        "        loss.backward()\n",
        "        optimizer.step()"
      ]
    },
    {
      "cell_type": "code",
      "execution_count": 9,
      "metadata": {
        "id": "u_CQ9OlkWQUS"
      },
      "outputs": [],
      "source": [
        "def validation(model, x, y, loss_fn):\n",
        "    model.eval()  # Set model to evaluation mode\n",
        "    with torch.no_grad():  # Disable gradient calculation for validation\n",
        "        pred = model(x)\n",
        "        loss = loss_fn(pred, y).item()\n",
        "    return pred, loss"
      ]
    },
    {
      "cell_type": "code",
      "execution_count": 29,
      "metadata": {
        "id": "GFzm2ruFWQUT"
      },
      "outputs": [],
      "source": [
        "def top_level_func_training(model,\n",
        "                            x_train,\n",
        "                            y_train,\n",
        "                            x_test,\n",
        "                            y_test,\n",
        "                            loss_fn,\n",
        "                            optimizer,\n",
        "                            MODEL_PATH,\n",
        "                            number_epochs=0,\n",
        "                            patience=10,\n",
        "                            save=True):\n",
        "    # Initialize Variables for EarlyStopping\n",
        "    best_loss = model.loss_test_history[-1] if len(model.loss_test_history) else float('inf')\n",
        "    best_model_weights = copy.deepcopy(model.state_dict())\n",
        "    input_patience = patience\n",
        "\n",
        "    start_time = time.time()\n",
        "    # Training Loop with Early Stopping:\n",
        "    for epoch in tqdm(range(number_epochs)):\n",
        "        # Train\n",
        "        train(model, x_train, y_train, loss_fn, optimizer)\n",
        "\n",
        "        # Validation\n",
        "        val_pred, val_loss = validation(model, x_test, y_test, loss_fn)\n",
        "        train_pred, train_loss = validation(model, x_train, y_train, loss_fn)\n",
        "\n",
        "        # Early stopping\n",
        "        if val_loss < best_loss:\n",
        "            best_loss = val_loss\n",
        "            best_model_weights = copy.deepcopy(model.state_dict())  # Deep copy here\n",
        "            patience = input_patience  # Reset patience counter\n",
        "        else:\n",
        "            patience -= 1\n",
        "            if patience == 0:\n",
        "                print('Early stopping...')\n",
        "                break\n",
        "\n",
        "        # Save accuracy and loss on test\n",
        "        model.accuracy_test_history.append(accuracy(val_pred, y_test))\n",
        "        model.loss_test_history.append(val_loss)\n",
        "\n",
        "        # Save accuracy and loss on train\n",
        "        model.accuracy_train_history.append(accuracy(train_pred, y_train))\n",
        "        model.loss_train_history.append(train_loss)\n",
        "\n",
        "    end_time = time.time()\n",
        "    model.train_time += (end_time - start_time)\n",
        "    # Load the best model weights then save on disc\n",
        "    model.load_state_dict(best_model_weights)\n",
        "    if save:\n",
        "        model.save(MODEL_PATH)"
      ]
    },
    {
      "cell_type": "code",
      "execution_count": 11,
      "metadata": {
        "id": "-VjXL7QzWQUT"
      },
      "outputs": [],
      "source": [
        "def plot(model):\n",
        "    plt.figure(figsize=(15, 5))\n",
        "    plt.subplot(1, 2, 1)\n",
        "    plt.plot(np.arange(len(model.accuracy_train_history)), np.array(model.accuracy_train_history) * 100, label='Train')\n",
        "    plt.plot(np.arange(len(model.accuracy_test_history)), np.array(model.accuracy_test_history) * 100, label='Test')\n",
        "    plt.xlabel('Epoch')\n",
        "    plt.ylabel('Accuracy (%)')\n",
        "    plt.title('Accuracy (batch size=100)')\n",
        "    plt.legend()\n",
        "    plt.grid()\n",
        "\n",
        "    plt.subplot(1, 2, 2)\n",
        "    plt.plot(np.arange(len(model.loss_train_history)), np.array(model.loss_train_history), label='Train')\n",
        "    plt.plot(np.arange(len(model.loss_test_history)), np.array(model.loss_test_history), label='Test')\n",
        "    plt.xlabel('Epoch')\n",
        "    plt.ylabel('Loss')\n",
        "    plt.title('Loss (batch size=100)')\n",
        "    plt.legend()\n",
        "    plt.grid()\n",
        "    plt.show()\n",
        "    print(f'best loss on test dataset = {model.loss_test_history[-1]:.4f}')\n",
        "    print(f'best loss on train dataset = {model.loss_train_history[-1]:.4f}')\n",
        "    print(f'best accuracy on test dataset = {model.accuracy_test_history[-1] * 100}%')\n",
        "    print(f'train time = {model.train_time}')"
      ]
    },
    {
      "cell_type": "markdown",
      "metadata": {
        "id": "955okaXXWQUT"
      },
      "source": [
        "# Prepare data\n",
        "\n"
      ]
    },
    {
      "cell_type": "code",
      "source": [
        "x_train_tensor = torch.load(BASE_PATH + 'tensors/x_train_tensor.pt', weights_only=False)\n",
        "y_train_tensor = torch.load(BASE_PATH + 'tensors/y_train_tensor.pt', weights_only=False)\n",
        "x_test_tensor = torch.load(BASE_PATH + 'tensors/x_test_tensor.pt', weights_only=False)\n",
        "y_test_tensor = torch.load(BASE_PATH + 'tensors/y_test_tensor.pt', weights_only=False)"
      ],
      "metadata": {
        "id": "mIyEQrGs9-kI"
      },
      "execution_count": 12,
      "outputs": []
    },
    {
      "cell_type": "markdown",
      "source": [
        "## Create Mini-batch"
      ],
      "metadata": {
        "id": "-C73zwTp99Gx"
      }
    },
    {
      "cell_type": "code",
      "execution_count": 13,
      "metadata": {
        "id": "-E43NF6oWQUT",
        "outputId": "dd580f3c-9405-4650-e2e0-185102e1b513",
        "colab": {
          "base_uri": "https://localhost:8080/"
        }
      },
      "outputs": [
        {
          "output_type": "stream",
          "name": "stdout",
          "text": [
            "torch.Size([190000, 1000])\n",
            "torch.Size([190000, 10])\n"
          ]
        }
      ],
      "source": [
        "print(x_train_tensor.shape)\n",
        "print(y_train_tensor.shape)"
      ]
    },
    {
      "cell_type": "code",
      "execution_count": 14,
      "metadata": {
        "id": "3Ueqq3DCWQUU"
      },
      "outputs": [],
      "source": [
        "batch_size = 100\n",
        "x_train_batch = x_train_tensor.reshape(-1, batch_size, x_train_tensor.shape[1])\n",
        "y_train_batch = y_train_tensor.reshape(-1, batch_size, y_train_tensor.shape[1])"
      ]
    },
    {
      "cell_type": "code",
      "execution_count": 15,
      "metadata": {
        "id": "W61S9u-NWQUU",
        "outputId": "2cfe3dad-e9a8-46b6-eb09-2b1db6969b0f",
        "colab": {
          "base_uri": "https://localhost:8080/"
        }
      },
      "outputs": [
        {
          "output_type": "stream",
          "name": "stdout",
          "text": [
            "torch.Size([1900, 100, 1000])\n",
            "torch.Size([1900, 100, 10])\n"
          ]
        }
      ],
      "source": [
        "print(x_train_batch.shape)\n",
        "print(y_train_batch.shape)"
      ]
    },
    {
      "cell_type": "markdown",
      "metadata": {
        "id": "u8rkP-dlWQUU"
      },
      "source": [
        "## Move to GPU"
      ]
    },
    {
      "cell_type": "code",
      "execution_count": 16,
      "metadata": {
        "id": "WNRKqfvGWQUU"
      },
      "outputs": [],
      "source": [
        "x_train_batch = x_train_batch.to(device)\n",
        "y_train_batch = y_train_batch.to(device)\n",
        "x_test_tensor = x_test_tensor.to(device)\n",
        "y_test_tensor = y_test_tensor.to(device)"
      ]
    },
    {
      "cell_type": "markdown",
      "metadata": {
        "id": "OXl1LnBiWQUU"
      },
      "source": [
        "# Define neural network model"
      ]
    },
    {
      "cell_type": "code",
      "execution_count": 17,
      "metadata": {
        "id": "BmcgH6ZwWQUU"
      },
      "outputs": [],
      "source": [
        "features = x_train_batch.shape[2]\n",
        "\n",
        "class NeuralNetwork1(MyBaseModel):\n",
        "    def __init__(self, *args, **kwargs):\n",
        "        super().__init__(*args, **kwargs)\n",
        "        self.linear_relu_stack = nn.Sequential(\n",
        "            nn.Linear(features, features*2//3),\n",
        "            nn.ReLU(),\n",
        "            nn.Linear(features*2//3, features*2//3//2),\n",
        "            nn.ReLU(),\n",
        "            nn.Linear(features*2//3//2, 10),\n",
        "            nn.Softmax(dim=1)\n",
        "        )\n",
        "\n",
        "    def forward(self, x):\n",
        "        logits = self.linear_relu_stack(x)\n",
        "        return logits"
      ]
    },
    {
      "cell_type": "markdown",
      "metadata": {
        "id": "aIkHh3TTWQUV"
      },
      "source": [
        "# Train the model\n",
        "\n",
        "## Model 1"
      ]
    },
    {
      "cell_type": "code",
      "execution_count": 18,
      "metadata": {
        "id": "t3aTXuewWQUV",
        "outputId": "c98db7a2-edb1-43a3-8fe6-a54609984a17",
        "colab": {
          "base_uri": "https://localhost:8080/"
        }
      },
      "outputs": [
        {
          "output_type": "stream",
          "name": "stdout",
          "text": [
            "Loading from disc: drive/MyDrive/NLP_project/models/nlp_model1.pt\n"
          ]
        }
      ],
      "source": [
        "MODEL_PATH = BASE_PATH + 'models/nlp_model1.pt'\n",
        "model = NeuralNetwork1.load(MODEL_PATH)\n",
        "if not model:\n",
        "    model = NeuralNetwork1()\n",
        "model = model.to(device)\n",
        "model = model.type(torch.float16)"
      ]
    },
    {
      "cell_type": "code",
      "execution_count": 19,
      "metadata": {
        "id": "yp3ojSnrWQUV"
      },
      "outputs": [],
      "source": [
        "%%skip\n",
        "learning_rate = 0.01\n",
        "loss_fn = nn.CrossEntropyLoss()\n",
        "optimizer = torch.optim.SGD(model.parameters(), lr=learning_rate, momentum=0.9)\n",
        "top_level_func_training(model,\n",
        "                        x_train_batch,\n",
        "                        y_train_batch,\n",
        "                        x_test_tensor,\n",
        "                        y_test_tensor,\n",
        "                        loss_fn,\n",
        "                        optimizer,\n",
        "                        MODEL_PATH,\n",
        "                        number_epochs=0,\n",
        "                        patience=20)"
      ]
    },
    {
      "cell_type": "code",
      "execution_count": 20,
      "metadata": {
        "id": "JNK9UcKHWQUV",
        "outputId": "3f5cf1e7-3178-4966-a13a-5d290c818124",
        "colab": {
          "base_uri": "https://localhost:8080/",
          "height": 460
        }
      },
      "outputs": [
        {
          "output_type": "display_data",
          "data": {
            "text/plain": [
              "<Figure size 1500x500 with 2 Axes>"
            ],
            "image/png": "[encoded data removed]"
          },
          "metadata": {}
        },
        {
          "output_type": "stream",
          "name": "stdout",
          "text": [
            "best loss on test dataset = 2.4805\n",
            "best loss on train dataset = inf\n",
            "best accuracy on test dataset = 32.80628668812725%\n",
            "train time = 2050.7365429401398\n"
          ]
        }
      ],
      "source": [
        "plot(model)"
      ]
    },
    {
      "cell_type": "markdown",
      "metadata": {
        "id": "pb3QzxbSYXPq"
      },
      "source": [
        "## Model 2"
      ]
    },
    {
      "cell_type": "code",
      "execution_count": 21,
      "metadata": {
        "outputId": "0bce3ba9-755a-4a66-f96f-252d6425470d",
        "colab": {
          "base_uri": "https://localhost:8080/"
        },
        "id": "TVPOAhW3YXPr"
      },
      "outputs": [
        {
          "output_type": "stream",
          "name": "stdout",
          "text": [
            "Model not found!\n"
          ]
        }
      ],
      "source": [
        "MODEL_PATH = BASE_PATH + 'models/nlp_model2.pt'\n",
        "model = NeuralNetwork1.load(MODEL_PATH)\n",
        "if not model:\n",
        "    model = NeuralNetwork1()\n",
        "model = model.to(device)\n",
        "model = model.type(torch.float16)"
      ]
    },
    {
      "cell_type": "code",
      "source": [
        "model"
      ],
      "metadata": {
        "colab": {
          "base_uri": "https://localhost:8080/"
        },
        "id": "I8vpgUM7dtI4",
        "outputId": "b0130d5d-75fd-4856-f452-57281515108f"
      },
      "execution_count": 26,
      "outputs": [
        {
          "output_type": "execute_result",
          "data": {
            "text/plain": [
              "NeuralNetwork1(\n",
              "  (linear_relu_stack): Sequential(\n",
              "    (0): Linear(in_features=1000, out_features=666, bias=True)\n",
              "    (1): ReLU()\n",
              "    (2): Linear(in_features=666, out_features=333, bias=True)\n",
              "    (3): ReLU()\n",
              "    (4): Linear(in_features=333, out_features=10, bias=True)\n",
              "    (5): Softmax(dim=1)\n",
              "  )\n",
              ")"
            ]
          },
          "metadata": {},
          "execution_count": 26
        }
      ]
    },
    {
      "cell_type": "code",
      "execution_count": 32,
      "metadata": {
        "outputId": "bc97533c-5a58-4f27-839c-05cc4eb6915e",
        "colab": {
          "base_uri": "https://localhost:8080/",
          "height": 66,
          "referenced_widgets": [
            "49cd6942efce483a95c04fb6cf9054ef",
            "d589683f987d4a489f40d335376d0d59",
            "0ccff2f0e3424f9da891e14868e495c9",
            "be46fb003f434d2d901d9bd40630ead5",
            "ab40946f3677455b9ce57fdb8dde7dff",
            "e9700833f7db4725989594b7b486c8f6",
            "c87ab9fc24aa4b03bf4a95fb1d25f16a",
            "b7aaa1000d544f0c855140b2f90bfc34",
            "06af2d77a90b4fc69190afbe456cd74e",
            "0f4164125e2e42729a902c6783b46340",
            "153c1427ff234738ae5d0cd077be63ee"
          ]
        },
        "id": "vLGataw0YXPr"
      },
      "outputs": [
        {
          "output_type": "display_data",
          "data": {
            "text/plain": [
              "  0%|          | 0/100 [00:00<?, ?it/s]"
            ],
            "application/vnd.jupyter.widget-view+json": {
              "version_major": 2,
              "version_minor": 0,
              "model_id": "49cd6942efce483a95c04fb6cf9054ef"
            }
          },
          "metadata": {}
        },
        {
          "output_type": "stream",
          "name": "stdout",
          "text": [
            "Early stopping...\n"
          ]
        }
      ],
      "source": [
        "%%skip\n",
        "learning_rate = 0.01\n",
        "loss_fn = nn.CrossEntropyLoss()\n",
        "optimizer = torch.optim.SGD(model.parameters(), lr=learning_rate, momentum=0.9)\n",
        "top_level_func_training(model,\n",
        "                        x_train_batch,\n",
        "                        y_train_batch,\n",
        "                        x_test_tensor,\n",
        "                        y_test_tensor,\n",
        "                        loss_fn,\n",
        "                        optimizer,\n",
        "                        MODEL_PATH,\n",
        "                        number_epochs=0,\n",
        "                        patience=90)"
      ]
    },
    {
      "cell_type": "code",
      "execution_count": 33,
      "metadata": {
        "outputId": "b2ae4461-3b4b-480b-8ea3-19801c394d40",
        "colab": {
          "base_uri": "https://localhost:8080/",
          "height": 460
        },
        "id": "lHMR5xfHYXPs"
      },
      "outputs": [
        {
          "output_type": "display_data",
          "data": {
            "text/plain": [
              "<Figure size 1500x500 with 2 Axes>"
            ],
            "image/png": "[encoded data removed]"
          },
          "metadata": {}
        },
        {
          "output_type": "stream",
          "name": "stdout",
          "text": [
            "best loss on test dataset = 2.4277\n",
            "best loss on train dataset = inf\n",
            "best accuracy on test dataset = 36.64078772959667%\n",
            "train time = 685.0907182693481\n"
          ]
        }
      ],
      "source": [
        "plot(model)"
      ]
    }
  ],
  "metadata": {
    "accelerator": "GPU",
    "colab": {
      "gpuType": "T4",
      "provenance": []
    },
    "kernelspec": {
      "display_name": ".venv",
      "language": "python",
      "name": "python3"
    },
    "language_info": {
      "codemirror_mode": {
        "name": "ipython",
        "version": 3
      },
      "file_extension": ".py",
      "mimetype": "text/x-python",
      "name": "python",
      "nbconvert_exporter": "python",
      "pygments_lexer": "ipython3",
      "version": "3.10.4"
    },
    "widgets": {
      "application/vnd.jupyter.widget-state+json": {
        "49cd6942efce483a95c04fb6cf9054ef": {
          "model_module": "@jupyter-widgets/controls",
          "model_name": "HBoxModel",
          "model_module_version": "1.5.0",
          "state": {
            "_dom_classes": [],
            "_model_module": "@jupyter-widgets/controls",
            "_model_module_version": "1.5.0",
            "_model_name": "HBoxModel",
            "_view_count": null,
            "_view_module": "@jupyter-widgets/controls",
            "_view_module_version": "1.5.0",
            "_view_name": "HBoxView",
            "box_style": "",
            "children": [
              "IPY_MODEL_d589683f987d4a489f40d335376d0d59",
              "IPY_MODEL_0ccff2f0e3424f9da891e14868e495c9",
              "IPY_MODEL_be46fb003f434d2d901d9bd40630ead5"
            ],
            "layout": "IPY_MODEL_ab40946f3677455b9ce57fdb8dde7dff"
          }
        },
        "d589683f987d4a489f40d335376d0d59": {
          "model_module": "@jupyter-widgets/controls",
          "model_name": "HTMLModel",
          "model_module_version": "1.5.0",
          "state": {
            "_dom_classes": [],
            "_model_module": "@jupyter-widgets/controls",
            "_model_module_version": "1.5.0",
            "_model_name": "HTMLModel",
            "_view_count": null,
            "_view_module": "@jupyter-widgets/controls",
            "_view_module_version": "1.5.0",
            "_view_name": "HTMLView",
            "description": "",
            "description_tooltip": null,
            "layout": "IPY_MODEL_e9700833f7db4725989594b7b486c8f6",
            "placeholder": "​",
            "style": "IPY_MODEL_c87ab9fc24aa4b03bf4a95fb1d25f16a",
            "value": " 89%"
          }
        },
        "0ccff2f0e3424f9da891e14868e495c9": {
          "model_module": "@jupyter-widgets/controls",
          "model_name": "FloatProgressModel",
          "model_module_version": "1.5.0",
          "state": {
            "_dom_classes": [],
            "_model_module": "@jupyter-widgets/controls",
            "_model_module_version": "1.5.0",
            "_model_name": "FloatProgressModel",
            "_view_count": null,
            "_view_module": "@jupyter-widgets/controls",
            "_view_module_version": "1.5.0",
            "_view_name": "ProgressView",
            "bar_style": "danger",
            "description": "",
            "description_tooltip": null,
            "layout": "IPY_MODEL_b7aaa1000d544f0c855140b2f90bfc34",
            "max": 100,
            "min": 0,
            "orientation": "horizontal",
            "style": "IPY_MODEL_06af2d77a90b4fc69190afbe456cd74e",
            "value": 89
          }
        },
        "be46fb003f434d2d901d9bd40630ead5": {
          "model_module": "@jupyter-widgets/controls",
          "model_name": "HTMLModel",
          "model_module_version": "1.5.0",
          "state": {
            "_dom_classes": [],
            "_model_module": "@jupyter-widgets/controls",
            "_model_module_version": "1.5.0",
            "_model_name": "HTMLModel",
            "_view_count": null,
            "_view_module": "@jupyter-widgets/controls",
            "_view_module_version": "1.5.0",
            "_view_name": "HTMLView",
            "description": "",
            "description_tooltip": null,
            "layout": "IPY_MODEL_0f4164125e2e42729a902c6783b46340",
            "placeholder": "​",
            "style": "IPY_MODEL_153c1427ff234738ae5d0cd077be63ee",
            "value": " 89/100 [04:03&lt;00:30,  2.75s/it]"
          }
        },
        "ab40946f3677455b9ce57fdb8dde7dff": {
          "model_module": "@jupyter-widgets/base",
          "model_name": "LayoutModel",
          "model_module_version": "1.2.0",
          "state": {
            "_model_module": "@jupyter-widgets/base",
            "_model_module_version": "1.2.0",
            "_model_name": "LayoutModel",
            "_view_count": null,
            "_view_module": "@jupyter-widgets/base",
            "_view_module_version": "1.2.0",
            "_view_name": "LayoutView",
            "align_content": null,
            "align_items": null,
            "align_self": null,
            "border": null,
            "bottom": null,
            "display": null,
            "flex": null,
            "flex_flow": null,
            "grid_area": null,
            "grid_auto_columns": null,
            "grid_auto_flow": null,
            "grid_auto_rows": null,
            "grid_column": null,
            "grid_gap": null,
            "grid_row": null,
            "grid_template_areas": null,
            "grid_template_columns": null,
            "grid_template_rows": null,
            "height": null,
            "justify_content": null,
            "justify_items": null,
            "left": null,
            "margin": null,
            "max_height": null,
            "max_width": null,
            "min_height": null,
            "min_width": null,
            "object_fit": null,
            "object_position": null,
            "order": null,
            "overflow": null,
            "overflow_x": null,
            "overflow_y": null,
            "padding": null,
            "right": null,
            "top": null,
            "visibility": null,
            "width": null
          }
        },
        "e9700833f7db4725989594b7b486c8f6": {
          "model_module": "@jupyter-widgets/base",
          "model_name": "LayoutModel",
          "model_module_version": "1.2.0",
          "state": {
            "_model_module": "@jupyter-widgets/base",
            "_model_module_version": "1.2.0",
            "_model_name": "LayoutModel",
            "_view_count": null,
            "_view_module": "@jupyter-widgets/base",
            "_view_module_version": "1.2.0",
            "_view_name": "LayoutView",
            "align_content": null,
            "align_items": null,
            "align_self": null,
            "border": null,
            "bottom": null,
            "display": null,
            "flex": null,
            "flex_flow": null,
            "grid_area": null,
            "grid_auto_columns": null,
            "grid_auto_flow": null,
            "grid_auto_rows": null,
            "grid_column": null,
            "grid_gap": null,
            "grid_row": null,
            "grid_template_areas": null,
            "grid_template_columns": null,
            "grid_template_rows": null,
            "height": null,
            "justify_content": null,
            "justify_items": null,
            "left": null,
            "margin": null,
            "max_height": null,
            "max_width": null,
            "min_height": null,
            "min_width": null,
            "object_fit": null,
            "object_position": null,
            "order": null,
            "overflow": null,
            "overflow_x": null,
            "overflow_y": null,
            "padding": null,
            "right": null,
            "top": null,
            "visibility": null,
            "width": null
          }
        },
        "c87ab9fc24aa4b03bf4a95fb1d25f16a": {
          "model_module": "@jupyter-widgets/controls",
          "model_name": "DescriptionStyleModel",
          "model_module_version": "1.5.0",
          "state": {
            "_model_module": "@jupyter-widgets/controls",
            "_model_module_version": "1.5.0",
            "_model_name": "DescriptionStyleModel",
            "_view_count": null,
            "_view_module": "@jupyter-widgets/base",
            "_view_module_version": "1.2.0",
            "_view_name": "StyleView",
            "description_width": ""
          }
        },
        "b7aaa1000d544f0c855140b2f90bfc34": {
          "model_module": "@jupyter-widgets/base",
          "model_name": "LayoutModel",
          "model_module_version": "1.2.0",
          "state": {
            "_model_module": "@jupyter-widgets/base",
            "_model_module_version": "1.2.0",
            "_model_name": "LayoutModel",
            "_view_count": null,
            "_view_module": "@jupyter-widgets/base",
            "_view_module_version": "1.2.0",
            "_view_name": "LayoutView",
            "align_content": null,
            "align_items": null,
            "align_self": null,
            "border": null,
            "bottom": null,
            "display": null,
            "flex": null,
            "flex_flow": null,
            "grid_area": null,
            "grid_auto_columns": null,
            "grid_auto_flow": null,
            "grid_auto_rows": null,
            "grid_column": null,
            "grid_gap": null,
            "grid_row": null,
            "grid_template_areas": null,
            "grid_template_columns": null,
            "grid_template_rows": null,
            "height": null,
            "justify_content": null,
            "justify_items": null,
            "left": null,
            "margin": null,
            "max_height": null,
            "max_width": null,
            "min_height": null,
            "min_width": null,
            "object_fit": null,
            "object_position": null,
            "order": null,
            "overflow": null,
            "overflow_x": null,
            "overflow_y": null,
            "padding": null,
            "right": null,
            "top": null,
            "visibility": null,
            "width": null
          }
        },
        "06af2d77a90b4fc69190afbe456cd74e": {
          "model_module": "@jupyter-widgets/controls",
          "model_name": "ProgressStyleModel",
          "model_module_version": "1.5.0",
          "state": {
            "_model_module": "@jupyter-widgets/controls",
            "_model_module_version": "1.5.0",
            "_model_name": "ProgressStyleModel",
            "_view_count": null,
            "_view_module": "@jupyter-widgets/base",
            "_view_module_version": "1.2.0",
            "_view_name": "StyleView",
            "bar_color": null,
            "description_width": ""
          }
        },
        "0f4164125e2e42729a902c6783b46340": {
          "model_module": "@jupyter-widgets/base",
          "model_name": "LayoutModel",
          "model_module_version": "1.2.0",
          "state": {
            "_model_module": "@jupyter-widgets/base",
            "_model_module_version": "1.2.0",
            "_model_name": "LayoutModel",
            "_view_count": null,
            "_view_module": "@jupyter-widgets/base",
            "_view_module_version": "1.2.0",
            "_view_name": "LayoutView",
            "align_content": null,
            "align_items": null,
            "align_self": null,
            "border": null,
            "bottom": null,
            "display": null,
            "flex": null,
            "flex_flow": null,
            "grid_area": null,
            "grid_auto_columns": null,
            "grid_auto_flow": null,
            "grid_auto_rows": null,
            "grid_column": null,
            "grid_gap": null,
            "grid_row": null,
            "grid_template_areas": null,
            "grid_template_columns": null,
            "grid_template_rows": null,
            "height": null,
            "justify_content": null,
            "justify_items": null,
            "left": null,
            "margin": null,
            "max_height": null,
            "max_width": null,
            "min_height": null,
            "min_width": null,
            "object_fit": null,
            "object_position": null,
            "order": null,
            "overflow": null,
            "overflow_x": null,
            "overflow_y": null,
            "padding": null,
            "right": null,
            "top": null,
            "visibility": null,
            "width": null
          }
        },
        "153c1427ff234738ae5d0cd077be63ee": {
          "model_module": "@jupyter-widgets/controls",
          "model_name": "DescriptionStyleModel",
          "model_module_version": "1.5.0",
          "state": {
            "_model_module": "@jupyter-widgets/controls",
            "_model_module_version": "1.5.0",
            "_model_name": "DescriptionStyleModel",
            "_view_count": null,
            "_view_module": "@jupyter-widgets/base",
            "_view_module_version": "1.2.0",
            "_view_name": "StyleView",
            "description_width": ""
          }
        }
      }
    }
  },
  "nbformat": 4,
  "nbformat_minor": 0
}