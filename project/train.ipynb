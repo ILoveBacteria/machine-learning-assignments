{
  "cells": [
    {
      "cell_type": "code",
      "execution_count": 1,
      "metadata": {
        "id": "eWVSoXffWQT8"
      },
      "outputs": [],
      "source": [
        "from tqdm.notebook import tqdm\n",
        "import pandas as pd\n",
        "from sklearn.feature_extraction.text import ENGLISH_STOP_WORDS\n",
        "import torch\n",
        "\n",
        "# Importing libraries\n",
        "import copy\n",
        "import os\n",
        "\n",
        "import numpy as np\n",
        "import matplotlib.pyplot as plt\n",
        "from tqdm.notebook import tqdm\n",
        "import time\n",
        "\n",
        "import torchvision\n",
        "from torchvision import transforms\n",
        "\n",
        "import torch\n",
        "import torch.nn as nn\n",
        "import torch.nn.functional as F\n",
        "import torch.optim as optim\n",
        "from torch.utils.data import Subset\n",
        "from typing import Tuple, List\n",
        "from torch.optim import Optimizer\n",
        "from torch.utils.data import DataLoader"
      ]
    },
    {
      "cell_type": "code",
      "execution_count": 2,
      "metadata": {
        "colab": {
          "base_uri": "https://localhost:8080/"
        },
        "id": "QVBKIRZjWQT9",
        "outputId": "06b51542-721b-4efb-dc52-ce96e9d5e4b7"
      },
      "outputs": [
        {
          "output_type": "stream",
          "name": "stdout",
          "text": [
            "Drive already mounted at /content/drive; to attempt to forcibly remount, call drive.mount(\"/content/drive\", force_remount=True).\n"
          ]
        }
      ],
      "source": [
        "from google.colab import drive\n",
        "drive.mount('/content/drive')"
      ]
    },
    {
      "cell_type": "code",
      "execution_count": 3,
      "metadata": {
        "id": "l9EtYzHYWQT-"
      },
      "outputs": [],
      "source": [
        "import os\n",
        "\n",
        "BASE_PATH = 'drive/MyDrive/NLP_project/'\n",
        "# BASE_PATH = './'\n",
        "if not os.path.exists(BASE_PATH):\n",
        "    raise ValueError('path does not exist')"
      ]
    },
    {
      "cell_type": "code",
      "execution_count": 4,
      "metadata": {
        "id": "7-gs8NFdWQT-"
      },
      "outputs": [],
      "source": [
        "from IPython.core.magic import register_cell_magic\n",
        "\n",
        "@register_cell_magic\n",
        "def skip(line, cell):\n",
        "    return"
      ]
    },
    {
      "cell_type": "code",
      "execution_count": 5,
      "metadata": {
        "colab": {
          "base_uri": "https://localhost:8080/"
        },
        "id": "AOqCLTAtWQT_",
        "outputId": "66b2df16-9c2c-4e8d-bce8-c560842c6c1d"
      },
      "outputs": [
        {
          "output_type": "stream",
          "name": "stdout",
          "text": [
            "cuda\n"
          ]
        }
      ],
      "source": [
        "device = torch.device('cuda') if torch.cuda.is_available() else torch.device('cpu')\n",
        "print(device)"
      ]
    },
    {
      "cell_type": "markdown",
      "metadata": {
        "id": "_yxWioDIWQUR"
      },
      "source": [
        "# Define Base Model"
      ]
    },
    {
      "cell_type": "code",
      "execution_count": 6,
      "metadata": {
        "id": "XzCwphLSWQUS"
      },
      "outputs": [],
      "source": [
        "class MyBaseModel(nn.Module):\n",
        "    def __init__(self, *args, **kwargs):\n",
        "        super().__init__(*args, **kwargs)\n",
        "        self.accuracy_train_history = []\n",
        "        self.accuracy_test_history = []\n",
        "        self.loss_train_history = []\n",
        "        self.loss_test_history = []\n",
        "        self.train_time = 0\n",
        "\n",
        "    def save(self, path):\n",
        "        torch.save(self, path)\n",
        "\n",
        "    @staticmethod\n",
        "    def load(path) -> nn.Module|None:\n",
        "        model = None\n",
        "        if os.path.exists(path):\n",
        "            print(f'Loading from disc: {path}')\n",
        "            model = torch.load(path, weights_only=False)\n",
        "            model.eval()\n",
        "        else:\n",
        "            print('Model not found!')\n",
        "        return model"
      ]
    },
    {
      "cell_type": "markdown",
      "metadata": {
        "id": "yiIE27-7WQUS"
      },
      "source": [
        "# Implement functions\n",
        "\n",
        "- accuracy\n",
        "- train\n",
        "- validation\n",
        "- top level function for training\n",
        "- plot"
      ]
    },
    {
      "cell_type": "code",
      "execution_count": 7,
      "metadata": {
        "id": "pQW8TMNYWQUS"
      },
      "outputs": [],
      "source": [
        "def accuracy(pred, y):\n",
        "    correct = (pred.argmax(dim=1) == y.argmax(dim=1)).type(torch.int8).sum().item()\n",
        "    return correct / y.shape[0] # average"
      ]
    },
    {
      "cell_type": "code",
      "execution_count": 8,
      "metadata": {
        "id": "Ae6zLlYFWQUS"
      },
      "outputs": [],
      "source": [
        "def train(model, x, y, loss_fn, optimizer):\n",
        "    model.train()\n",
        "\n",
        "    # Loop over batches\n",
        "    for i in range(x.shape[0]):\n",
        "        # Forward pass and loss calculation\n",
        "        pred = model(x[i])\n",
        "        loss = loss_fn(pred, y[i])\n",
        "\n",
        "        # Backward pass and optimization\n",
        "        optimizer.zero_grad()\n",
        "        loss.backward()\n",
        "        optimizer.step()"
      ]
    },
    {
      "cell_type": "code",
      "execution_count": 9,
      "metadata": {
        "id": "u_CQ9OlkWQUS"
      },
      "outputs": [],
      "source": [
        "def validation(model, x, y, loss_fn):\n",
        "    model.eval()  # Set model to evaluation mode\n",
        "    with torch.no_grad():  # Disable gradient calculation for validation\n",
        "        pred = model(x)\n",
        "        loss = loss_fn(pred, y).item()\n",
        "    return pred, loss"
      ]
    },
    {
      "cell_type": "code",
      "execution_count": 21,
      "metadata": {
        "id": "GFzm2ruFWQUT"
      },
      "outputs": [],
      "source": [
        "def top_level_func_training(model,\n",
        "                            x_train,\n",
        "                            y_train,\n",
        "                            x_test,\n",
        "                            y_test,\n",
        "                            loss_fn,\n",
        "                            optimizer,\n",
        "                            MODEL_PATH,\n",
        "                            number_epochs=0,\n",
        "                            patience=10,\n",
        "                            save=True):\n",
        "    # Initialize Variables for EarlyStopping\n",
        "    best_loss = model.loss_test_history[-1] if len(model.loss_test_history) else float('inf')\n",
        "    best_model_weights = copy.deepcopy(model.state_dict())\n",
        "\n",
        "    start_time = time.time()\n",
        "    # Training Loop with Early Stopping:\n",
        "    for epoch in tqdm(range(number_epochs)):\n",
        "        # Train\n",
        "        train(model, x_train, y_train, loss_fn, optimizer)\n",
        "\n",
        "        # Validation\n",
        "        val_pred, val_loss = validation(model, x_test, y_test, loss_fn)\n",
        "        train_pred, train_loss = validation(model, x_train, y_train, loss_fn)\n",
        "\n",
        "        # Early stopping\n",
        "        if val_loss < best_loss:\n",
        "            best_loss = val_loss\n",
        "            best_model_weights = copy.deepcopy(model.state_dict())  # Deep copy here\n",
        "            patience = 10  # Reset patience counter\n",
        "        else:\n",
        "            patience -= 1\n",
        "            if patience == 0:\n",
        "                print('Early stopping...')\n",
        "                break\n",
        "\n",
        "        # Save accuracy and loss on test\n",
        "        model.accuracy_test_history.append(accuracy(val_pred, y_test))\n",
        "        model.loss_test_history.append(val_loss)\n",
        "\n",
        "        # Save accuracy and loss on train\n",
        "        model.accuracy_train_history.append(accuracy(train_pred, y_train))\n",
        "        model.loss_train_history.append(train_loss)\n",
        "\n",
        "    end_time = time.time()\n",
        "    model.train_time += (end_time - start_time)\n",
        "    # Load the best model weights then save on disc\n",
        "    model.load_state_dict(best_model_weights)\n",
        "    if save:\n",
        "        model.save(MODEL_PATH)"
      ]
    },
    {
      "cell_type": "code",
      "execution_count": 24,
      "metadata": {
        "id": "-VjXL7QzWQUT"
      },
      "outputs": [],
      "source": [
        "def plot(model):\n",
        "    plt.figure(figsize=(15, 5))\n",
        "    plt.subplot(1, 2, 1)\n",
        "    plt.plot(np.arange(len(model.accuracy_train_history)), np.array(model.accuracy_train_history) * 100, label='Train')\n",
        "    plt.plot(np.arange(len(model.accuracy_test_history)), np.array(model.accuracy_test_history) * 100, label='Test')\n",
        "    plt.xlabel('Epoch')\n",
        "    plt.ylabel('Accuracy (%)')\n",
        "    plt.title('Accuracy (batch size=100)')\n",
        "    plt.legend()\n",
        "    plt.grid()\n",
        "\n",
        "    plt.subplot(1, 2, 2)\n",
        "    plt.plot(np.arange(len(model.loss_train_history)), np.array(model.loss_train_history), label='Train')\n",
        "    plt.plot(np.arange(len(model.loss_test_history)), np.array(model.loss_test_history), label='Test')\n",
        "    plt.xlabel('Epoch')\n",
        "    plt.ylabel('Loss')\n",
        "    plt.title('Loss (batch size=100)')\n",
        "    plt.legend()\n",
        "    plt.grid()\n",
        "    plt.show()\n",
        "    print(f'best loss on test dataset = {model.loss_test_history[-1]:.4f}')\n",
        "    print(f'best loss on train dataset = {model.loss_train_history[-1]:.4f}')\n",
        "    print(f'best accuracy on test dataset = {model.accuracy_test_history[-1] * 100}%')\n",
        "    print(f'train time = {model.train_time}')"
      ]
    },
    {
      "cell_type": "markdown",
      "metadata": {
        "id": "955okaXXWQUT"
      },
      "source": [
        "# Prepare data\n",
        "\n"
      ]
    },
    {
      "cell_type": "code",
      "source": [
        "x_train_tensor = torch.load(BASE_PATH + 'tensors/x_train_tensor.pt', weights_only=False)\n",
        "y_train_tensor = torch.load(BASE_PATH + 'tensors/y_train_tensor.pt', weights_only=False)\n",
        "x_test_tensor = torch.load(BASE_PATH + 'tensors/x_test_tensor.pt', weights_only=False)\n",
        "y_test_tensor = torch.load(BASE_PATH + 'tensors/y_test_tensor.pt', weights_only=False)"
      ],
      "metadata": {
        "id": "mIyEQrGs9-kI"
      },
      "execution_count": 12,
      "outputs": []
    },
    {
      "cell_type": "markdown",
      "source": [
        "## Create Mini-batch"
      ],
      "metadata": {
        "id": "-C73zwTp99Gx"
      }
    },
    {
      "cell_type": "code",
      "execution_count": 13,
      "metadata": {
        "id": "-E43NF6oWQUT",
        "outputId": "18b633a8-32c0-459a-d600-9a11842f3b84",
        "colab": {
          "base_uri": "https://localhost:8080/"
        }
      },
      "outputs": [
        {
          "output_type": "stream",
          "name": "stdout",
          "text": [
            "torch.Size([100000, 17990])\n",
            "torch.Size([100000, 10])\n"
          ]
        }
      ],
      "source": [
        "print(x_train_tensor.shape)\n",
        "print(y_train_tensor.shape)"
      ]
    },
    {
      "cell_type": "code",
      "execution_count": 14,
      "metadata": {
        "id": "3Ueqq3DCWQUU"
      },
      "outputs": [],
      "source": [
        "batch_size = 100\n",
        "x_train_batch = x_train_tensor.reshape(-1, batch_size, x_train_tensor.shape[1])\n",
        "y_train_batch = y_train_tensor.reshape(-1, batch_size, y_train_tensor.shape[1])"
      ]
    },
    {
      "cell_type": "code",
      "execution_count": 15,
      "metadata": {
        "id": "W61S9u-NWQUU",
        "outputId": "39a20af5-8caa-42d8-a885-d437b97676fd",
        "colab": {
          "base_uri": "https://localhost:8080/"
        }
      },
      "outputs": [
        {
          "output_type": "stream",
          "name": "stdout",
          "text": [
            "torch.Size([1000, 100, 17990])\n",
            "torch.Size([1000, 100, 10])\n"
          ]
        }
      ],
      "source": [
        "print(x_train_batch.shape)\n",
        "print(y_train_batch.shape)"
      ]
    },
    {
      "cell_type": "markdown",
      "metadata": {
        "id": "u8rkP-dlWQUU"
      },
      "source": [
        "## Move to GPU"
      ]
    },
    {
      "cell_type": "code",
      "execution_count": 16,
      "metadata": {
        "id": "WNRKqfvGWQUU"
      },
      "outputs": [],
      "source": [
        "x_train_batch = x_train_batch.to(device)\n",
        "y_train_batch = y_train_batch.to(device)\n",
        "x_test_tensor = x_test_tensor.to(device)\n",
        "y_test_tensor = y_test_tensor.to(device)"
      ]
    },
    {
      "cell_type": "markdown",
      "metadata": {
        "id": "OXl1LnBiWQUU"
      },
      "source": [
        "# Define neural network model"
      ]
    },
    {
      "cell_type": "code",
      "execution_count": 17,
      "metadata": {
        "id": "BmcgH6ZwWQUU"
      },
      "outputs": [],
      "source": [
        "features = x_train_batch.shape[2]\n",
        "\n",
        "class NeuralNetwork1(MyBaseModel):\n",
        "    def __init__(self, *args, **kwargs):\n",
        "        super().__init__(*args, **kwargs)\n",
        "        self.linear_relu_stack = nn.Sequential(\n",
        "            nn.Linear(features, features*2//3),\n",
        "            nn.ReLU(),\n",
        "            nn.Linear(features*2//3, features*2//3//2),\n",
        "            nn.ReLU(),\n",
        "            nn.Linear(features*2//3//2, 10),\n",
        "            nn.Softmax(dim=1)\n",
        "        )\n",
        "\n",
        "    def forward(self, x):\n",
        "        logits = self.linear_relu_stack(x)\n",
        "        return logits"
      ]
    },
    {
      "cell_type": "markdown",
      "metadata": {
        "id": "aIkHh3TTWQUV"
      },
      "source": [
        "# Train the model\n",
        "\n",
        "## Model 1"
      ]
    },
    {
      "cell_type": "code",
      "execution_count": 18,
      "metadata": {
        "id": "t3aTXuewWQUV",
        "outputId": "83428e01-f50c-434a-f7b9-06b496d55f48",
        "colab": {
          "base_uri": "https://localhost:8080/"
        }
      },
      "outputs": [
        {
          "output_type": "stream",
          "name": "stdout",
          "text": [
            "Model not found!\n"
          ]
        }
      ],
      "source": [
        "MODEL_PATH = BASE_PATH + 'models/nlp_model1.pt'\n",
        "model = NeuralNetwork1.load(MODEL_PATH)\n",
        "if not model:\n",
        "    model = NeuralNetwork1()\n",
        "model = model.to(device)\n",
        "model = model.type(torch.float16)"
      ]
    },
    {
      "cell_type": "code",
      "execution_count": 30,
      "metadata": {
        "id": "yp3ojSnrWQUV",
        "outputId": "f9606a14-26b9-4b34-aa19-5289becc42cf",
        "colab": {
          "base_uri": "https://localhost:8080/",
          "height": 66,
          "referenced_widgets": [
            "9ca5719bbea241708bfd7f15f9ca6cd9",
            "4a18a20fc3d743c1a055922b7dacf6f0",
            "c88c9ca1f7f543a688ac0e23e42e6eb8",
            "da0258336309465ba583f0ddaf5d3f3d",
            "748e7e8b8a494884b73a4a61263d2136",
            "6b8994b082534554a4ec19ee556f39fb",
            "4fbc928db694430d848257779b041045",
            "80c1108e235d44d6abb0f6b69243d395",
            "fca05ef27cb542d78f434a23d911cb77",
            "2d646f5998844d8caa448a1318198214",
            "74b731ed773c40aea193b4efc32017da"
          ]
        }
      },
      "outputs": [
        {
          "output_type": "display_data",
          "data": {
            "text/plain": [
              "  0%|          | 0/20 [00:00<?, ?it/s]"
            ],
            "application/vnd.jupyter.widget-view+json": {
              "version_major": 2,
              "version_minor": 0,
              "model_id": "9ca5719bbea241708bfd7f15f9ca6cd9"
            }
          },
          "metadata": {}
        },
        {
          "output_type": "stream",
          "name": "stdout",
          "text": [
            "Early stopping...\n"
          ]
        }
      ],
      "source": [
        "%%skip\n",
        "learning_rate = 0.01\n",
        "loss_fn = nn.CrossEntropyLoss()\n",
        "optimizer = torch.optim.SGD(model.parameters(), lr=learning_rate, momentum=0.9)\n",
        "top_level_func_training(model,\n",
        "                        x_train_batch,\n",
        "                        y_train_batch,\n",
        "                        x_test_tensor,\n",
        "                        y_test_tensor,\n",
        "                        loss_fn,\n",
        "                        optimizer,\n",
        "                        MODEL_PATH,\n",
        "                        number_epochs=0,\n",
        "                        patience=20)"
      ]
    },
    {
      "cell_type": "code",
      "execution_count": 31,
      "metadata": {
        "id": "JNK9UcKHWQUV",
        "outputId": "1dd3eda8-201d-4396-c384-996dcc81dac2",
        "colab": {
          "base_uri": "https://localhost:8080/",
          "height": 451
        }
      },
      "outputs": [
        {
          "output_type": "display_data",
          "data": {
            "text/plain": [
              "<Figure size 1500x500 with 2 Axes>"
            ],
            "image/png": "[encoded data removed]"
          },
          "metadata": {}
        },
        {
          "output_type": "stream",
          "name": "stdout",
          "text": [
            "best loss on test dataset = 2.4805\n",
            "best loss on train dataset = inf\n",
            "best accuracy on test dataset = 32.80628668812725%\n",
            "train time = 2050.7365429401398\n"
          ]
        }
      ],
      "source": [
        "plot(model)"
      ]
    }
  ],
  "metadata": {
    "accelerator": "GPU",
    "colab": {
      "gpuType": "T4",
      "provenance": []
    },
    "kernelspec": {
      "display_name": ".venv",
      "language": "python",
      "name": "python3"
    },
    "language_info": {
      "codemirror_mode": {
        "name": "ipython",
        "version": 3
      },
      "file_extension": ".py",
      "mimetype": "text/x-python",
      "name": "python",
      "nbconvert_exporter": "python",
      "pygments_lexer": "ipython3",
      "version": "3.10.4"
    },
    "widgets": {
      "application/vnd.jupyter.widget-state+json": {
        "9ca5719bbea241708bfd7f15f9ca6cd9": {
          "model_module": "@jupyter-widgets/controls",
          "model_name": "HBoxModel",
          "model_module_version": "1.5.0",
          "state": {
            "_dom_classes": [],
            "_model_module": "@jupyter-widgets/controls",
            "_model_module_version": "1.5.0",
            "_model_name": "HBoxModel",
            "_view_count": null,
            "_view_module": "@jupyter-widgets/controls",
            "_view_module_version": "1.5.0",
            "_view_name": "HBoxView",
            "box_style": "",
            "children": [
              "IPY_MODEL_4a18a20fc3d743c1a055922b7dacf6f0",
              "IPY_MODEL_c88c9ca1f7f543a688ac0e23e42e6eb8",
              "IPY_MODEL_da0258336309465ba583f0ddaf5d3f3d"
            ],
            "layout": "IPY_MODEL_748e7e8b8a494884b73a4a61263d2136"
          }
        },
        "4a18a20fc3d743c1a055922b7dacf6f0": {
          "model_module": "@jupyter-widgets/controls",
          "model_name": "HTMLModel",
          "model_module_version": "1.5.0",
          "state": {
            "_dom_classes": [],
            "_model_module": "@jupyter-widgets/controls",
            "_model_module_version": "1.5.0",
            "_model_name": "HTMLModel",
            "_view_count": null,
            "_view_module": "@jupyter-widgets/controls",
            "_view_module_version": "1.5.0",
            "_view_name": "HTMLView",
            "description": "",
            "description_tooltip": null,
            "layout": "IPY_MODEL_6b8994b082534554a4ec19ee556f39fb",
            "placeholder": "​",
            "style": "IPY_MODEL_4fbc928db694430d848257779b041045",
            "value": " 95%"
          }
        },
        "c88c9ca1f7f543a688ac0e23e42e6eb8": {
          "model_module": "@jupyter-widgets/controls",
          "model_name": "FloatProgressModel",
          "model_module_version": "1.5.0",
          "state": {
            "_dom_classes": [],
            "_model_module": "@jupyter-widgets/controls",
            "_model_module_version": "1.5.0",
            "_model_name": "FloatProgressModel",
            "_view_count": null,
            "_view_module": "@jupyter-widgets/controls",
            "_view_module_version": "1.5.0",
            "_view_name": "ProgressView",
            "bar_style": "danger",
            "description": "",
            "description_tooltip": null,
            "layout": "IPY_MODEL_80c1108e235d44d6abb0f6b69243d395",
            "max": 20,
            "min": 0,
            "orientation": "horizontal",
            "style": "IPY_MODEL_fca05ef27cb542d78f434a23d911cb77",
            "value": 19
          }
        },
        "da0258336309465ba583f0ddaf5d3f3d": {
          "model_module": "@jupyter-widgets/controls",
          "model_name": "HTMLModel",
          "model_module_version": "1.5.0",
          "state": {
            "_dom_classes": [],
            "_model_module": "@jupyter-widgets/controls",
            "_model_module_version": "1.5.0",
            "_model_name": "HTMLModel",
            "_view_count": null,
            "_view_module": "@jupyter-widgets/controls",
            "_view_module_version": "1.5.0",
            "_view_name": "HTMLView",
            "description": "",
            "description_tooltip": null,
            "layout": "IPY_MODEL_2d646f5998844d8caa448a1318198214",
            "placeholder": "​",
            "style": "IPY_MODEL_74b731ed773c40aea193b4efc32017da",
            "value": " 19/20 [13:39&lt;00:40, 40.99s/it]"
          }
        },
        "748e7e8b8a494884b73a4a61263d2136": {
          "model_module": "@jupyter-widgets/base",
          "model_name": "LayoutModel",
          "model_module_version": "1.2.0",
          "state": {
            "_model_module": "@jupyter-widgets/base",
            "_model_module_version": "1.2.0",
            "_model_name": "LayoutModel",
            "_view_count": null,
            "_view_module": "@jupyter-widgets/base",
            "_view_module_version": "1.2.0",
            "_view_name": "LayoutView",
            "align_content": null,
            "align_items": null,
            "align_self": null,
            "border": null,
            "bottom": null,
            "display": null,
            "flex": null,
            "flex_flow": null,
            "grid_area": null,
            "grid_auto_columns": null,
            "grid_auto_flow": null,
            "grid_auto_rows": null,
            "grid_column": null,
            "grid_gap": null,
            "grid_row": null,
            "grid_template_areas": null,
            "grid_template_columns": null,
            "grid_template_rows": null,
            "height": null,
            "justify_content": null,
            "justify_items": null,
            "left": null,
            "margin": null,
            "max_height": null,
            "max_width": null,
            "min_height": null,
            "min_width": null,
            "object_fit": null,
            "object_position": null,
            "order": null,
            "overflow": null,
            "overflow_x": null,
            "overflow_y": null,
            "padding": null,
            "right": null,
            "top": null,
            "visibility": null,
            "width": null
          }
        },
        "6b8994b082534554a4ec19ee556f39fb": {
          "model_module": "@jupyter-widgets/base",
          "model_name": "LayoutModel",
          "model_module_version": "1.2.0",
          "state": {
            "_model_module": "@jupyter-widgets/base",
            "_model_module_version": "1.2.0",
            "_model_name": "LayoutModel",
            "_view_count": null,
            "_view_module": "@jupyter-widgets/base",
            "_view_module_version": "1.2.0",
            "_view_name": "LayoutView",
            "align_content": null,
            "align_items": null,
            "align_self": null,
            "border": null,
            "bottom": null,
            "display": null,
            "flex": null,
            "flex_flow": null,
            "grid_area": null,
            "grid_auto_columns": null,
            "grid_auto_flow": null,
            "grid_auto_rows": null,
            "grid_column": null,
            "grid_gap": null,
            "grid_row": null,
            "grid_template_areas": null,
            "grid_template_columns": null,
            "grid_template_rows": null,
            "height": null,
            "justify_content": null,
            "justify_items": null,
            "left": null,
            "margin": null,
            "max_height": null,
            "max_width": null,
            "min_height": null,
            "min_width": null,
            "object_fit": null,
            "object_position": null,
            "order": null,
            "overflow": null,
            "overflow_x": null,
            "overflow_y": null,
            "padding": null,
            "right": null,
            "top": null,
            "visibility": null,
            "width": null
          }
        },
        "4fbc928db694430d848257779b041045": {
          "model_module": "@jupyter-widgets/controls",
          "model_name": "DescriptionStyleModel",
          "model_module_version": "1.5.0",
          "state": {
            "_model_module": "@jupyter-widgets/controls",
            "_model_module_version": "1.5.0",
            "_model_name": "DescriptionStyleModel",
            "_view_count": null,
            "_view_module": "@jupyter-widgets/base",
            "_view_module_version": "1.2.0",
            "_view_name": "StyleView",
            "description_width": ""
          }
        },
        "80c1108e235d44d6abb0f6b69243d395": {
          "model_module": "@jupyter-widgets/base",
          "model_name": "LayoutModel",
          "model_module_version": "1.2.0",
          "state": {
            "_model_module": "@jupyter-widgets/base",
            "_model_module_version": "1.2.0",
            "_model_name": "LayoutModel",
            "_view_count": null,
            "_view_module": "@jupyter-widgets/base",
            "_view_module_version": "1.2.0",
            "_view_name": "LayoutView",
            "align_content": null,
            "align_items": null,
            "align_self": null,
            "border": null,
            "bottom": null,
            "display": null,
            "flex": null,
            "flex_flow": null,
            "grid_area": null,
            "grid_auto_columns": null,
            "grid_auto_flow": null,
            "grid_auto_rows": null,
            "grid_column": null,
            "grid_gap": null,
            "grid_row": null,
            "grid_template_areas": null,
            "grid_template_columns": null,
            "grid_template_rows": null,
            "height": null,
            "justify_content": null,
            "justify_items": null,
            "left": null,
            "margin": null,
            "max_height": null,
            "max_width": null,
            "min_height": null,
            "min_width": null,
            "object_fit": null,
            "object_position": null,
            "order": null,
            "overflow": null,
            "overflow_x": null,
            "overflow_y": null,
            "padding": null,
            "right": null,
            "top": null,
            "visibility": null,
            "width": null
          }
        },
        "fca05ef27cb542d78f434a23d911cb77": {
          "model_module": "@jupyter-widgets/controls",
          "model_name": "ProgressStyleModel",
          "model_module_version": "1.5.0",
          "state": {
            "_model_module": "@jupyter-widgets/controls",
            "_model_module_version": "1.5.0",
            "_model_name": "ProgressStyleModel",
            "_view_count": null,
            "_view_module": "@jupyter-widgets/base",
            "_view_module_version": "1.2.0",
            "_view_name": "StyleView",
            "bar_color": null,
            "description_width": ""
          }
        },
        "2d646f5998844d8caa448a1318198214": {
          "model_module": "@jupyter-widgets/base",
          "model_name": "LayoutModel",
          "model_module_version": "1.2.0",
          "state": {
            "_model_module": "@jupyter-widgets/base",
            "_model_module_version": "1.2.0",
            "_model_name": "LayoutModel",
            "_view_count": null,
            "_view_module": "@jupyter-widgets/base",
            "_view_module_version": "1.2.0",
            "_view_name": "LayoutView",
            "align_content": null,
            "align_items": null,
            "align_self": null,
            "border": null,
            "bottom": null,
            "display": null,
            "flex": null,
            "flex_flow": null,
            "grid_area": null,
            "grid_auto_columns": null,
            "grid_auto_flow": null,
            "grid_auto_rows": null,
            "grid_column": null,
            "grid_gap": null,
            "grid_row": null,
            "grid_template_areas": null,
            "grid_template_columns": null,
            "grid_template_rows": null,
            "height": null,
            "justify_content": null,
            "justify_items": null,
            "left": null,
            "margin": null,
            "max_height": null,
            "max_width": null,
            "min_height": null,
            "min_width": null,
            "object_fit": null,
            "object_position": null,
            "order": null,
            "overflow": null,
            "overflow_x": null,
            "overflow_y": null,
            "padding": null,
            "right": null,
            "top": null,
            "visibility": null,
            "width": null
          }
        },
        "74b731ed773c40aea193b4efc32017da": {
          "model_module": "@jupyter-widgets/controls",
          "model_name": "DescriptionStyleModel",
          "model_module_version": "1.5.0",
          "state": {
            "_model_module": "@jupyter-widgets/controls",
            "_model_module_version": "1.5.0",
            "_model_name": "DescriptionStyleModel",
            "_view_count": null,
            "_view_module": "@jupyter-widgets/base",
            "_view_module_version": "1.2.0",
            "_view_name": "StyleView",
            "description_width": ""
          }
        }
      }
    }
  },
  "nbformat": 4,
  "nbformat_minor": 0
}