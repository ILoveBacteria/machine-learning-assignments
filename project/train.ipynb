{
  "cells": [
    {
      "cell_type": "code",
      "execution_count": 1,
      "metadata": {
        "id": "eWVSoXffWQT8"
      },
      "outputs": [],
      "source": [
        "from tqdm.notebook import tqdm\n",
        "import pandas as pd\n",
        "from sklearn.feature_extraction.text import ENGLISH_STOP_WORDS\n",
        "import torch\n",
        "\n",
        "# Importing libraries\n",
        "import copy\n",
        "import os\n",
        "\n",
        "import numpy as np\n",
        "import matplotlib.pyplot as plt\n",
        "from tqdm.notebook import tqdm\n",
        "import time\n",
        "\n",
        "import torchvision\n",
        "from torchvision import transforms\n",
        "\n",
        "import torch\n",
        "import torch.nn as nn\n",
        "import torch.nn.functional as F\n",
        "import torch.optim as optim\n",
        "from torch.utils.data import Subset\n",
        "from typing import Tuple, List\n",
        "from torch.optim import Optimizer\n",
        "from torch.utils.data import DataLoader"
      ]
    },
    {
      "cell_type": "code",
      "execution_count": 2,
      "metadata": {
        "colab": {
          "base_uri": "https://localhost:8080/"
        },
        "id": "QVBKIRZjWQT9",
        "outputId": "ae123360-f70f-454d-e88a-894dd48bdbf1"
      },
      "outputs": [
        {
          "output_type": "stream",
          "name": "stdout",
          "text": [
            "Mounted at /content/drive\n"
          ]
        }
      ],
      "source": [
        "from google.colab import drive\n",
        "drive.mount('/content/drive')"
      ]
    },
    {
      "cell_type": "code",
      "execution_count": 3,
      "metadata": {
        "id": "l9EtYzHYWQT-"
      },
      "outputs": [],
      "source": [
        "import os\n",
        "\n",
        "BASE_PATH = 'drive/MyDrive/NLP_project/'\n",
        "# BASE_PATH = './'\n",
        "if not os.path.exists(BASE_PATH):\n",
        "    raise ValueError('path does not exist')"
      ]
    },
    {
      "cell_type": "code",
      "execution_count": 4,
      "metadata": {
        "id": "7-gs8NFdWQT-"
      },
      "outputs": [],
      "source": [
        "from IPython.core.magic import register_cell_magic\n",
        "\n",
        "@register_cell_magic\n",
        "def skip(line, cell):\n",
        "    return"
      ]
    },
    {
      "cell_type": "code",
      "execution_count": 5,
      "metadata": {
        "colab": {
          "base_uri": "https://localhost:8080/"
        },
        "id": "AOqCLTAtWQT_",
        "outputId": "f54a4394-a40a-44c2-c2c7-5cfbad147801"
      },
      "outputs": [
        {
          "output_type": "stream",
          "name": "stdout",
          "text": [
            "cuda\n"
          ]
        }
      ],
      "source": [
        "device = torch.device('cuda') if torch.cuda.is_available() else torch.device('cpu')\n",
        "print(device)"
      ]
    },
    {
      "cell_type": "markdown",
      "metadata": {
        "id": "_yxWioDIWQUR"
      },
      "source": [
        "# Define Base Model"
      ]
    },
    {
      "cell_type": "code",
      "execution_count": 6,
      "metadata": {
        "id": "XzCwphLSWQUS"
      },
      "outputs": [],
      "source": [
        "class MyBaseModel(nn.Module):\n",
        "    def __init__(self):\n",
        "        super().__init__()\n",
        "        self.accuracy_train_history = []\n",
        "        self.accuracy_test_history = []\n",
        "        self.loss_train_history = []\n",
        "        self.loss_test_history = []\n",
        "        self.train_time = 0\n",
        "\n",
        "    def save(self, path):\n",
        "        torch.save(self, path)\n",
        "\n",
        "    @staticmethod\n",
        "    def load(path) -> nn.Module|None:\n",
        "        model = None\n",
        "        if os.path.exists(path):\n",
        "            print(f'Loading from disc: {path}')\n",
        "            model = torch.load(path, weights_only=False)\n",
        "            model.eval()\n",
        "        else:\n",
        "            print('Model not found!')\n",
        "        return model"
      ]
    },
    {
      "cell_type": "markdown",
      "metadata": {
        "id": "yiIE27-7WQUS"
      },
      "source": [
        "# Implement functions\n",
        "\n",
        "- accuracy\n",
        "- train\n",
        "- validation\n",
        "- top level function for training\n",
        "- plot"
      ]
    },
    {
      "cell_type": "code",
      "execution_count": 7,
      "metadata": {
        "id": "pQW8TMNYWQUS"
      },
      "outputs": [],
      "source": [
        "def accuracy(pred, y):\n",
        "    correct = (pred.argmax(dim=1) == y.argmax(dim=1)).type(torch.int8).sum().item()\n",
        "    return correct / y.shape[0] # average"
      ]
    },
    {
      "cell_type": "code",
      "execution_count": 8,
      "metadata": {
        "id": "Ae6zLlYFWQUS"
      },
      "outputs": [],
      "source": [
        "def train(model, x, y, loss_fn, optimizer):\n",
        "    model.train()\n",
        "\n",
        "    # Loop over batches\n",
        "    for i in range(x.shape[0]):\n",
        "        # Forward pass and loss calculation\n",
        "        pred = model(x[i])\n",
        "        loss = loss_fn(pred, y[i])\n",
        "\n",
        "        # Backward pass and optimization\n",
        "        optimizer.zero_grad()\n",
        "        loss.backward()\n",
        "        optimizer.step()"
      ]
    },
    {
      "cell_type": "code",
      "execution_count": 9,
      "metadata": {
        "id": "u_CQ9OlkWQUS"
      },
      "outputs": [],
      "source": [
        "def validation(model, x, y, loss_fn):\n",
        "    model.eval()  # Set model to evaluation mode\n",
        "    with torch.no_grad():  # Disable gradient calculation for validation\n",
        "        pred = model(x)\n",
        "        loss = loss_fn(pred, y).item()\n",
        "    return pred, loss"
      ]
    },
    {
      "cell_type": "code",
      "execution_count": 10,
      "metadata": {
        "id": "GFzm2ruFWQUT"
      },
      "outputs": [],
      "source": [
        "def top_level_func_training(model,\n",
        "                            x_train,\n",
        "                            y_train,\n",
        "                            x_test,\n",
        "                            y_test,\n",
        "                            loss_fn,\n",
        "                            optimizer,\n",
        "                            MODEL_PATH,\n",
        "                            number_epochs=0,\n",
        "                            patience=10,\n",
        "                            save=True):\n",
        "    # Initialize Variables for EarlyStopping\n",
        "    best_loss = float('inf')\n",
        "    best_model_weights = copy.deepcopy(model.state_dict())\n",
        "\n",
        "    start_time = time.time()\n",
        "    # Training Loop with Early Stopping:\n",
        "    for epoch in tqdm(range(number_epochs)):\n",
        "        # Train\n",
        "        train(model, x_train, y_train, loss_fn, optimizer)\n",
        "\n",
        "        # Validation\n",
        "        val_pred, val_loss = validation(model, x_test, y_test, loss_fn)\n",
        "        train_pred, train_loss = validation(model, x_train, y_train, loss_fn)\n",
        "\n",
        "        # Early stopping\n",
        "        if val_loss < best_loss:\n",
        "            best_loss = val_loss\n",
        "            best_model_weights = copy.deepcopy(model.state_dict())  # Deep copy here\n",
        "            patience = 10  # Reset patience counter\n",
        "        else:\n",
        "            patience -= 1\n",
        "            if patience == 0:\n",
        "                print('Early stopping...')\n",
        "                break\n",
        "\n",
        "        # Save accuracy and loss on test\n",
        "        model.accuracy_test_history.append(accuracy(val_pred, y_test))\n",
        "        model.loss_test_history.append(val_loss)\n",
        "\n",
        "        # Save accuracy and loss on train\n",
        "        model.accuracy_train_history.append(accuracy(train_pred, y_train))\n",
        "        model.loss_train_history.append(train_loss)\n",
        "\n",
        "    end_time = time.time()\n",
        "    model.train_time += (end_time - start_time)\n",
        "    # Load the best model weights then save on disc\n",
        "    model.load_state_dict(best_model_weights)\n",
        "    if save:\n",
        "        model.save(MODEL_PATH)"
      ]
    },
    {
      "cell_type": "code",
      "execution_count": 11,
      "metadata": {
        "id": "-VjXL7QzWQUT"
      },
      "outputs": [],
      "source": [
        "def plot(model):\n",
        "    plt.figure(figsize=(15, 5))\n",
        "    plt.subplot(1, 2, 1)\n",
        "    plt.plot(np.arange(len(model.accuracy_train_history)), np.array(model.accuracy_train_history) * 100, label='Train')\n",
        "    plt.plot(np.arange(len(model.accuracy_test_history)), np.array(model.accuracy_test_history) * 100, label='Test')\n",
        "    plt.xlabel('Epoch')\n",
        "    plt.ylabel('Accuracy (%)')\n",
        "    plt.title('Accuracy (batch size=100)')\n",
        "    plt.legend()\n",
        "    plt.grid()\n",
        "\n",
        "    plt.subplot(1, 2, 2)\n",
        "    plt.plot(np.arange(len(model.loss_train_history)), np.array(model.loss_train_history), label='Train')\n",
        "    plt.plot(np.arange(len(model.loss_test_history)), np.array(model.loss_test_history), label='Test')\n",
        "    plt.xlabel('Epoch')\n",
        "    plt.ylabel('Loss')\n",
        "    plt.title('Loss (batch size=100)')\n",
        "    plt.legend()\n",
        "    plt.grid()\n",
        "    plt.show()\n",
        "    print(f'best loss on test dataset = {model.loss_test_history[-1]:.2f}')\n",
        "    print(f'best accuracy on test dataset = {model.accuracy_test_history[-1] * 100}%')\n",
        "    print(f'train time = {model.train_time}')"
      ]
    },
    {
      "cell_type": "markdown",
      "metadata": {
        "id": "OXl1LnBiWQUU"
      },
      "source": [
        "# Define neural network model"
      ]
    },
    {
      "cell_type": "code",
      "execution_count": 17,
      "metadata": {
        "id": "BmcgH6ZwWQUU"
      },
      "outputs": [],
      "source": [
        "class NeuralNetwork1(MyBaseModel):\n",
        "    def __init__(self):\n",
        "        super().__init__()\n",
        "        self.linear_relu_stack = nn.Sequential(\n",
        "            nn.Linear(21844, 1000),\n",
        "            nn.ReLU(),\n",
        "            nn.Linear(1000, 500),\n",
        "            nn.ReLU(),\n",
        "            nn.Linear(500, 150),\n",
        "            nn.ReLU(),\n",
        "            nn.Linear(150, 10),\n",
        "            nn.Softmax(dim=1)\n",
        "        )\n",
        "\n",
        "    def forward(self, x):\n",
        "        logits = self.linear_relu_stack(x)\n",
        "        return logits"
      ]
    },
    {
      "cell_type": "markdown",
      "metadata": {
        "id": "955okaXXWQUT"
      },
      "source": [
        "# Prepare data\n",
        "\n"
      ]
    },
    {
      "cell_type": "code",
      "source": [
        "x_train_tensor = torch.load(BASE_PATH + 'tensors/x_train_tensor.pt', weights_only=False)\n",
        "y_train_tensor = torch.load(BASE_PATH + 'tensors/y_train_tensor.pt', weights_only=False)\n",
        "x_test_tensor = torch.load(BASE_PATH + 'tensors/x_test_tensor.pt', weights_only=False)\n",
        "y_test_tensor = torch.load(BASE_PATH + 'tensors/y_test_tensor.pt', weights_only=False)"
      ],
      "metadata": {
        "id": "mIyEQrGs9-kI"
      },
      "execution_count": 13,
      "outputs": []
    },
    {
      "cell_type": "markdown",
      "source": [
        "## Create Mini-batch"
      ],
      "metadata": {
        "id": "-C73zwTp99Gx"
      }
    },
    {
      "cell_type": "code",
      "execution_count": 14,
      "metadata": {
        "id": "-E43NF6oWQUT",
        "outputId": "2bbaeed2-24c9-4de6-9d2f-316d69167484",
        "colab": {
          "base_uri": "https://localhost:8080/"
        }
      },
      "outputs": [
        {
          "output_type": "stream",
          "name": "stdout",
          "text": [
            "torch.Size([130000, 21844])\n",
            "torch.Size([130000, 10])\n"
          ]
        }
      ],
      "source": [
        "print(x_train_tensor.shape)\n",
        "print(y_train_tensor.shape)"
      ]
    },
    {
      "cell_type": "code",
      "execution_count": 15,
      "metadata": {
        "id": "3Ueqq3DCWQUU"
      },
      "outputs": [],
      "source": [
        "batch_size = 100\n",
        "x_train_batch = x_train_tensor.reshape(-1, batch_size, x_train_tensor.shape[1])\n",
        "y_train_batch = y_train_tensor.reshape(-1, batch_size, y_train_tensor.shape[1])"
      ]
    },
    {
      "cell_type": "code",
      "execution_count": 16,
      "metadata": {
        "id": "W61S9u-NWQUU",
        "outputId": "03e7cb45-e696-4819-f9fa-01aa3e9a37ad",
        "colab": {
          "base_uri": "https://localhost:8080/"
        }
      },
      "outputs": [
        {
          "output_type": "stream",
          "name": "stdout",
          "text": [
            "torch.Size([1300, 100, 21844])\n",
            "torch.Size([1300, 100, 10])\n"
          ]
        }
      ],
      "source": [
        "print(x_train_batch.shape)\n",
        "print(y_train_batch.shape)"
      ]
    },
    {
      "cell_type": "markdown",
      "metadata": {
        "id": "u8rkP-dlWQUU"
      },
      "source": [
        "## Move to GPU"
      ]
    },
    {
      "cell_type": "code",
      "execution_count": 18,
      "metadata": {
        "id": "WNRKqfvGWQUU"
      },
      "outputs": [],
      "source": [
        "x_train_batch = x_train_batch.to(device)\n",
        "y_train_batch = y_train_batch.to(device)\n",
        "x_test_tensor = x_test_tensor.to(device)\n",
        "y_test_tensor = y_test_tensor.to(device)"
      ]
    },
    {
      "cell_type": "markdown",
      "metadata": {
        "id": "aIkHh3TTWQUV"
      },
      "source": [
        "# Train the model\n",
        "\n",
        "## Model 1"
      ]
    },
    {
      "cell_type": "code",
      "execution_count": 26,
      "metadata": {
        "id": "t3aTXuewWQUV",
        "outputId": "4bd397bd-d205-4205-894e-9f48d9e0ee8b",
        "colab": {
          "base_uri": "https://localhost:8080/"
        }
      },
      "outputs": [
        {
          "output_type": "stream",
          "name": "stdout",
          "text": [
            "Model not found!\n"
          ]
        }
      ],
      "source": [
        "MODEL_PATH = BASE_PATH + 'models/nlp_model1.pt'\n",
        "model = NeuralNetwork1.load(MODEL_PATH)\n",
        "if not model:\n",
        "    model = NeuralNetwork1()\n",
        "model = model.to(device)\n",
        "model = model.type(torch.float16)"
      ]
    },
    {
      "cell_type": "code",
      "execution_count": 29,
      "metadata": {
        "id": "yp3ojSnrWQUV",
        "outputId": "ff9a22fb-e9d8-405e-ac70-1df209afca7f",
        "colab": {
          "base_uri": "https://localhost:8080/",
          "height": 49,
          "referenced_widgets": [
            "9974e65e2440493d94d8a09176142138",
            "23c4589ae39841bbba0ecf554a985b4f",
            "4c093551ca724738890d1c414ca67504",
            "0abfed362d1049cc9753497d23a97d34",
            "716efdd7a0e942c29ab302e85ce9aaf0",
            "f9893a9fbe444dfdb75ad9677ac30222",
            "31a1c73de6f54beca1f454e740fb447a",
            "a0db0c17855a46ee898a448f09834484",
            "730a7adb55b242f3803841740156e44d",
            "677e3f6486fa4350bc44d5db3dd211a5",
            "101c0a3b49a549ed9c39301d2a34a43d"
          ]
        }
      },
      "outputs": [
        {
          "output_type": "display_data",
          "data": {
            "text/plain": [
              "  0%|          | 0/10 [00:00<?, ?it/s]"
            ],
            "application/vnd.jupyter.widget-view+json": {
              "version_major": 2,
              "version_minor": 0,
              "model_id": "9974e65e2440493d94d8a09176142138"
            }
          },
          "metadata": {}
        }
      ],
      "source": [
        "learning_rate = 0.001\n",
        "loss_fn = nn.CrossEntropyLoss()\n",
        "optimizer = torch.optim.SGD(model.parameters(), lr=learning_rate, momentum=0.9)\n",
        "top_level_func_training(model,\n",
        "                        x_train_batch,\n",
        "                        y_train_batch,\n",
        "                        x_test_tensor,\n",
        "                        y_test_tensor,\n",
        "                        loss_fn,\n",
        "                        optimizer,\n",
        "                        MODEL_PATH,\n",
        "                        number_epochs=10)"
      ]
    },
    {
      "cell_type": "code",
      "execution_count": 30,
      "metadata": {
        "id": "JNK9UcKHWQUV",
        "outputId": "f24724bc-6b09-4449-863c-f4d768231220",
        "colab": {
          "base_uri": "https://localhost:8080/",
          "height": 450
        }
      },
      "outputs": [
        {
          "output_type": "display_data",
          "data": {
            "text/plain": [
              "<Figure size 1500x500 with 2 Axes>"
            ],
            "image/png": "[encoded data removed]"
          },
          "metadata": {}
        },
        {
          "output_type": "stream",
          "name": "stdout",
          "text": [
            "best loss on test dataset = 2.50\n",
            "best accuracy on test dataset = 32.80628668812725%\n",
            "train time = 74.82926726341248\n"
          ]
        }
      ],
      "source": [
        "plot(model)"
      ]
    }
  ],
  "metadata": {
    "accelerator": "GPU",
    "colab": {
      "gpuType": "T4",
      "provenance": []
    },
    "kernelspec": {
      "display_name": ".venv",
      "language": "python",
      "name": "python3"
    },
    "language_info": {
      "codemirror_mode": {
        "name": "ipython",
        "version": 3
      },
      "file_extension": ".py",
      "mimetype": "text/x-python",
      "name": "python",
      "nbconvert_exporter": "python",
      "pygments_lexer": "ipython3",
      "version": "3.10.4"
    },
    "widgets": {
      "application/vnd.jupyter.widget-state+json": {
        "9974e65e2440493d94d8a09176142138": {
          "model_module": "@jupyter-widgets/controls",
          "model_name": "HBoxModel",
          "model_module_version": "1.5.0",
          "state": {
            "_dom_classes": [],
            "_model_module": "@jupyter-widgets/controls",
            "_model_module_version": "1.5.0",
            "_model_name": "HBoxModel",
            "_view_count": null,
            "_view_module": "@jupyter-widgets/controls",
            "_view_module_version": "1.5.0",
            "_view_name": "HBoxView",
            "box_style": "",
            "children": [
              "IPY_MODEL_23c4589ae39841bbba0ecf554a985b4f",
              "IPY_MODEL_4c093551ca724738890d1c414ca67504",
              "IPY_MODEL_0abfed362d1049cc9753497d23a97d34"
            ],
            "layout": "IPY_MODEL_716efdd7a0e942c29ab302e85ce9aaf0"
          }
        },
        "23c4589ae39841bbba0ecf554a985b4f": {
          "model_module": "@jupyter-widgets/controls",
          "model_name": "HTMLModel",
          "model_module_version": "1.5.0",
          "state": {
            "_dom_classes": [],
            "_model_module": "@jupyter-widgets/controls",
            "_model_module_version": "1.5.0",
            "_model_name": "HTMLModel",
            "_view_count": null,
            "_view_module": "@jupyter-widgets/controls",
            "_view_module_version": "1.5.0",
            "_view_name": "HTMLView",
            "description": "",
            "description_tooltip": null,
            "layout": "IPY_MODEL_f9893a9fbe444dfdb75ad9677ac30222",
            "placeholder": "​",
            "style": "IPY_MODEL_31a1c73de6f54beca1f454e740fb447a",
            "value": "100%"
          }
        },
        "4c093551ca724738890d1c414ca67504": {
          "model_module": "@jupyter-widgets/controls",
          "model_name": "FloatProgressModel",
          "model_module_version": "1.5.0",
          "state": {
            "_dom_classes": [],
            "_model_module": "@jupyter-widgets/controls",
            "_model_module_version": "1.5.0",
            "_model_name": "FloatProgressModel",
            "_view_count": null,
            "_view_module": "@jupyter-widgets/controls",
            "_view_module_version": "1.5.0",
            "_view_name": "ProgressView",
            "bar_style": "success",
            "description": "",
            "description_tooltip": null,
            "layout": "IPY_MODEL_a0db0c17855a46ee898a448f09834484",
            "max": 10,
            "min": 0,
            "orientation": "horizontal",
            "style": "IPY_MODEL_730a7adb55b242f3803841740156e44d",
            "value": 10
          }
        },
        "0abfed362d1049cc9753497d23a97d34": {
          "model_module": "@jupyter-widgets/controls",
          "model_name": "HTMLModel",
          "model_module_version": "1.5.0",
          "state": {
            "_dom_classes": [],
            "_model_module": "@jupyter-widgets/controls",
            "_model_module_version": "1.5.0",
            "_model_name": "HTMLModel",
            "_view_count": null,
            "_view_module": "@jupyter-widgets/controls",
            "_view_module_version": "1.5.0",
            "_view_name": "HTMLView",
            "description": "",
            "description_tooltip": null,
            "layout": "IPY_MODEL_677e3f6486fa4350bc44d5db3dd211a5",
            "placeholder": "​",
            "style": "IPY_MODEL_101c0a3b49a549ed9c39301d2a34a43d",
            "value": " 10/10 [00:37&lt;00:00,  3.77s/it]"
          }
        },
        "716efdd7a0e942c29ab302e85ce9aaf0": {
          "model_module": "@jupyter-widgets/base",
          "model_name": "LayoutModel",
          "model_module_version": "1.2.0",
          "state": {
            "_model_module": "@jupyter-widgets/base",
            "_model_module_version": "1.2.0",
            "_model_name": "LayoutModel",
            "_view_count": null,
            "_view_module": "@jupyter-widgets/base",
            "_view_module_version": "1.2.0",
            "_view_name": "LayoutView",
            "align_content": null,
            "align_items": null,
            "align_self": null,
            "border": null,
            "bottom": null,
            "display": null,
            "flex": null,
            "flex_flow": null,
            "grid_area": null,
            "grid_auto_columns": null,
            "grid_auto_flow": null,
            "grid_auto_rows": null,
            "grid_column": null,
            "grid_gap": null,
            "grid_row": null,
            "grid_template_areas": null,
            "grid_template_columns": null,
            "grid_template_rows": null,
            "height": null,
            "justify_content": null,
            "justify_items": null,
            "left": null,
            "margin": null,
            "max_height": null,
            "max_width": null,
            "min_height": null,
            "min_width": null,
            "object_fit": null,
            "object_position": null,
            "order": null,
            "overflow": null,
            "overflow_x": null,
            "overflow_y": null,
            "padding": null,
            "right": null,
            "top": null,
            "visibility": null,
            "width": null
          }
        },
        "f9893a9fbe444dfdb75ad9677ac30222": {
          "model_module": "@jupyter-widgets/base",
          "model_name": "LayoutModel",
          "model_module_version": "1.2.0",
          "state": {
            "_model_module": "@jupyter-widgets/base",
            "_model_module_version": "1.2.0",
            "_model_name": "LayoutModel",
            "_view_count": null,
            "_view_module": "@jupyter-widgets/base",
            "_view_module_version": "1.2.0",
            "_view_name": "LayoutView",
            "align_content": null,
            "align_items": null,
            "align_self": null,
            "border": null,
            "bottom": null,
            "display": null,
            "flex": null,
            "flex_flow": null,
            "grid_area": null,
            "grid_auto_columns": null,
            "grid_auto_flow": null,
            "grid_auto_rows": null,
            "grid_column": null,
            "grid_gap": null,
            "grid_row": null,
            "grid_template_areas": null,
            "grid_template_columns": null,
            "grid_template_rows": null,
            "height": null,
            "justify_content": null,
            "justify_items": null,
            "left": null,
            "margin": null,
            "max_height": null,
            "max_width": null,
            "min_height": null,
            "min_width": null,
            "object_fit": null,
            "object_position": null,
            "order": null,
            "overflow": null,
            "overflow_x": null,
            "overflow_y": null,
            "padding": null,
            "right": null,
            "top": null,
            "visibility": null,
            "width": null
          }
        },
        "31a1c73de6f54beca1f454e740fb447a": {
          "model_module": "@jupyter-widgets/controls",
          "model_name": "DescriptionStyleModel",
          "model_module_version": "1.5.0",
          "state": {
            "_model_module": "@jupyter-widgets/controls",
            "_model_module_version": "1.5.0",
            "_model_name": "DescriptionStyleModel",
            "_view_count": null,
            "_view_module": "@jupyter-widgets/base",
            "_view_module_version": "1.2.0",
            "_view_name": "StyleView",
            "description_width": ""
          }
        },
        "a0db0c17855a46ee898a448f09834484": {
          "model_module": "@jupyter-widgets/base",
          "model_name": "LayoutModel",
          "model_module_version": "1.2.0",
          "state": {
            "_model_module": "@jupyter-widgets/base",
            "_model_module_version": "1.2.0",
            "_model_name": "LayoutModel",
            "_view_count": null,
            "_view_module": "@jupyter-widgets/base",
            "_view_module_version": "1.2.0",
            "_view_name": "LayoutView",
            "align_content": null,
            "align_items": null,
            "align_self": null,
            "border": null,
            "bottom": null,
            "display": null,
            "flex": null,
            "flex_flow": null,
            "grid_area": null,
            "grid_auto_columns": null,
            "grid_auto_flow": null,
            "grid_auto_rows": null,
            "grid_column": null,
            "grid_gap": null,
            "grid_row": null,
            "grid_template_areas": null,
            "grid_template_columns": null,
            "grid_template_rows": null,
            "height": null,
            "justify_content": null,
            "justify_items": null,
            "left": null,
            "margin": null,
            "max_height": null,
            "max_width": null,
            "min_height": null,
            "min_width": null,
            "object_fit": null,
            "object_position": null,
            "order": null,
            "overflow": null,
            "overflow_x": null,
            "overflow_y": null,
            "padding": null,
            "right": null,
            "top": null,
            "visibility": null,
            "width": null
          }
        },
        "730a7adb55b242f3803841740156e44d": {
          "model_module": "@jupyter-widgets/controls",
          "model_name": "ProgressStyleModel",
          "model_module_version": "1.5.0",
          "state": {
            "_model_module": "@jupyter-widgets/controls",
            "_model_module_version": "1.5.0",
            "_model_name": "ProgressStyleModel",
            "_view_count": null,
            "_view_module": "@jupyter-widgets/base",
            "_view_module_version": "1.2.0",
            "_view_name": "StyleView",
            "bar_color": null,
            "description_width": ""
          }
        },
        "677e3f6486fa4350bc44d5db3dd211a5": {
          "model_module": "@jupyter-widgets/base",
          "model_name": "LayoutModel",
          "model_module_version": "1.2.0",
          "state": {
            "_model_module": "@jupyter-widgets/base",
            "_model_module_version": "1.2.0",
            "_model_name": "LayoutModel",
            "_view_count": null,
            "_view_module": "@jupyter-widgets/base",
            "_view_module_version": "1.2.0",
            "_view_name": "LayoutView",
            "align_content": null,
            "align_items": null,
            "align_self": null,
            "border": null,
            "bottom": null,
            "display": null,
            "flex": null,
            "flex_flow": null,
            "grid_area": null,
            "grid_auto_columns": null,
            "grid_auto_flow": null,
            "grid_auto_rows": null,
            "grid_column": null,
            "grid_gap": null,
            "grid_row": null,
            "grid_template_areas": null,
            "grid_template_columns": null,
            "grid_template_rows": null,
            "height": null,
            "justify_content": null,
            "justify_items": null,
            "left": null,
            "margin": null,
            "max_height": null,
            "max_width": null,
            "min_height": null,
            "min_width": null,
            "object_fit": null,
            "object_position": null,
            "order": null,
            "overflow": null,
            "overflow_x": null,
            "overflow_y": null,
            "padding": null,
            "right": null,
            "top": null,
            "visibility": null,
            "width": null
          }
        },
        "101c0a3b49a549ed9c39301d2a34a43d": {
          "model_module": "@jupyter-widgets/controls",
          "model_name": "DescriptionStyleModel",
          "model_module_version": "1.5.0",
          "state": {
            "_model_module": "@jupyter-widgets/controls",
            "_model_module_version": "1.5.0",
            "_model_name": "DescriptionStyleModel",
            "_view_count": null,
            "_view_module": "@jupyter-widgets/base",
            "_view_module_version": "1.2.0",
            "_view_name": "StyleView",
            "description_width": ""
          }
        }
      }
    }
  },
  "nbformat": 4,
  "nbformat_minor": 0
}